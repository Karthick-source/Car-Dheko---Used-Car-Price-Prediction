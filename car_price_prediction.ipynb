{
 "cells": [
  {
   "cell_type": "code",
   "execution_count": 580,
   "id": "16b6c5b8-6acc-4800-893c-6ba09d579e2d",
   "metadata": {},
   "outputs": [],
   "source": [
    "import pandas as pd\n",
    "import ast\n",
    "import numpy as np\n",
    "from sklearn.preprocessing import LabelEncoder,OneHotEncoder,MinMaxScaler\n",
    "import re"
   ]
  },
  {
   "cell_type": "markdown",
   "id": "c9906ab0-063a-4dc9-b732-da91fb45b190",
   "metadata": {},
   "source": [
    "# BANGALORE"
   ]
  },
  {
   "cell_type": "code",
   "execution_count": 2,
   "id": "51482892-9875-4b92-910a-76f9c89fd435",
   "metadata": {},
   "outputs": [],
   "source": [
    "#file paths\n",
    "input_path = \"C:\\\\Users\\\\admin\\\\python\\\\Car Dheko - Used Car Price Prediction\\\\bangalore_cars.xlsx\"\n",
    "output_path = \"C:\\\\Users\\\\admin\\\\python\\\\Car Dheko - Used Car Price Prediction\\\\bangalore_structured.csv\"\n"
   ]
  },
  {
   "cell_type": "code",
   "execution_count": 3,
   "id": "4536c83d-646c-437b-aaee-59277bee95f2",
   "metadata": {},
   "outputs": [],
   "source": [
    "df=pd.read_excel(input_path)"
   ]
  },
  {
   "cell_type": "code",
   "execution_count": 4,
   "id": "b8b6cf1b-a6e6-4072-863a-ffcd8b66f8fc",
   "metadata": {},
   "outputs": [
    {
     "data": {
      "text/html": [
       "<div>\n",
       "<style scoped>\n",
       "    .dataframe tbody tr th:only-of-type {\n",
       "        vertical-align: middle;\n",
       "    }\n",
       "\n",
       "    .dataframe tbody tr th {\n",
       "        vertical-align: top;\n",
       "    }\n",
       "\n",
       "    .dataframe thead th {\n",
       "        text-align: right;\n",
       "    }\n",
       "</style>\n",
       "<table border=\"1\" class=\"dataframe\">\n",
       "  <thead>\n",
       "    <tr style=\"text-align: right;\">\n",
       "      <th></th>\n",
       "      <th>new_car_detail</th>\n",
       "      <th>new_car_overview</th>\n",
       "      <th>new_car_feature</th>\n",
       "      <th>new_car_specs</th>\n",
       "      <th>car_links</th>\n",
       "    </tr>\n",
       "  </thead>\n",
       "  <tbody>\n",
       "    <tr>\n",
       "      <th>0</th>\n",
       "      <td>{'it': 0, 'ft': 'Petrol', 'bt': 'Hatchback', '...</td>\n",
       "      <td>{'heading': 'Car overview', 'top': [{'key': 'R...</td>\n",
       "      <td>{'heading': 'Features', 'top': [{'value': 'Pow...</td>\n",
       "      <td>{'heading': 'Specifications', 'top': [{'key': ...</td>\n",
       "      <td>https://www.cardekho.com/used-car-details/used...</td>\n",
       "    </tr>\n",
       "    <tr>\n",
       "      <th>1</th>\n",
       "      <td>{'it': 0, 'ft': 'Petrol', 'bt': 'SUV', 'km': '...</td>\n",
       "      <td>{'heading': 'Car overview', 'top': [{'key': 'R...</td>\n",
       "      <td>{'heading': 'Features', 'top': [{'value': 'Pow...</td>\n",
       "      <td>{'heading': 'Specifications', 'top': [{'key': ...</td>\n",
       "      <td>https://www.cardekho.com/buy-used-car-details/...</td>\n",
       "    </tr>\n",
       "    <tr>\n",
       "      <th>2</th>\n",
       "      <td>{'it': 0, 'ft': 'Petrol', 'bt': 'Hatchback', '...</td>\n",
       "      <td>{'heading': 'Car overview', 'top': [{'key': 'R...</td>\n",
       "      <td>{'heading': 'Features', 'top': [{'value': 'Pow...</td>\n",
       "      <td>{'heading': 'Specifications', 'top': [{'key': ...</td>\n",
       "      <td>https://www.cardekho.com/used-car-details/used...</td>\n",
       "    </tr>\n",
       "    <tr>\n",
       "      <th>3</th>\n",
       "      <td>{'it': 0, 'ft': 'Petrol', 'bt': 'Sedan', 'km':...</td>\n",
       "      <td>{'heading': 'Car overview', 'top': [{'key': 'R...</td>\n",
       "      <td>{'heading': 'Features', 'top': [{'value': 'Pow...</td>\n",
       "      <td>{'heading': 'Specifications', 'top': [{'key': ...</td>\n",
       "      <td>https://www.cardekho.com/buy-used-car-details/...</td>\n",
       "    </tr>\n",
       "    <tr>\n",
       "      <th>4</th>\n",
       "      <td>{'it': 0, 'ft': 'Diesel', 'bt': 'SUV', 'km': '...</td>\n",
       "      <td>{'heading': 'Car overview', 'top': [{'key': 'R...</td>\n",
       "      <td>{'heading': 'Features', 'top': [{'value': 'Pow...</td>\n",
       "      <td>{'heading': 'Specifications', 'top': [{'key': ...</td>\n",
       "      <td>https://www.cardekho.com/used-car-details/used...</td>\n",
       "    </tr>\n",
       "  </tbody>\n",
       "</table>\n",
       "</div>"
      ],
      "text/plain": [
       "                                      new_car_detail  \\\n",
       "0  {'it': 0, 'ft': 'Petrol', 'bt': 'Hatchback', '...   \n",
       "1  {'it': 0, 'ft': 'Petrol', 'bt': 'SUV', 'km': '...   \n",
       "2  {'it': 0, 'ft': 'Petrol', 'bt': 'Hatchback', '...   \n",
       "3  {'it': 0, 'ft': 'Petrol', 'bt': 'Sedan', 'km':...   \n",
       "4  {'it': 0, 'ft': 'Diesel', 'bt': 'SUV', 'km': '...   \n",
       "\n",
       "                                    new_car_overview  \\\n",
       "0  {'heading': 'Car overview', 'top': [{'key': 'R...   \n",
       "1  {'heading': 'Car overview', 'top': [{'key': 'R...   \n",
       "2  {'heading': 'Car overview', 'top': [{'key': 'R...   \n",
       "3  {'heading': 'Car overview', 'top': [{'key': 'R...   \n",
       "4  {'heading': 'Car overview', 'top': [{'key': 'R...   \n",
       "\n",
       "                                     new_car_feature  \\\n",
       "0  {'heading': 'Features', 'top': [{'value': 'Pow...   \n",
       "1  {'heading': 'Features', 'top': [{'value': 'Pow...   \n",
       "2  {'heading': 'Features', 'top': [{'value': 'Pow...   \n",
       "3  {'heading': 'Features', 'top': [{'value': 'Pow...   \n",
       "4  {'heading': 'Features', 'top': [{'value': 'Pow...   \n",
       "\n",
       "                                       new_car_specs  \\\n",
       "0  {'heading': 'Specifications', 'top': [{'key': ...   \n",
       "1  {'heading': 'Specifications', 'top': [{'key': ...   \n",
       "2  {'heading': 'Specifications', 'top': [{'key': ...   \n",
       "3  {'heading': 'Specifications', 'top': [{'key': ...   \n",
       "4  {'heading': 'Specifications', 'top': [{'key': ...   \n",
       "\n",
       "                                           car_links  \n",
       "0  https://www.cardekho.com/used-car-details/used...  \n",
       "1  https://www.cardekho.com/buy-used-car-details/...  \n",
       "2  https://www.cardekho.com/used-car-details/used...  \n",
       "3  https://www.cardekho.com/buy-used-car-details/...  \n",
       "4  https://www.cardekho.com/used-car-details/used...  "
      ]
     },
     "execution_count": 4,
     "metadata": {},
     "output_type": "execute_result"
    }
   ],
   "source": [
    "df.head()"
   ]
  },
  {
   "cell_type": "code",
   "execution_count": 9,
   "id": "c6b6ec3e-a468-4a25-bbe1-e0f31b5cdfe9",
   "metadata": {},
   "outputs": [
    {
     "name": "stdout",
     "output_type": "stream",
     "text": [
      "      it      ft         bt        km transmission  ownerNo      owner  \\\n",
      "0      0  Petrol  Hatchback  1,20,000       Manual        3  3rd Owner   \n",
      "1      0  Petrol        SUV    32,706       Manual        2  2nd Owner   \n",
      "2      0  Petrol  Hatchback    11,949       Manual        1  1st Owner   \n",
      "3      0  Petrol      Sedan    17,794       Manual        1  1st Owner   \n",
      "4      0  Diesel        SUV    60,000       Manual        1  1st Owner   \n",
      "...   ..     ...        ...       ...          ...      ...        ...   \n",
      "1476   0  Diesel        SUV  1,56,039       Manual        2  2nd Owner   \n",
      "1477   0  Petrol      Sedan    56,000       Manual        2  2nd Owner   \n",
      "1478   0  Petrol  Hatchback    42,000       Manual        2  2nd Owner   \n",
      "1479   0  Diesel  Hatchback    93,003       Manual        1  1st Owner   \n",
      "1480   0  Petrol  Hatchback    36,000    Automatic        2  2nd Owner   \n",
      "\n",
      "          oem               model  modelYear  ...  data_2_list_11_value  \\\n",
      "0      Maruti      Maruti Celerio       2015  ...            235-litres   \n",
      "1        Ford       Ford Ecosport       2018  ...                   NaN   \n",
      "2        Tata          Tata Tiago       2018  ...                     5   \n",
      "3     Hyundai       Hyundai Xcent       2014  ...                     4   \n",
      "4      Maruti  Maruti SX4 S Cross       2015  ...                     5   \n",
      "...       ...                 ...        ...  ...                   ...   \n",
      "1476   Toyota     Toyota Fortuner       2012  ...                     5   \n",
      "1477   Maruti          Maruti SX4       2008  ...            505 litres   \n",
      "1478    Honda          Honda Brio       2014  ...            175-litres   \n",
      "1479  Hyundai         Hyundai i20       2018  ...                     5   \n",
      "1480  Hyundai   Hyundai Grand i10       2017  ...                     5   \n",
      "\n",
      "     commonIcon top_5_key top_5_value data_2_list_12_key data_2_list_12_value  \\\n",
      "0                     NaN         NaN                NaN                  NaN   \n",
      "1                   Seats           5                NaN                  NaN   \n",
      "2                   Seats           5       Cargo Volumn           242-litres   \n",
      "3                   Seats           5       Cargo Volumn           407-litres   \n",
      "4                   Seats           5       Cargo Volumn           353-litres   \n",
      "...         ...       ...         ...                ...                  ...   \n",
      "1476                Seats           7       Cargo Volumn           296-litres   \n",
      "1477                Seats           5                NaN                  NaN   \n",
      "1478                  NaN         NaN                NaN                  NaN   \n",
      "1479                Seats           5       Cargo Volumn           295-litres   \n",
      "1480                Seats           5       Cargo Volumn           256-liters   \n",
      "\n",
      "     data_1_list_8_key data_1_list_8_value  \\\n",
      "0                  NaN                 NaN   \n",
      "1                  NaN                 NaN   \n",
      "2                  NaN                 NaN   \n",
      "3                  NaN                 NaN   \n",
      "4                  NaN                 NaN   \n",
      "...                ...                 ...   \n",
      "1476               NaN                 NaN   \n",
      "1477               NaN                 NaN   \n",
      "1478               NaN                 NaN   \n",
      "1479               NaN                 NaN   \n",
      "1480               NaN                 NaN   \n",
      "\n",
      "                                              car_links       City  \n",
      "0     https://www.cardekho.com/used-car-details/used...  Bangalore  \n",
      "1     https://www.cardekho.com/buy-used-car-details/...  Bangalore  \n",
      "2     https://www.cardekho.com/used-car-details/used...  Bangalore  \n",
      "3     https://www.cardekho.com/buy-used-car-details/...  Bangalore  \n",
      "4     https://www.cardekho.com/used-car-details/used...  Bangalore  \n",
      "...                                                 ...        ...  \n",
      "1476  https://www.cardekho.com/used-car-details/used...  Bangalore  \n",
      "1477  https://www.cardekho.com/used-car-details/used...  Bangalore  \n",
      "1478  https://www.cardekho.com/used-car-details/used...  Bangalore  \n",
      "1479  https://www.cardekho.com/used-car-details/used...  Bangalore  \n",
      "1480  https://www.cardekho.com/used-car-details/used...  Bangalore  \n",
      "\n",
      "[1481 rows x 308 columns]\n"
     ]
    }
   ],
   "source": [
    "def flatten_dict(d, parent_key=''):\n",
    "    flat_dict = {}\n",
    "    \n",
    "    for key, value in d.items():\n",
    "        new_key = f\"{parent_key}_{key}\" if parent_key else key\n",
    "        \n",
    "        if isinstance(value, dict):\n",
    "            # Recursively flatten nested dictionaries\n",
    "            flat_dict.update(flatten_dict(value, new_key))\n",
    "        \n",
    "        elif isinstance(value, list):\n",
    "            # Handle lists: flatten dictionaries inside lists\n",
    "            for i, item in enumerate(value):\n",
    "                if isinstance(item, dict):\n",
    "                    flat_dict.update(flatten_dict(item, f'{new_key}_{i}'))\n",
    "                else:\n",
    "                    flat_dict[f'{new_key}_{i}'] = item\n",
    "        else:\n",
    "            # For non-dict, non-list values, add them directly\n",
    "            flat_dict[new_key] = value\n",
    "            \n",
    "    return flat_dict\n",
    "columns_to_process = [\"new_car_detail\",\"new_car_overview\",\"new_car_feature\",\"new_car_specs\"]\n",
    "structured_data = {}\n",
    "\n",
    "for col in columns_to_process:\n",
    "    flattened_rows = []\n",
    "    for row in df[col]:\n",
    "        row_data = ast.literal_eval(row)\n",
    "        flattened_rows.append(flatten_dict(row_data))\n",
    "    structured_data[col] = pd.DataFrame(flattened_rows)\n",
    "\n",
    "# For carlinks, no need to flatten\n",
    "structured_data[\"car_links\"] = df[[\"car_links\"]].copy()\n",
    "\n",
    "# Combine all flattened data into a single DataFrame\n",
    "bangalore_structured = pd.concat([structured_data[\"new_car_detail\"], \n",
    "                      structured_data[\"new_car_overview\"],\n",
    "                      structured_data[\"new_car_feature\"], \n",
    "                      structured_data[\"new_car_specs\"], \n",
    "                      structured_data[\"car_links\"]], axis=1)\n",
    "\n",
    "# Add a city column\n",
    "bangalore_structured[\"City\"] = \"Bangalore\"\n",
    "\n",
    "# Save the dataframe to a csv file\n",
    "bangalore_structured.to_csv(output_path, index=False)\n",
    "\n",
    "print(bangalore_structured)"
   ]
  },
  {
   "cell_type": "code",
   "execution_count": 63,
   "id": "3dae38ff-4457-444d-a243-d7afbe771890",
   "metadata": {},
   "outputs": [
    {
     "data": {
      "text/html": [
       "<div>\n",
       "<style scoped>\n",
       "    .dataframe tbody tr th:only-of-type {\n",
       "        vertical-align: middle;\n",
       "    }\n",
       "\n",
       "    .dataframe tbody tr th {\n",
       "        vertical-align: top;\n",
       "    }\n",
       "\n",
       "    .dataframe thead th {\n",
       "        text-align: right;\n",
       "    }\n",
       "</style>\n",
       "<table border=\"1\" class=\"dataframe\">\n",
       "  <thead>\n",
       "    <tr style=\"text-align: right;\">\n",
       "      <th></th>\n",
       "      <th>it</th>\n",
       "      <th>ft</th>\n",
       "      <th>bt</th>\n",
       "      <th>km</th>\n",
       "      <th>transmission</th>\n",
       "      <th>ownerNo</th>\n",
       "      <th>owner</th>\n",
       "      <th>oem</th>\n",
       "      <th>model</th>\n",
       "      <th>modelYear</th>\n",
       "      <th>...</th>\n",
       "      <th>data_2_list_11_value</th>\n",
       "      <th>commonIcon</th>\n",
       "      <th>top_5_key</th>\n",
       "      <th>top_5_value</th>\n",
       "      <th>data_2_list_12_key</th>\n",
       "      <th>data_2_list_12_value</th>\n",
       "      <th>data_1_list_8_key</th>\n",
       "      <th>data_1_list_8_value</th>\n",
       "      <th>car_links</th>\n",
       "      <th>City</th>\n",
       "    </tr>\n",
       "  </thead>\n",
       "  <tbody>\n",
       "    <tr>\n",
       "      <th>0</th>\n",
       "      <td>0</td>\n",
       "      <td>Petrol</td>\n",
       "      <td>Hatchback</td>\n",
       "      <td>1,20,000</td>\n",
       "      <td>Manual</td>\n",
       "      <td>3</td>\n",
       "      <td>3rd Owner</td>\n",
       "      <td>Maruti</td>\n",
       "      <td>Maruti Celerio</td>\n",
       "      <td>2015</td>\n",
       "      <td>...</td>\n",
       "      <td>235-litres</td>\n",
       "      <td></td>\n",
       "      <td>NaN</td>\n",
       "      <td>NaN</td>\n",
       "      <td>NaN</td>\n",
       "      <td>NaN</td>\n",
       "      <td>NaN</td>\n",
       "      <td>NaN</td>\n",
       "      <td>https://www.cardekho.com/used-car-details/used...</td>\n",
       "      <td>Bangalore</td>\n",
       "    </tr>\n",
       "    <tr>\n",
       "      <th>1</th>\n",
       "      <td>0</td>\n",
       "      <td>Petrol</td>\n",
       "      <td>SUV</td>\n",
       "      <td>32,706</td>\n",
       "      <td>Manual</td>\n",
       "      <td>2</td>\n",
       "      <td>2nd Owner</td>\n",
       "      <td>Ford</td>\n",
       "      <td>Ford Ecosport</td>\n",
       "      <td>2018</td>\n",
       "      <td>...</td>\n",
       "      <td>NaN</td>\n",
       "      <td></td>\n",
       "      <td>Seats</td>\n",
       "      <td>5</td>\n",
       "      <td>NaN</td>\n",
       "      <td>NaN</td>\n",
       "      <td>NaN</td>\n",
       "      <td>NaN</td>\n",
       "      <td>https://www.cardekho.com/buy-used-car-details/...</td>\n",
       "      <td>Bangalore</td>\n",
       "    </tr>\n",
       "    <tr>\n",
       "      <th>2</th>\n",
       "      <td>0</td>\n",
       "      <td>Petrol</td>\n",
       "      <td>Hatchback</td>\n",
       "      <td>11,949</td>\n",
       "      <td>Manual</td>\n",
       "      <td>1</td>\n",
       "      <td>1st Owner</td>\n",
       "      <td>Tata</td>\n",
       "      <td>Tata Tiago</td>\n",
       "      <td>2018</td>\n",
       "      <td>...</td>\n",
       "      <td>5</td>\n",
       "      <td></td>\n",
       "      <td>Seats</td>\n",
       "      <td>5</td>\n",
       "      <td>Cargo Volumn</td>\n",
       "      <td>242-litres</td>\n",
       "      <td>NaN</td>\n",
       "      <td>NaN</td>\n",
       "      <td>https://www.cardekho.com/used-car-details/used...</td>\n",
       "      <td>Bangalore</td>\n",
       "    </tr>\n",
       "    <tr>\n",
       "      <th>3</th>\n",
       "      <td>0</td>\n",
       "      <td>Petrol</td>\n",
       "      <td>Sedan</td>\n",
       "      <td>17,794</td>\n",
       "      <td>Manual</td>\n",
       "      <td>1</td>\n",
       "      <td>1st Owner</td>\n",
       "      <td>Hyundai</td>\n",
       "      <td>Hyundai Xcent</td>\n",
       "      <td>2014</td>\n",
       "      <td>...</td>\n",
       "      <td>4</td>\n",
       "      <td></td>\n",
       "      <td>Seats</td>\n",
       "      <td>5</td>\n",
       "      <td>Cargo Volumn</td>\n",
       "      <td>407-litres</td>\n",
       "      <td>NaN</td>\n",
       "      <td>NaN</td>\n",
       "      <td>https://www.cardekho.com/buy-used-car-details/...</td>\n",
       "      <td>Bangalore</td>\n",
       "    </tr>\n",
       "    <tr>\n",
       "      <th>4</th>\n",
       "      <td>0</td>\n",
       "      <td>Diesel</td>\n",
       "      <td>SUV</td>\n",
       "      <td>60,000</td>\n",
       "      <td>Manual</td>\n",
       "      <td>1</td>\n",
       "      <td>1st Owner</td>\n",
       "      <td>Maruti</td>\n",
       "      <td>Maruti SX4 S Cross</td>\n",
       "      <td>2015</td>\n",
       "      <td>...</td>\n",
       "      <td>5</td>\n",
       "      <td></td>\n",
       "      <td>Seats</td>\n",
       "      <td>5</td>\n",
       "      <td>Cargo Volumn</td>\n",
       "      <td>353-litres</td>\n",
       "      <td>NaN</td>\n",
       "      <td>NaN</td>\n",
       "      <td>https://www.cardekho.com/used-car-details/used...</td>\n",
       "      <td>Bangalore</td>\n",
       "    </tr>\n",
       "  </tbody>\n",
       "</table>\n",
       "<p>5 rows × 308 columns</p>\n",
       "</div>"
      ],
      "text/plain": [
       "   it      ft         bt        km transmission  ownerNo      owner      oem  \\\n",
       "0   0  Petrol  Hatchback  1,20,000       Manual        3  3rd Owner   Maruti   \n",
       "1   0  Petrol        SUV    32,706       Manual        2  2nd Owner     Ford   \n",
       "2   0  Petrol  Hatchback    11,949       Manual        1  1st Owner     Tata   \n",
       "3   0  Petrol      Sedan    17,794       Manual        1  1st Owner  Hyundai   \n",
       "4   0  Diesel        SUV    60,000       Manual        1  1st Owner   Maruti   \n",
       "\n",
       "                model  modelYear  ...  data_2_list_11_value commonIcon  \\\n",
       "0      Maruti Celerio       2015  ...            235-litres              \n",
       "1       Ford Ecosport       2018  ...                   NaN              \n",
       "2          Tata Tiago       2018  ...                     5              \n",
       "3       Hyundai Xcent       2014  ...                     4              \n",
       "4  Maruti SX4 S Cross       2015  ...                     5              \n",
       "\n",
       "  top_5_key top_5_value data_2_list_12_key data_2_list_12_value  \\\n",
       "0       NaN         NaN                NaN                  NaN   \n",
       "1     Seats           5                NaN                  NaN   \n",
       "2     Seats           5       Cargo Volumn           242-litres   \n",
       "3     Seats           5       Cargo Volumn           407-litres   \n",
       "4     Seats           5       Cargo Volumn           353-litres   \n",
       "\n",
       "  data_1_list_8_key data_1_list_8_value  \\\n",
       "0               NaN                 NaN   \n",
       "1               NaN                 NaN   \n",
       "2               NaN                 NaN   \n",
       "3               NaN                 NaN   \n",
       "4               NaN                 NaN   \n",
       "\n",
       "                                           car_links       City  \n",
       "0  https://www.cardekho.com/used-car-details/used...  Bangalore  \n",
       "1  https://www.cardekho.com/buy-used-car-details/...  Bangalore  \n",
       "2  https://www.cardekho.com/used-car-details/used...  Bangalore  \n",
       "3  https://www.cardekho.com/buy-used-car-details/...  Bangalore  \n",
       "4  https://www.cardekho.com/used-car-details/used...  Bangalore  \n",
       "\n",
       "[5 rows x 308 columns]"
      ]
     },
     "execution_count": 63,
     "metadata": {},
     "output_type": "execute_result"
    }
   ],
   "source": [
    "bangalore_structured.head()"
   ]
  },
  {
   "cell_type": "markdown",
   "id": "9d54bb95-ae2b-4d93-8b7c-affa2bfe00a5",
   "metadata": {},
   "source": [
    "# CHENNAI"
   ]
  },
  {
   "cell_type": "code",
   "execution_count": 31,
   "id": "c47ee355-dcd1-40b9-8e99-f1074c248078",
   "metadata": {},
   "outputs": [],
   "source": [
    "#file paths\n",
    "input_path = \"C:\\\\Users\\\\admin\\\\python\\\\Car Dheko - Used Car Price Prediction\\\\chennai_cars.xlsx\"\n",
    "output_path = \"C:\\\\Users\\\\admin\\\\python\\\\Car Dheko - Used Car Price Prediction\\\\chennai_structured.csv\"\n",
    "\n",
    "df=pd.read_excel(input_path)"
   ]
  },
  {
   "cell_type": "code",
   "execution_count": 33,
   "id": "a0f45a8f-d576-4845-a443-0d0e76eda7a6",
   "metadata": {},
   "outputs": [
    {
     "name": "stdout",
     "output_type": "stream",
     "text": [
      "      it      ft         bt      km transmission  ownerNo      owner  \\\n",
      "0      0  Petrol        SUV  20,000    Automatic        1  1st Owner   \n",
      "1      0  Petrol   Minivans  20,687       Manual        1  1st Owner   \n",
      "2      0  Petrol        SUV  30,000       Manual        1  1st Owner   \n",
      "3      0  Petrol  Hatchback  59,247       Manual        1  1st Owner   \n",
      "4      0  Petrol  Hatchback  50,000       Manual        1  1st Owner   \n",
      "...   ..     ...        ...     ...          ...      ...        ...   \n",
      "1414   0  Petrol  Hatchback  42,891    Automatic        1  1st Owner   \n",
      "1415   0  Diesel        SUV  59,100       Manual        1  1st Owner   \n",
      "1416   0  Petrol        SUV  55,913    Automatic        1  1st Owner   \n",
      "1417   0  Diesel        SUV  65,000    Automatic        1  1st Owner   \n",
      "1418   0  Diesel      Sedan  60,000    Automatic        1  1st Owner   \n",
      "\n",
      "             oem              model  modelYear  ...  top_5_key top_5_value  \\\n",
      "0            Kia          Kia Sonet       2022  ...        NaN         NaN   \n",
      "1         Maruti        Maruti Eeco       2015  ...        NaN         NaN   \n",
      "2         Nissan     Nissan Magnite       2021  ...      Seats           5   \n",
      "3        Hyundai        Hyundai i10       2015  ...        NaN         NaN   \n",
      "4          Honda         Honda Jazz       2015  ...      Seats           5   \n",
      "...          ...                ...        ...  ...        ...         ...   \n",
      "1414      Maruti       Maruti Swift       2018  ...        NaN         NaN   \n",
      "1415     Renault     Renault Duster       2018  ...      Seats           5   \n",
      "1416        Tata         Tata Nexon       2018  ...      Seats           5   \n",
      "1417  Volkswagen  Volkswagen Tiguan       2017  ...      Seats           5   \n",
      "1418         BMW    BMW 3 Series GT       2019  ...      Seats           5   \n",
      "\n",
      "     data_2_list_12_key data_2_list_12_value data_0_list_12_key  \\\n",
      "0                   NaN                  NaN                NaN   \n",
      "1                   NaN                  NaN                NaN   \n",
      "2                   NaN                  NaN                NaN   \n",
      "3                   NaN                  NaN                NaN   \n",
      "4          Cargo Volumn           354-litres                NaN   \n",
      "...                 ...                  ...                ...   \n",
      "1414                NaN                  NaN                NaN   \n",
      "1415       Cargo Volumn           475-litres                NaN   \n",
      "1416                NaN                  NaN                NaN   \n",
      "1417                NaN                  NaN                NaN   \n",
      "1418       Cargo Volumn                  520                NaN   \n",
      "\n",
      "     data_0_list_12_value data_1_list_8_key data_1_list_8_value  \\\n",
      "0                     NaN               NaN                 NaN   \n",
      "1                     NaN               NaN                 NaN   \n",
      "2                     NaN               NaN                 NaN   \n",
      "3                     NaN               NaN                 NaN   \n",
      "4                     NaN               NaN                 NaN   \n",
      "...                   ...               ...                 ...   \n",
      "1414                  NaN               NaN                 NaN   \n",
      "1415                  NaN               NaN                 NaN   \n",
      "1416                  NaN               NaN                 NaN   \n",
      "1417                  NaN               NaN                 NaN   \n",
      "1418                  NaN               NaN                 NaN   \n",
      "\n",
      "                                              car_links     City  \n",
      "0     https://www.cardekho.com/used-car-details/used...  Chennai  \n",
      "1     https://www.cardekho.com/buy-used-car-details/...  Chennai  \n",
      "2     https://www.cardekho.com/used-car-details/used...  Chennai  \n",
      "3     https://www.cardekho.com/buy-used-car-details/...  Chennai  \n",
      "4     https://www.cardekho.com/used-car-details/used...  Chennai  \n",
      "...                                                 ...      ...  \n",
      "1414  https://www.cardekho.com/used-car-details/used...  Chennai  \n",
      "1415  https://www.cardekho.com/used-car-details/used...  Chennai  \n",
      "1416  https://www.cardekho.com/used-car-details/used...  Chennai  \n",
      "1417  https://www.cardekho.com/used-car-details/used...  Chennai  \n",
      "1418  https://www.cardekho.com/used-car-details/used...  Chennai  \n",
      "\n",
      "[1419 rows x 313 columns]\n"
     ]
    }
   ],
   "source": [
    "def flatten_dict(d, parent_key=''):\n",
    "    flat_dict = {}\n",
    "    \n",
    "    for key, value in d.items():\n",
    "        new_key = f\"{parent_key}_{key}\" if parent_key else key\n",
    "        \n",
    "        if isinstance(value, dict):\n",
    "            # Recursively flatten nested dictionaries\n",
    "            flat_dict.update(flatten_dict(value, new_key))\n",
    "        \n",
    "        elif isinstance(value, list):\n",
    "            # Handle lists: flatten dictionaries inside lists\n",
    "            for i, item in enumerate(value):\n",
    "                if isinstance(item, dict):\n",
    "                    flat_dict.update(flatten_dict(item, f'{new_key}_{i}'))\n",
    "                else:\n",
    "                    flat_dict[f'{new_key}_{i}'] = item\n",
    "        else:\n",
    "            # For non-dict, non-list values, add them directly\n",
    "            flat_dict[new_key] = value\n",
    "            \n",
    "    return flat_dict\n",
    "columns_to_process = [\"new_car_detail\",\"new_car_overview\",\"new_car_feature\",\"new_car_specs\"]\n",
    "structured_data = {}\n",
    "\n",
    "for col in columns_to_process:\n",
    "    flattened_rows = []\n",
    "    for row in df[col]:\n",
    "        row_data = ast.literal_eval(row)\n",
    "        flattened_rows.append(flatten_dict(row_data))\n",
    "    structured_data[col] = pd.DataFrame(flattened_rows)\n",
    "\n",
    "# For carlinks, no need to flatten\n",
    "structured_data[\"car_links\"] = df[[\"car_links\"]].copy()\n",
    "\n",
    "# Combine all flattened data into a single DataFrame\n",
    "chennai_structured = pd.concat([structured_data[\"new_car_detail\"], \n",
    "                      structured_data[\"new_car_overview\"],\n",
    "                      structured_data[\"new_car_feature\"], \n",
    "                      structured_data[\"new_car_specs\"], \n",
    "                      structured_data[\"car_links\"]], axis=1)\n",
    "\n",
    "# Add a city column\n",
    "chennai_structured[\"City\"] = \"Chennai\"\n",
    "\n",
    "# Save the dataframe to a csv file\n",
    "chennai_structured.to_csv(output_path, index=False)\n",
    "\n",
    "print(chennai_structured)"
   ]
  },
  {
   "cell_type": "markdown",
   "id": "41ea1eb6-7d34-4b01-8d98-29c61f27960a",
   "metadata": {},
   "source": [
    "# DELHI"
   ]
  },
  {
   "cell_type": "code",
   "execution_count": 25,
   "id": "c00ec79c-bd23-4a7c-b678-07a76133c194",
   "metadata": {},
   "outputs": [],
   "source": [
    "#file paths\n",
    "input_path = \"C:\\\\Users\\\\admin\\\\python\\\\Car Dheko - Used Car Price Prediction\\\\delhi_cars.xlsx\"\n",
    "output_path = \"C:\\\\Users\\\\admin\\\\python\\\\Car Dheko - Used Car Price Prediction\\\\delhi_structured.csv\"\n",
    "\n",
    "df=pd.read_excel(input_path)"
   ]
  },
  {
   "cell_type": "code",
   "execution_count": 27,
   "id": "5b09ec93-615e-4fa7-bfea-a2d30a9d53f9",
   "metadata": {},
   "outputs": [
    {
     "name": "stdout",
     "output_type": "stream",
     "text": [
      "      it      ft         bt      km transmission  ownerNo      owner  \\\n",
      "0      0  Diesel        SUV  10,000    Automatic        1  1st Owner   \n",
      "1      0  Petrol        SUV  57,437       Manual        2  2nd Owner   \n",
      "2      0  Petrol        SUV   8,000    Automatic        1  1st Owner   \n",
      "3      0  Petrol  Hatchback  28,151       Manual        2  2nd Owner   \n",
      "4      0  Petrol        SUV  60,000       Manual        1  1st Owner   \n",
      "...   ..     ...        ...     ...          ...      ...        ...   \n",
      "1480   0  Petrol      Sedan  60,000    Automatic        1  1st Owner   \n",
      "1481   0  Petrol        SUV  20,000       Manual        1  1st Owner   \n",
      "1482   0  Petrol      Sedan  60,000       Manual        1  1st Owner   \n",
      "1483   0  Diesel        SUV  38,000       Manual        1  1st Owner   \n",
      "1484   0  Diesel        SUV   7,000    Automatic        0  0th Owner   \n",
      "\n",
      "                oem              model  modelYear  ...  data_1_list_8_key  \\\n",
      "0               Kia         Kia Seltos       2022  ...                NaN   \n",
      "1           Hyundai      Hyundai Creta       2016  ...                NaN   \n",
      "2     Mercedes-Benz  Mercedes-Benz GLC       2020  ...                NaN   \n",
      "3            Maruti       Maruti Swift       2018  ...                NaN   \n",
      "4           Hyundai      Hyundai Creta       2017  ...                NaN   \n",
      "...             ...                ...        ...  ...                ...   \n",
      "1480          Honda         Honda City       2019  ...                NaN   \n",
      "1481            Kia          Kia Sonet       2021  ...                NaN   \n",
      "1482        Hyundai      Hyundai Verna       2011  ...                NaN   \n",
      "1483        Hyundai      Hyundai Creta       2019  ...                NaN   \n",
      "1484             MG         MG Gloster       2023  ...                NaN   \n",
      "\n",
      "     data_1_list_8_value data_1_list_9_key data_1_list_9_value  \\\n",
      "0                    NaN               NaN                 NaN   \n",
      "1                    NaN               NaN                 NaN   \n",
      "2                    NaN               NaN                 NaN   \n",
      "3                    NaN               NaN                 NaN   \n",
      "4                    NaN               NaN                 NaN   \n",
      "...                  ...               ...                 ...   \n",
      "1480                 NaN               NaN                 NaN   \n",
      "1481                 NaN               NaN                 NaN   \n",
      "1482                 NaN               NaN                 NaN   \n",
      "1483                 NaN               NaN                 NaN   \n",
      "1484                 NaN               NaN                 NaN   \n",
      "\n",
      "     data_1_list_10_key data_1_list_10_value data_1_list_11_key  \\\n",
      "0                   NaN                  NaN                NaN   \n",
      "1                   NaN                  NaN                NaN   \n",
      "2                   NaN                  NaN                NaN   \n",
      "3                   NaN                  NaN                NaN   \n",
      "4                   NaN                  NaN                NaN   \n",
      "...                 ...                  ...                ...   \n",
      "1480                NaN                  NaN                NaN   \n",
      "1481                NaN                  NaN                NaN   \n",
      "1482                NaN                  NaN                NaN   \n",
      "1483                NaN                  NaN                NaN   \n",
      "1484                NaN                  NaN                NaN   \n",
      "\n",
      "     data_1_list_11_value                                          car_links  \\\n",
      "0                     NaN  https://www.cardekho.com/used-car-details/used...   \n",
      "1                     NaN  https://www.cardekho.com/buy-used-car-details/...   \n",
      "2                     NaN  https://www.cardekho.com/used-car-details/used...   \n",
      "3                     NaN  https://www.cardekho.com/buy-used-car-details/...   \n",
      "4                     NaN  https://www.cardekho.com/used-car-details/used...   \n",
      "...                   ...                                                ...   \n",
      "1480                  NaN  https://www.cardekho.com/used-car-details/used...   \n",
      "1481                  NaN  https://www.cardekho.com/used-car-details/used...   \n",
      "1482                  NaN  https://www.cardekho.com/used-car-details/used...   \n",
      "1483                  NaN  https://www.cardekho.com/used-car-details/used...   \n",
      "1484                  NaN  https://www.cardekho.com/used-car-details/used...   \n",
      "\n",
      "       City  \n",
      "0     Delhi  \n",
      "1     Delhi  \n",
      "2     Delhi  \n",
      "3     Delhi  \n",
      "4     Delhi  \n",
      "...     ...  \n",
      "1480  Delhi  \n",
      "1481  Delhi  \n",
      "1482  Delhi  \n",
      "1483  Delhi  \n",
      "1484  Delhi  \n",
      "\n",
      "[1485 rows x 320 columns]\n"
     ]
    }
   ],
   "source": [
    "def flatten_dict(d, parent_key=''):\n",
    "    flat_dict = {}\n",
    "    \n",
    "    for key, value in d.items():\n",
    "        new_key = f\"{parent_key}_{key}\" if parent_key else key\n",
    "        \n",
    "        if isinstance(value, dict):\n",
    "            # Recursively flatten nested dictionaries\n",
    "            flat_dict.update(flatten_dict(value, new_key))\n",
    "        \n",
    "        elif isinstance(value, list):\n",
    "            # Handle lists: flatten dictionaries inside lists\n",
    "            for i, item in enumerate(value):\n",
    "                if isinstance(item, dict):\n",
    "                    flat_dict.update(flatten_dict(item, f'{new_key}_{i}'))\n",
    "                else:\n",
    "                    flat_dict[f'{new_key}_{i}'] = item\n",
    "        else:\n",
    "            # For non-dict, non-list values, add them directly\n",
    "            flat_dict[new_key] = value\n",
    "            \n",
    "    return flat_dict\n",
    "columns_to_process = [\"new_car_detail\",\"new_car_overview\",\"new_car_feature\",\"new_car_specs\"]\n",
    "structured_data = {}\n",
    "\n",
    "for col in columns_to_process:\n",
    "    flattened_rows = []\n",
    "    for row in df[col]:\n",
    "        row_data = ast.literal_eval(row)\n",
    "        flattened_rows.append(flatten_dict(row_data))\n",
    "    structured_data[col] = pd.DataFrame(flattened_rows)\n",
    "\n",
    "# For carlinks, no need to flatten\n",
    "structured_data[\"car_links\"] = df[[\"car_links\"]].copy()\n",
    "\n",
    "# Combine all flattened data into a single DataFrame\n",
    "delhi_structured = pd.concat([structured_data[\"new_car_detail\"], \n",
    "                      structured_data[\"new_car_overview\"],\n",
    "                      structured_data[\"new_car_feature\"], \n",
    "                      structured_data[\"new_car_specs\"], \n",
    "                      structured_data[\"car_links\"]], axis=1)\n",
    "\n",
    "# Add a city column\n",
    "delhi_structured[\"City\"] = \"Delhi\"\n",
    "\n",
    "# Save the dataframe to a csv file\n",
    "delhi_structured.to_csv(output_path, index=False)\n",
    "\n",
    "print(delhi_structured)"
   ]
  },
  {
   "cell_type": "markdown",
   "id": "1b489ea6-0964-468c-8a4a-884a570ce749",
   "metadata": {},
   "source": [
    "# HYDERABAD"
   ]
  },
  {
   "cell_type": "code",
   "execution_count": 21,
   "id": "12776fac-efd8-4ce1-89a4-a044bdf26815",
   "metadata": {},
   "outputs": [],
   "source": [
    "#file paths\n",
    "input_path = \"C:\\\\Users\\\\admin\\\\python\\\\Car Dheko - Used Car Price Prediction\\\\hyderabad_cars.xlsx\"\n",
    "output_path = \"C:\\\\Users\\\\admin\\\\python\\\\Car Dheko - Used Car Price Prediction\\\\hyderabad_structured.csv\"\n",
    "\n",
    "df=pd.read_excel(input_path)"
   ]
  },
  {
   "cell_type": "code",
   "execution_count": 23,
   "id": "23b280e5-2115-4e89-82f5-aace9fa64dc8",
   "metadata": {},
   "outputs": [
    {
     "name": "stdout",
     "output_type": "stream",
     "text": [
      "      it      ft         bt        km transmission  ownerNo      owner  \\\n",
      "0      0  Petrol  Hatchback    20,000    Automatic        1  1st Owner   \n",
      "1      0  Petrol  Hatchback    85,582       Manual        2  2nd Owner   \n",
      "2      0  Petrol        SUV    10,000       Manual        1  1st Owner   \n",
      "3      0  Petrol  Hatchback    50,750       Manual        1  1st Owner   \n",
      "4      0  Petrol        SUV    10,000    Automatic        1  1st Owner   \n",
      "...   ..     ...        ...       ...          ...      ...        ...   \n",
      "1478   0  Diesel        SUV    60,000       Manual        1  1st Owner   \n",
      "1479   0  Diesel      Sedan    50,000    Automatic        1  1st Owner   \n",
      "1480   0  Diesel      Sedan  1,20,000    Automatic        3  3rd Owner   \n",
      "1481   0  Diesel        SUV    50,000    Automatic        2  2nd Owner   \n",
      "1482   0  Diesel        MUV  1,00,000       Manual        1  1st Owner   \n",
      "\n",
      "             oem            model  modelYear  ...  data_2_list_10_value  \\\n",
      "0     Volkswagen  Volkswagen Polo       2022  ...                   280   \n",
      "1        Hyundai      Hyundai EON       2014  ...                     5   \n",
      "2        Hyundai    Hyundai Venue       2023  ...                   NaN   \n",
      "3         Maruti    Maruti Baleno       2017  ...                    16   \n",
      "4       Mahindra    Mahindra Thar       2022  ...                   NaN   \n",
      "...          ...              ...        ...  ...                   ...   \n",
      "1478    Mahindra  Mahindra XUV500       2013  ...                    17   \n",
      "1479      Jaguar        Jaguar XF       2014  ...                    20   \n",
      "1480         BMW     BMW 5 Series       2018  ...                   R18   \n",
      "1481        Tata       Tata Nexon       2019  ...                     5   \n",
      "1482      Toyota    Toyota Innova       2015  ...                    15   \n",
      "\n",
      "     commonIcon data_2_list_11_key data_2_list_11_value data_2_list_12_key  \\\n",
      "0                              NaN                  NaN                NaN   \n",
      "1                     Cargo Volumn           215-litres                NaN   \n",
      "2                              NaN                  NaN                NaN   \n",
      "3                  No Door Numbers                    5       Cargo Volumn   \n",
      "4                              NaN                  NaN                NaN   \n",
      "...         ...                ...                  ...                ...   \n",
      "1478               No Door Numbers                    5                NaN   \n",
      "1479               No Door Numbers                    4       Cargo Volumn   \n",
      "1480               No Door Numbers                    4       Cargo Volumn   \n",
      "1481                  Cargo Volumn                  350                NaN   \n",
      "1482               No Door Numbers                    5       Cargo Volumn   \n",
      "\n",
      "     data_2_list_12_value data_1_list_8_key data_1_list_8_value  \\\n",
      "0                     NaN               NaN                 NaN   \n",
      "1                     NaN               NaN                 NaN   \n",
      "2                     NaN               NaN                 NaN   \n",
      "3              339-litres               NaN                 NaN   \n",
      "4                     NaN               NaN                 NaN   \n",
      "...                   ...               ...                 ...   \n",
      "1478                  NaN               NaN                 NaN   \n",
      "1479           540-litres               NaN                 NaN   \n",
      "1480           520-litres               NaN                 NaN   \n",
      "1481                  NaN               NaN                 NaN   \n",
      "1482           300-litres               NaN                 NaN   \n",
      "\n",
      "                                              car_links       City  \n",
      "0     https://www.cardekho.com/used-car-details/used...  Hyberabad  \n",
      "1     https://www.cardekho.com/buy-used-car-details/...  Hyberabad  \n",
      "2     https://www.cardekho.com/used-car-details/used...  Hyberabad  \n",
      "3     https://www.cardekho.com/buy-used-car-details/...  Hyberabad  \n",
      "4     https://www.cardekho.com/used-car-details/used...  Hyberabad  \n",
      "...                                                 ...        ...  \n",
      "1478  https://www.cardekho.com/used-car-details/used...  Hyberabad  \n",
      "1479  https://www.cardekho.com/used-car-details/used...  Hyberabad  \n",
      "1480  https://www.cardekho.com/used-car-details/used...  Hyberabad  \n",
      "1481  https://www.cardekho.com/used-car-details/used...  Hyberabad  \n",
      "1482  https://www.cardekho.com/used-car-details/used...  Hyberabad  \n",
      "\n",
      "[1483 rows x 296 columns]\n"
     ]
    }
   ],
   "source": [
    "def flatten_dict(d, parent_key=''):\n",
    "    flat_dict = {}\n",
    "    \n",
    "    for key, value in d.items():\n",
    "        new_key = f\"{parent_key}_{key}\" if parent_key else key\n",
    "        \n",
    "        if isinstance(value, dict):\n",
    "            # Recursively flatten nested dictionaries\n",
    "            flat_dict.update(flatten_dict(value, new_key))\n",
    "        \n",
    "        elif isinstance(value, list):\n",
    "            # Handle lists: flatten dictionaries inside lists\n",
    "            for i, item in enumerate(value):\n",
    "                if isinstance(item, dict):\n",
    "                    flat_dict.update(flatten_dict(item, f'{new_key}_{i}'))\n",
    "                else:\n",
    "                    flat_dict[f'{new_key}_{i}'] = item\n",
    "        else:\n",
    "            # For non-dict, non-list values, add them directly\n",
    "            flat_dict[new_key] = value\n",
    "            \n",
    "    return flat_dict\n",
    "columns_to_process = [\"new_car_detail\",\"new_car_overview\",\"new_car_feature\",\"new_car_specs\"]\n",
    "structured_data = {}\n",
    "\n",
    "for col in columns_to_process:\n",
    "    flattened_rows = []\n",
    "    for row in df[col]:\n",
    "        row_data = ast.literal_eval(row)\n",
    "        flattened_rows.append(flatten_dict(row_data))\n",
    "    structured_data[col] = pd.DataFrame(flattened_rows)\n",
    "\n",
    "# For carlinks, no need to flatten\n",
    "structured_data[\"car_links\"] = df[[\"car_links\"]].copy()\n",
    "\n",
    "# Combine all flattened data into a single DataFrame\n",
    "hyderabad_structured = pd.concat([structured_data[\"new_car_detail\"], \n",
    "                      structured_data[\"new_car_overview\"],\n",
    "                      structured_data[\"new_car_feature\"], \n",
    "                      structured_data[\"new_car_specs\"], \n",
    "                      structured_data[\"car_links\"]], axis=1)\n",
    "\n",
    "# Add a city column\n",
    "hyderabad_structured[\"City\"] = \"Hyberabad\"\n",
    "\n",
    "# Save the dataframe to a csv file\n",
    "hyderabad_structured.to_csv(output_path, index=False)\n",
    "\n",
    "print(hyderabad_structured)"
   ]
  },
  {
   "cell_type": "markdown",
   "id": "434c381b-22c6-49cc-a87e-69817dc814fb",
   "metadata": {},
   "source": [
    "# JAIPUR"
   ]
  },
  {
   "cell_type": "code",
   "execution_count": 13,
   "id": "0c77eaae-7c33-4997-add2-7559824829ef",
   "metadata": {},
   "outputs": [],
   "source": [
    "#file paths\n",
    "input_path = \"C:\\\\Users\\\\admin\\\\python\\\\Car Dheko - Used Car Price Prediction\\\\jaipur_cars.xlsx\"\n",
    "output_path = \"C:\\\\Users\\\\admin\\\\python\\\\Car Dheko - Used Car Price Prediction\\\\jaipur_structured.csv\"\n",
    "\n",
    "df=pd.read_excel(input_path)"
   ]
  },
  {
   "cell_type": "code",
   "execution_count": 17,
   "id": "3de20650-7225-422c-80f3-8097c6246bab",
   "metadata": {},
   "outputs": [
    {
     "name": "stdout",
     "output_type": "stream",
     "text": [
      "      it      ft         bt        km transmission  ownerNo      owner  \\\n",
      "0      0  Diesel  Hatchback  1,20,000       Manual        2  2nd Owner   \n",
      "1      0  Petrol  Hatchback    66,951       Manual        1  1st Owner   \n",
      "2      0  Petrol  Hatchback    80,000    Automatic        2  2nd Owner   \n",
      "3      0  Petrol  Hatchback    44,392       Manual        1  1st Owner   \n",
      "4      0  Petrol  Hatchback    40,000    Automatic        1  1st Owner   \n",
      "...   ..     ...        ...       ...          ...      ...        ...   \n",
      "1115   0  Petrol  Hatchback  1,20,000       Manual        1  1st Owner   \n",
      "1116   0  Petrol  Hatchback    70,000       Manual        1  1st Owner   \n",
      "1117   0  Petrol        SUV    20,000       Manual        1  1st Owner   \n",
      "1118   0  Petrol  Hatchback    40,000       Manual        1  1st Owner   \n",
      "1119   0  Petrol  Hatchback    80,000       Manual        1  1st Owner   \n",
      "\n",
      "            oem              model  modelYear  ...  data_1_list_8_key  \\\n",
      "0       Hyundai        Hyundai i20       2015  ...                NaN   \n",
      "1        Maruti       Maruti Swift       2012  ...                NaN   \n",
      "2        Maruti     Maruti Celerio       2016  ...                NaN   \n",
      "3       Hyundai  Hyundai Grand i10       2017  ...                NaN   \n",
      "4        Maruti     Maruti Wagon R       2016  ...                NaN   \n",
      "...         ...                ...        ...  ...                ...   \n",
      "1115  Chevrolet     Chevrolet Beat       2011  ...                NaN   \n",
      "1116     Maruti        Maruti Alto       2007  ...                NaN   \n",
      "1117    Renault      Renault Kiger       2022  ...                NaN   \n",
      "1118     Maruti        Maruti Alto       2009  ...                NaN   \n",
      "1119     Maruti      Maruti Baleno       2018  ...                NaN   \n",
      "\n",
      "     data_1_list_8_value data_1_list_9_key data_1_list_9_value  \\\n",
      "0                    NaN               NaN                 NaN   \n",
      "1                    NaN               NaN                 NaN   \n",
      "2                    NaN               NaN                 NaN   \n",
      "3                    NaN               NaN                 NaN   \n",
      "4                    NaN               NaN                 NaN   \n",
      "...                  ...               ...                 ...   \n",
      "1115                 NaN               NaN                 NaN   \n",
      "1116                 NaN               NaN                 NaN   \n",
      "1117                 NaN               NaN                 NaN   \n",
      "1118                 NaN               NaN                 NaN   \n",
      "1119                 NaN               NaN                 NaN   \n",
      "\n",
      "     data_1_list_10_key data_1_list_10_value data_1_list_11_key  \\\n",
      "0                   NaN                  NaN                NaN   \n",
      "1                   NaN                  NaN                NaN   \n",
      "2                   NaN                  NaN                NaN   \n",
      "3                   NaN                  NaN                NaN   \n",
      "4                   NaN                  NaN                NaN   \n",
      "...                 ...                  ...                ...   \n",
      "1115                NaN                  NaN                NaN   \n",
      "1116                NaN                  NaN                NaN   \n",
      "1117                NaN                  NaN                NaN   \n",
      "1118                NaN                  NaN                NaN   \n",
      "1119                NaN                  NaN                NaN   \n",
      "\n",
      "     data_1_list_11_value                                          car_links  \\\n",
      "0                     NaN  https://www.cardekho.com/used-car-details/used...   \n",
      "1                     NaN  https://www.cardekho.com/buy-used-car-details/...   \n",
      "2                     NaN  https://www.cardekho.com/used-car-details/used...   \n",
      "3                     NaN  https://www.cardekho.com/buy-used-car-details/...   \n",
      "4                     NaN  https://www.cardekho.com/used-car-details/used...   \n",
      "...                   ...                                                ...   \n",
      "1115                  NaN  https://www.cardekho.com/used-car-details/used...   \n",
      "1116                  NaN  https://www.cardekho.com/used-car-details/used...   \n",
      "1117                  NaN  https://www.cardekho.com/used-car-details/used...   \n",
      "1118                  NaN  https://www.cardekho.com/used-car-details/used...   \n",
      "1119                  NaN  https://www.cardekho.com/used-car-details/used...   \n",
      "\n",
      "        City  \n",
      "0     Jaipur  \n",
      "1     Jaipur  \n",
      "2     Jaipur  \n",
      "3     Jaipur  \n",
      "4     Jaipur  \n",
      "...      ...  \n",
      "1115  Jaipur  \n",
      "1116  Jaipur  \n",
      "1117  Jaipur  \n",
      "1118  Jaipur  \n",
      "1119  Jaipur  \n",
      "\n",
      "[1120 rows x 302 columns]\n"
     ]
    }
   ],
   "source": [
    "def flatten_dict(d, parent_key=''):\n",
    "    flat_dict = {}\n",
    "    \n",
    "    for key, value in d.items():\n",
    "        new_key = f\"{parent_key}_{key}\" if parent_key else key\n",
    "        \n",
    "        if isinstance(value, dict):\n",
    "            # Recursively flatten nested dictionaries\n",
    "            flat_dict.update(flatten_dict(value, new_key))\n",
    "        \n",
    "        elif isinstance(value, list):\n",
    "            # Handle lists: flatten dictionaries inside lists\n",
    "            for i, item in enumerate(value):\n",
    "                if isinstance(item, dict):\n",
    "                    flat_dict.update(flatten_dict(item, f'{new_key}_{i}'))\n",
    "                else:\n",
    "                    flat_dict[f'{new_key}_{i}'] = item\n",
    "        else:\n",
    "            # For non-dict, non-list values, add them directly\n",
    "            flat_dict[new_key] = value\n",
    "            \n",
    "    return flat_dict\n",
    "columns_to_process = [\"new_car_detail\",\"new_car_overview\",\"new_car_feature\",\"new_car_specs\"]\n",
    "structured_data = {}\n",
    "\n",
    "for col in columns_to_process:\n",
    "    flattened_rows = []\n",
    "    for row in df[col]:\n",
    "        row_data = ast.literal_eval(row)\n",
    "        flattened_rows.append(flatten_dict(row_data))\n",
    "    structured_data[col] = pd.DataFrame(flattened_rows)\n",
    "\n",
    "# For carlinks, no need to flatten\n",
    "structured_data[\"car_links\"] = df[[\"car_links\"]].copy()\n",
    "\n",
    "# Combine all flattened data into a single DataFrame\n",
    "jaipur_structured = pd.concat([structured_data[\"new_car_detail\"], \n",
    "                      structured_data[\"new_car_overview\"],\n",
    "                      structured_data[\"new_car_feature\"], \n",
    "                      structured_data[\"new_car_specs\"], \n",
    "                      structured_data[\"car_links\"]], axis=1)\n",
    "\n",
    "# Add a city column\n",
    "jaipur_structured[\"City\"] = \"Jaipur\"\n",
    "\n",
    "# Save the dataframe to a csv file\n",
    "jaipur_structured.to_csv(output_path, index=False)\n",
    "\n",
    "print(jaipur_structured)"
   ]
  },
  {
   "cell_type": "markdown",
   "id": "6f219dd2-b871-4605-9964-01f9e02075b9",
   "metadata": {},
   "source": [
    "# KOLKATA"
   ]
  },
  {
   "cell_type": "code",
   "execution_count": 7,
   "id": "7c21b96d-e3df-473e-984d-fd7cf5bcc263",
   "metadata": {},
   "outputs": [],
   "source": [
    "#file paths\n",
    "input_path = \"C:\\\\Users\\\\admin\\\\python\\\\Car Dheko - Used Car Price Prediction\\\\kolkata_cars.xlsx\"\n",
    "output_path = \"C:\\\\Users\\\\admin\\\\python\\\\Car Dheko - Used Car Price Prediction\\\\kolkata_structured.csv\"\n",
    "\n",
    "df=pd.read_excel(input_path)"
   ]
  },
  {
   "cell_type": "code",
   "execution_count": 19,
   "id": "f3e3f855-b5ba-41e1-8419-164eab92450a",
   "metadata": {},
   "outputs": [
    {
     "name": "stdout",
     "output_type": "stream",
     "text": [
      "      it      ft         bt        km transmission  ownerNo      owner  \\\n",
      "0      0  Diesel  Hatchback  1,20,000       Manual        2  2nd Owner   \n",
      "1      0  Petrol  Hatchback    66,951       Manual        1  1st Owner   \n",
      "2      0  Petrol  Hatchback    80,000    Automatic        2  2nd Owner   \n",
      "3      0  Petrol  Hatchback    44,392       Manual        1  1st Owner   \n",
      "4      0  Petrol  Hatchback    40,000    Automatic        1  1st Owner   \n",
      "...   ..     ...        ...       ...          ...      ...        ...   \n",
      "1115   0  Petrol  Hatchback  1,20,000       Manual        1  1st Owner   \n",
      "1116   0  Petrol  Hatchback    70,000       Manual        1  1st Owner   \n",
      "1117   0  Petrol        SUV    20,000       Manual        1  1st Owner   \n",
      "1118   0  Petrol  Hatchback    40,000       Manual        1  1st Owner   \n",
      "1119   0  Petrol  Hatchback    80,000       Manual        1  1st Owner   \n",
      "\n",
      "            oem              model  modelYear  ...  data_1_list_8_key  \\\n",
      "0       Hyundai        Hyundai i20       2015  ...                NaN   \n",
      "1        Maruti       Maruti Swift       2012  ...                NaN   \n",
      "2        Maruti     Maruti Celerio       2016  ...                NaN   \n",
      "3       Hyundai  Hyundai Grand i10       2017  ...                NaN   \n",
      "4        Maruti     Maruti Wagon R       2016  ...                NaN   \n",
      "...         ...                ...        ...  ...                ...   \n",
      "1115  Chevrolet     Chevrolet Beat       2011  ...                NaN   \n",
      "1116     Maruti        Maruti Alto       2007  ...                NaN   \n",
      "1117    Renault      Renault Kiger       2022  ...                NaN   \n",
      "1118     Maruti        Maruti Alto       2009  ...                NaN   \n",
      "1119     Maruti      Maruti Baleno       2018  ...                NaN   \n",
      "\n",
      "     data_1_list_8_value data_1_list_9_key data_1_list_9_value  \\\n",
      "0                    NaN               NaN                 NaN   \n",
      "1                    NaN               NaN                 NaN   \n",
      "2                    NaN               NaN                 NaN   \n",
      "3                    NaN               NaN                 NaN   \n",
      "4                    NaN               NaN                 NaN   \n",
      "...                  ...               ...                 ...   \n",
      "1115                 NaN               NaN                 NaN   \n",
      "1116                 NaN               NaN                 NaN   \n",
      "1117                 NaN               NaN                 NaN   \n",
      "1118                 NaN               NaN                 NaN   \n",
      "1119                 NaN               NaN                 NaN   \n",
      "\n",
      "     data_1_list_10_key data_1_list_10_value data_1_list_11_key  \\\n",
      "0                   NaN                  NaN                NaN   \n",
      "1                   NaN                  NaN                NaN   \n",
      "2                   NaN                  NaN                NaN   \n",
      "3                   NaN                  NaN                NaN   \n",
      "4                   NaN                  NaN                NaN   \n",
      "...                 ...                  ...                ...   \n",
      "1115                NaN                  NaN                NaN   \n",
      "1116                NaN                  NaN                NaN   \n",
      "1117                NaN                  NaN                NaN   \n",
      "1118                NaN                  NaN                NaN   \n",
      "1119                NaN                  NaN                NaN   \n",
      "\n",
      "     data_1_list_11_value                                          car_links  \\\n",
      "0                     NaN  https://www.cardekho.com/used-car-details/used...   \n",
      "1                     NaN  https://www.cardekho.com/buy-used-car-details/...   \n",
      "2                     NaN  https://www.cardekho.com/used-car-details/used...   \n",
      "3                     NaN  https://www.cardekho.com/buy-used-car-details/...   \n",
      "4                     NaN  https://www.cardekho.com/used-car-details/used...   \n",
      "...                   ...                                                ...   \n",
      "1115                  NaN  https://www.cardekho.com/used-car-details/used...   \n",
      "1116                  NaN  https://www.cardekho.com/used-car-details/used...   \n",
      "1117                  NaN  https://www.cardekho.com/used-car-details/used...   \n",
      "1118                  NaN  https://www.cardekho.com/used-car-details/used...   \n",
      "1119                  NaN  https://www.cardekho.com/used-car-details/used...   \n",
      "\n",
      "         City  \n",
      "0     Kolkata  \n",
      "1     Kolkata  \n",
      "2     Kolkata  \n",
      "3     Kolkata  \n",
      "4     Kolkata  \n",
      "...       ...  \n",
      "1115  Kolkata  \n",
      "1116  Kolkata  \n",
      "1117  Kolkata  \n",
      "1118  Kolkata  \n",
      "1119  Kolkata  \n",
      "\n",
      "[1120 rows x 302 columns]\n"
     ]
    }
   ],
   "source": [
    "def flatten_dict(d, parent_key=''):\n",
    "    flat_dict = {}\n",
    "    \n",
    "    for key, value in d.items():\n",
    "        new_key = f\"{parent_key}_{key}\" if parent_key else key\n",
    "        \n",
    "        if isinstance(value, dict):\n",
    "            # Recursively flatten nested dictionaries\n",
    "            flat_dict.update(flatten_dict(value, new_key))\n",
    "        \n",
    "        elif isinstance(value, list):\n",
    "            # Handle lists: flatten dictionaries inside lists\n",
    "            for i, item in enumerate(value):\n",
    "                if isinstance(item, dict):\n",
    "                    flat_dict.update(flatten_dict(item, f'{new_key}_{i}'))\n",
    "                else:\n",
    "                    flat_dict[f'{new_key}_{i}'] = item\n",
    "        else:\n",
    "            # For non-dict, non-list values, add them directly\n",
    "            flat_dict[new_key] = value\n",
    "            \n",
    "    return flat_dict\n",
    "columns_to_process = [\"new_car_detail\",\"new_car_overview\",\"new_car_feature\",\"new_car_specs\"]\n",
    "structured_data = {}\n",
    "\n",
    "for col in columns_to_process:\n",
    "    flattened_rows = []\n",
    "    for row in df[col]:\n",
    "        row_data = ast.literal_eval(row)\n",
    "        flattened_rows.append(flatten_dict(row_data))\n",
    "    structured_data[col] = pd.DataFrame(flattened_rows)\n",
    "\n",
    "# For carlinks, no need to flatten\n",
    "structured_data[\"car_links\"] = df[[\"car_links\"]].copy()\n",
    "\n",
    "# Combine all flattened data into a single DataFrame\n",
    "kolkata_structured = pd.concat([structured_data[\"new_car_detail\"], \n",
    "                      structured_data[\"new_car_overview\"],\n",
    "                      structured_data[\"new_car_feature\"], \n",
    "                      structured_data[\"new_car_specs\"], \n",
    "                      structured_data[\"car_links\"]], axis=1)\n",
    "\n",
    "# Add a city column\n",
    "kolkata_structured[\"City\"] = \"Kolkata\"\n",
    "\n",
    "# Save the dataframe to a csv file\n",
    "kolkata_structured.to_csv(output_path, index=False)\n",
    "\n",
    "print(kolkata_structured)"
   ]
  },
  {
   "cell_type": "code",
   "execution_count": null,
   "id": "bc39cb96-64c4-414b-a6e0-7030be9eae47",
   "metadata": {},
   "outputs": [],
   "source": [
    "#Combining all structured data"
   ]
  },
  {
   "cell_type": "code",
   "execution_count": 11,
   "id": "d8158a9e-9a4a-49bb-b73e-69ffa2db5a42",
   "metadata": {},
   "outputs": [
    {
     "name": "stdout",
     "output_type": "stream",
     "text": [
      "sucessfully\n"
     ]
    }
   ],
   "source": [
    "file_paths=[\"C:\\\\Users\\\\admin\\\\python\\\\Car Dheko - Used Car Price Prediction\\\\bangalore_structured.csv\",\n",
    "           \"C:\\\\Users\\\\admin\\\\python\\\\Car Dheko - Used Car Price Prediction\\\\chennai_structured.csv\",\n",
    "           \"C:\\\\Users\\\\admin\\\\python\\\\Car Dheko - Used Car Price Prediction\\\\delhi_structured.csv\",\n",
    "           \"C:\\\\Users\\\\admin\\\\python\\\\Car Dheko - Used Car Price Prediction\\\\hyderabad_structured.csv\",\n",
    "           \"C:\\\\Users\\\\admin\\\\python\\\\Car Dheko - Used Car Price Prediction\\\\jaipur_structured.csv\",\n",
    "           \"C:\\\\Users\\\\admin\\\\python\\\\Car Dheko - Used Car Price Prediction\\\\kolkata_structured.csv\"]\n",
    "\n",
    "final_df=[]\n",
    "\n",
    "for file_path in file_paths:\n",
    "    df=pd.read_csv(file_path)\n",
    "    final_df.append(df)\n",
    "    \n",
    "final_df = pd.concat(final_df, ignore_index=True)\n",
    "\n",
    "output_path = \"C:\\\\Users\\\\admin\\\\python\\\\Car Dheko - Used Car Price Prediction\\\\final_df.csv\"\n",
    "final_df.to_csv(output_path, index=False)\n",
    "\n",
    "print(\"sucessfully\")\n"
   ]
  },
  {
   "cell_type": "markdown",
   "id": "b9085983-8b07-426b-b4ad-0a22b7a62492",
   "metadata": {},
   "source": [
    "# PRE-PROCESSING"
   ]
  },
  {
   "cell_type": "code",
   "execution_count": 370,
   "id": "24eea6df-18cb-4ecc-91a4-edb68d8c8131",
   "metadata": {},
   "outputs": [
    {
     "name": "stderr",
     "output_type": "stream",
     "text": [
      "C:\\Users\\admin\\AppData\\Local\\Temp\\ipykernel_12176\\338441427.py:1: DtypeWarning: Columns (13,190,191,192,193,194,195,196,197,198,199,200,201,202,203,204,205,206,207,208,210,211,212,213,214,215,234,240,242,308,309,310,311,312,313,314,315,316,317,318,319,320,321,323) have mixed types. Specify dtype option on import or set low_memory=False.\n",
      "  final_df=pd.read_csv(\"C:\\\\Users\\\\admin\\\\python\\\\Car Dheko - Used Car Price Prediction\\\\final_df.csv\")\n"
     ]
    }
   ],
   "source": [
    "final_df=pd.read_csv(\"C:\\\\Users\\\\admin\\\\python\\\\Car Dheko - Used Car Price Prediction\\\\final_df.csv\")"
   ]
  },
  {
   "cell_type": "code",
   "execution_count": 372,
   "id": "638d3c0d-17a6-47b1-aa19-785db0c06740",
   "metadata": {},
   "outputs": [
    {
     "data": {
      "text/html": [
       "<div>\n",
       "<style scoped>\n",
       "    .dataframe tbody tr th:only-of-type {\n",
       "        vertical-align: middle;\n",
       "    }\n",
       "\n",
       "    .dataframe tbody tr th {\n",
       "        vertical-align: top;\n",
       "    }\n",
       "\n",
       "    .dataframe thead th {\n",
       "        text-align: right;\n",
       "    }\n",
       "</style>\n",
       "<table border=\"1\" class=\"dataframe\">\n",
       "  <thead>\n",
       "    <tr style=\"text-align: right;\">\n",
       "      <th></th>\n",
       "      <th>it</th>\n",
       "      <th>ft</th>\n",
       "      <th>bt</th>\n",
       "      <th>km</th>\n",
       "      <th>transmission</th>\n",
       "      <th>ownerNo</th>\n",
       "      <th>owner</th>\n",
       "      <th>oem</th>\n",
       "      <th>model</th>\n",
       "      <th>modelYear</th>\n",
       "      <th>...</th>\n",
       "      <th>data_0_list_36_value</th>\n",
       "      <th>data_3_list_45_value</th>\n",
       "      <th>data_3_list_46_value</th>\n",
       "      <th>data_3_list_47_value</th>\n",
       "      <th>data_1_list_9_key</th>\n",
       "      <th>data_1_list_9_value.1</th>\n",
       "      <th>data_1_list_10_key</th>\n",
       "      <th>data_1_list_10_value.1</th>\n",
       "      <th>data_1_list_11_key</th>\n",
       "      <th>data_1_list_11_value.1</th>\n",
       "    </tr>\n",
       "  </thead>\n",
       "  <tbody>\n",
       "    <tr>\n",
       "      <th>0</th>\n",
       "      <td>0</td>\n",
       "      <td>Petrol</td>\n",
       "      <td>Hatchback</td>\n",
       "      <td>1,20,000</td>\n",
       "      <td>Manual</td>\n",
       "      <td>3</td>\n",
       "      <td>3rd Owner</td>\n",
       "      <td>Maruti</td>\n",
       "      <td>Maruti Celerio</td>\n",
       "      <td>2015</td>\n",
       "      <td>...</td>\n",
       "      <td>NaN</td>\n",
       "      <td>NaN</td>\n",
       "      <td>NaN</td>\n",
       "      <td>NaN</td>\n",
       "      <td>NaN</td>\n",
       "      <td>NaN</td>\n",
       "      <td>NaN</td>\n",
       "      <td>NaN</td>\n",
       "      <td>NaN</td>\n",
       "      <td>NaN</td>\n",
       "    </tr>\n",
       "    <tr>\n",
       "      <th>1</th>\n",
       "      <td>0</td>\n",
       "      <td>Petrol</td>\n",
       "      <td>SUV</td>\n",
       "      <td>32,706</td>\n",
       "      <td>Manual</td>\n",
       "      <td>2</td>\n",
       "      <td>2nd Owner</td>\n",
       "      <td>Ford</td>\n",
       "      <td>Ford Ecosport</td>\n",
       "      <td>2018</td>\n",
       "      <td>...</td>\n",
       "      <td>NaN</td>\n",
       "      <td>NaN</td>\n",
       "      <td>NaN</td>\n",
       "      <td>NaN</td>\n",
       "      <td>NaN</td>\n",
       "      <td>NaN</td>\n",
       "      <td>NaN</td>\n",
       "      <td>NaN</td>\n",
       "      <td>NaN</td>\n",
       "      <td>NaN</td>\n",
       "    </tr>\n",
       "    <tr>\n",
       "      <th>2</th>\n",
       "      <td>0</td>\n",
       "      <td>Petrol</td>\n",
       "      <td>Hatchback</td>\n",
       "      <td>11,949</td>\n",
       "      <td>Manual</td>\n",
       "      <td>1</td>\n",
       "      <td>1st Owner</td>\n",
       "      <td>Tata</td>\n",
       "      <td>Tata Tiago</td>\n",
       "      <td>2018</td>\n",
       "      <td>...</td>\n",
       "      <td>NaN</td>\n",
       "      <td>NaN</td>\n",
       "      <td>NaN</td>\n",
       "      <td>NaN</td>\n",
       "      <td>NaN</td>\n",
       "      <td>NaN</td>\n",
       "      <td>NaN</td>\n",
       "      <td>NaN</td>\n",
       "      <td>NaN</td>\n",
       "      <td>NaN</td>\n",
       "    </tr>\n",
       "    <tr>\n",
       "      <th>3</th>\n",
       "      <td>0</td>\n",
       "      <td>Petrol</td>\n",
       "      <td>Sedan</td>\n",
       "      <td>17,794</td>\n",
       "      <td>Manual</td>\n",
       "      <td>1</td>\n",
       "      <td>1st Owner</td>\n",
       "      <td>Hyundai</td>\n",
       "      <td>Hyundai Xcent</td>\n",
       "      <td>2014</td>\n",
       "      <td>...</td>\n",
       "      <td>NaN</td>\n",
       "      <td>NaN</td>\n",
       "      <td>NaN</td>\n",
       "      <td>NaN</td>\n",
       "      <td>NaN</td>\n",
       "      <td>NaN</td>\n",
       "      <td>NaN</td>\n",
       "      <td>NaN</td>\n",
       "      <td>NaN</td>\n",
       "      <td>NaN</td>\n",
       "    </tr>\n",
       "    <tr>\n",
       "      <th>4</th>\n",
       "      <td>0</td>\n",
       "      <td>Diesel</td>\n",
       "      <td>SUV</td>\n",
       "      <td>60,000</td>\n",
       "      <td>Manual</td>\n",
       "      <td>1</td>\n",
       "      <td>1st Owner</td>\n",
       "      <td>Maruti</td>\n",
       "      <td>Maruti SX4 S Cross</td>\n",
       "      <td>2015</td>\n",
       "      <td>...</td>\n",
       "      <td>NaN</td>\n",
       "      <td>NaN</td>\n",
       "      <td>NaN</td>\n",
       "      <td>NaN</td>\n",
       "      <td>NaN</td>\n",
       "      <td>NaN</td>\n",
       "      <td>NaN</td>\n",
       "      <td>NaN</td>\n",
       "      <td>NaN</td>\n",
       "      <td>NaN</td>\n",
       "    </tr>\n",
       "  </tbody>\n",
       "</table>\n",
       "<p>5 rows × 325 columns</p>\n",
       "</div>"
      ],
      "text/plain": [
       "   it      ft         bt        km transmission  ownerNo      owner      oem  \\\n",
       "0   0  Petrol  Hatchback  1,20,000       Manual        3  3rd Owner   Maruti   \n",
       "1   0  Petrol        SUV    32,706       Manual        2  2nd Owner     Ford   \n",
       "2   0  Petrol  Hatchback    11,949       Manual        1  1st Owner     Tata   \n",
       "3   0  Petrol      Sedan    17,794       Manual        1  1st Owner  Hyundai   \n",
       "4   0  Diesel        SUV    60,000       Manual        1  1st Owner   Maruti   \n",
       "\n",
       "                model  modelYear  ...  data_0_list_36_value  \\\n",
       "0      Maruti Celerio       2015  ...                   NaN   \n",
       "1       Ford Ecosport       2018  ...                   NaN   \n",
       "2          Tata Tiago       2018  ...                   NaN   \n",
       "3       Hyundai Xcent       2014  ...                   NaN   \n",
       "4  Maruti SX4 S Cross       2015  ...                   NaN   \n",
       "\n",
       "  data_3_list_45_value data_3_list_46_value data_3_list_47_value  \\\n",
       "0                  NaN                  NaN                  NaN   \n",
       "1                  NaN                  NaN                  NaN   \n",
       "2                  NaN                  NaN                  NaN   \n",
       "3                  NaN                  NaN                  NaN   \n",
       "4                  NaN                  NaN                  NaN   \n",
       "\n",
       "   data_1_list_9_key  data_1_list_9_value.1 data_1_list_10_key  \\\n",
       "0                NaN                    NaN                NaN   \n",
       "1                NaN                    NaN                NaN   \n",
       "2                NaN                    NaN                NaN   \n",
       "3                NaN                    NaN                NaN   \n",
       "4                NaN                    NaN                NaN   \n",
       "\n",
       "  data_1_list_10_value.1 data_1_list_11_key data_1_list_11_value.1  \n",
       "0                    NaN                NaN                    NaN  \n",
       "1                    NaN                NaN                    NaN  \n",
       "2                    NaN                NaN                    NaN  \n",
       "3                    NaN                NaN                    NaN  \n",
       "4                    NaN                NaN                    NaN  \n",
       "\n",
       "[5 rows x 325 columns]"
      ]
     },
     "execution_count": 372,
     "metadata": {},
     "output_type": "execute_result"
    }
   ],
   "source": [
    "final_df.head()"
   ]
  },
  {
   "cell_type": "code",
   "execution_count": 374,
   "id": "2f5f2b6f-a78e-4913-a2e1-1c7df6a3bd52",
   "metadata": {},
   "outputs": [
    {
     "data": {
      "text/plain": [
       "(8369, 325)"
      ]
     },
     "execution_count": 374,
     "metadata": {},
     "output_type": "execute_result"
    }
   ],
   "source": [
    "final_df.shape"
   ]
  },
  {
   "cell_type": "code",
   "execution_count": 257,
   "id": "f9e99f5a-ebb9-405e-89b9-2214c1aac557",
   "metadata": {},
   "outputs": [
    {
     "data": {
      "text/plain": [
       "Index(['it', 'ft', 'bt', 'km', 'transmission', 'ownerNo', 'owner', 'oem',\n",
       "       'model', 'modelYear',\n",
       "       ...\n",
       "       'data_0_list_36_value', 'data_3_list_45_value', 'data_3_list_46_value',\n",
       "       'data_3_list_47_value', 'data_1_list_9_key', 'data_1_list_9_value.1',\n",
       "       'data_1_list_10_key', 'data_1_list_10_value.1', 'data_1_list_11_key',\n",
       "       'data_1_list_11_value.1'],\n",
       "      dtype='object', length=325)"
      ]
     },
     "execution_count": 257,
     "metadata": {},
     "output_type": "execute_result"
    }
   ],
   "source": [
    "final_df.columns"
   ]
  },
  {
   "cell_type": "code",
   "execution_count": 259,
   "id": "edc0733e-39ce-42ff-a15c-a5d0d42eb6fe",
   "metadata": {},
   "outputs": [
    {
     "data": {
      "text/plain": [
       "it                         0.000000\n",
       "ft                         0.000000\n",
       "bt                         0.047795\n",
       "km                         0.000000\n",
       "transmission               0.000000\n",
       "                            ...    \n",
       "data_1_list_9_value.1     99.952205\n",
       "data_1_list_10_key        99.952205\n",
       "data_1_list_10_value.1    99.952205\n",
       "data_1_list_11_key        99.952205\n",
       "data_1_list_11_value.1    99.952205\n",
       "Length: 325, dtype: float64"
      ]
     },
     "execution_count": 259,
     "metadata": {},
     "output_type": "execute_result"
    }
   ],
   "source": [
    "final_df.isnull().mean()*100"
   ]
  },
  {
   "cell_type": "code",
   "execution_count": 376,
   "id": "ba9a7c09-3e55-4de2-94eb-2ea64c20cd5c",
   "metadata": {},
   "outputs": [],
   "source": [
    "#drop columns with more than 50% nan values\n",
    "threshold=len(final_df) * 0.5\n",
    "final_df=final_df.dropna(thresh=threshold, axis=1)"
   ]
  },
  {
   "cell_type": "code",
   "execution_count": 378,
   "id": "d2379d47-b70d-4762-8657-716db4ce47a0",
   "metadata": {},
   "outputs": [
    {
     "data": {
      "text/plain": [
       "(8369, 215)"
      ]
     },
     "execution_count": 378,
     "metadata": {},
     "output_type": "execute_result"
    }
   ],
   "source": [
    "final_df.shape"
   ]
  },
  {
   "cell_type": "code",
   "execution_count": null,
   "id": "4a0bd223-d442-4a84-b7e3-cc5bcd33aeab",
   "metadata": {},
   "outputs": [],
   "source": [
    "# checking and treating missing values"
   ]
  },
  {
   "cell_type": "code",
   "execution_count": 265,
   "id": "18b68100-9068-449d-8ba0-1127db15440e",
   "metadata": {},
   "outputs": [
    {
     "data": {
      "text/plain": [
       "0"
      ]
     },
     "execution_count": 265,
     "metadata": {},
     "output_type": "execute_result"
    }
   ],
   "source": [
    "final_df[\"price\"].isnull().sum()"
   ]
  },
  {
   "cell_type": "code",
   "execution_count": 267,
   "id": "e7852e44-ac1d-46a4-acea-f6718563846b",
   "metadata": {},
   "outputs": [
    {
     "data": {
      "text/plain": [
       "it                           0\n",
       "ft                           0\n",
       "bt                           4\n",
       "km                           0\n",
       "transmission                 0\n",
       "                          ... \n",
       "data_2_list_11_value.1    3918\n",
       "top_5_key.1               3243\n",
       "top_5_value.2             3243\n",
       "car_links                    0\n",
       "City                         0\n",
       "Length: 215, dtype: int64"
      ]
     },
     "execution_count": 267,
     "metadata": {},
     "output_type": "execute_result"
    }
   ],
   "source": [
    "final_df.isnull().sum()"
   ]
  },
  {
   "cell_type": "code",
   "execution_count": 269,
   "id": "cff43a54-e3d4-4b48-89b2-ba6daab8e884",
   "metadata": {},
   "outputs": [
    {
     "data": {
      "text/plain": [
       "bt\n",
       "Hatchback        3567\n",
       "SUV              2225\n",
       "Sedan            2174\n",
       "MUV               352\n",
       "Minivans           23\n",
       "Coupe              10\n",
       "Pickup Trucks       6\n",
       "Convertibles        6\n",
       "Hybrids             1\n",
       "Wagon               1\n",
       "Name: count, dtype: int64"
      ]
     },
     "execution_count": 269,
     "metadata": {},
     "output_type": "execute_result"
    }
   ],
   "source": [
    "final_df[\"bt\"].value_counts()"
   ]
  },
  {
   "cell_type": "code",
   "execution_count": 380,
   "id": "49797fcc-2967-46fb-9371-e98d714a280f",
   "metadata": {},
   "outputs": [
    {
     "name": "stderr",
     "output_type": "stream",
     "text": [
      "C:\\Users\\admin\\AppData\\Local\\Temp\\ipykernel_12176\\3221153751.py:1: FutureWarning: A value is trying to be set on a copy of a DataFrame or Series through chained assignment using an inplace method.\n",
      "The behavior will change in pandas 3.0. This inplace method will never work because the intermediate object on which we are setting values always behaves as a copy.\n",
      "\n",
      "For example, when doing 'df[col].method(value, inplace=True)', try using 'df.method({col: value}, inplace=True)' or df[col] = df[col].method(value) instead, to perform the operation inplace on the original object.\n",
      "\n",
      "\n",
      "  final_df[\"bt\"].fillna(final_df[\"bt\"].mode()[0],inplace=True)\n"
     ]
    }
   ],
   "source": [
    "final_df[\"bt\"].fillna(final_df[\"bt\"].mode()[0],inplace=True)"
   ]
  },
  {
   "cell_type": "code",
   "execution_count": 382,
   "id": "28902e35-627a-4013-8c5b-1036eb06790c",
   "metadata": {},
   "outputs": [
    {
     "data": {
      "text/plain": [
       "0"
      ]
     },
     "execution_count": 382,
     "metadata": {},
     "output_type": "execute_result"
    }
   ],
   "source": [
    "final_df[\"ownerNo\"].isnull().sum()"
   ]
  },
  {
   "cell_type": "code",
   "execution_count": 384,
   "id": "319ee56f-2f07-4225-8307-c9bada20d9df",
   "metadata": {},
   "outputs": [
    {
     "data": {
      "text/plain": [
       "0"
      ]
     },
     "execution_count": 384,
     "metadata": {},
     "output_type": "execute_result"
    }
   ],
   "source": [
    "final_df[\"oem\"].isnull().sum()"
   ]
  },
  {
   "cell_type": "code",
   "execution_count": 386,
   "id": "4a9ab5ab-4df8-4d0e-b772-ed8cbf7d02c6",
   "metadata": {},
   "outputs": [
    {
     "data": {
      "text/plain": [
       "0"
      ]
     },
     "execution_count": 386,
     "metadata": {},
     "output_type": "execute_result"
    }
   ],
   "source": [
    "final_df[\"model\"].isnull().sum()"
   ]
  },
  {
   "cell_type": "code",
   "execution_count": 388,
   "id": "560c2691-67fb-477c-b9ca-f0cb9702295f",
   "metadata": {},
   "outputs": [
    {
     "data": {
      "text/plain": [
       "0"
      ]
     },
     "execution_count": 388,
     "metadata": {},
     "output_type": "execute_result"
    }
   ],
   "source": [
    "final_df[\"modelYear\"].isnull().sum()"
   ]
  },
  {
   "cell_type": "code",
   "execution_count": 390,
   "id": "c71bd0b1-17db-44c7-bfcd-4af624b21f5a",
   "metadata": {},
   "outputs": [
    {
     "data": {
      "text/plain": [
       "0"
      ]
     },
     "execution_count": 390,
     "metadata": {},
     "output_type": "execute_result"
    }
   ],
   "source": [
    "final_df[\"variantName\"].isnull().sum()"
   ]
  },
  {
   "cell_type": "code",
   "execution_count": 392,
   "id": "ad098c9e-0ccb-4bf8-90a5-5e1a2b512766",
   "metadata": {},
   "outputs": [
    {
     "data": {
      "text/plain": [
       "0"
      ]
     },
     "execution_count": 392,
     "metadata": {},
     "output_type": "execute_result"
    }
   ],
   "source": [
    "final_df[\"top_1_value\"].isnull().sum()"
   ]
  },
  {
   "cell_type": "code",
   "execution_count": 394,
   "id": "7cc245dd-e308-489c-aec7-35ba666625ef",
   "metadata": {},
   "outputs": [
    {
     "data": {
      "text/plain": [
       "0"
      ]
     },
     "execution_count": 394,
     "metadata": {},
     "output_type": "execute_result"
    }
   ],
   "source": [
    "final_df[\"variantName\"].isnull().sum()"
   ]
  },
  {
   "cell_type": "code",
   "execution_count": 65,
   "id": "c14346ba-6b56-46e0-9696-ada63347dbb9",
   "metadata": {},
   "outputs": [],
   "source": [
    "#coversion type for price"
   ]
  },
  {
   "cell_type": "code",
   "execution_count": 396,
   "id": "6102d971-4d39-4aa2-adfd-c87be9462195",
   "metadata": {},
   "outputs": [],
   "source": [
    "def cov_price(price):\n",
    "    try:\n",
    "        price_s = str(price).replace(\"₹\",\"\").replace(\",\",\"\").strip()\n",
    "        if \"Lakh\" in price_s:\n",
    "            return float(price_s.replace(\"Lakh\",\"\").strip())*100000\n",
    "        return float(price_s)\n",
    "    except ValueError:\n",
    "        return np.nan\n",
    "            \n",
    "        "
   ]
  },
  {
   "cell_type": "code",
   "execution_count": 398,
   "id": "fbd05daf-3001-44b5-ab19-e499d079b05d",
   "metadata": {},
   "outputs": [],
   "source": [
    "final_df[\"price\"] =final_df[\"price\"].apply(cov_price)"
   ]
  },
  {
   "cell_type": "code",
   "execution_count": 400,
   "id": "8ac5570a-a42c-4326-afc3-f25c9fc9be6a",
   "metadata": {},
   "outputs": [
    {
     "data": {
      "text/plain": [
       "20"
      ]
     },
     "execution_count": 400,
     "metadata": {},
     "output_type": "execute_result"
    }
   ],
   "source": [
    "final_df[\"price\"].isnull().sum()"
   ]
  },
  {
   "cell_type": "code",
   "execution_count": 402,
   "id": "9586a85d-d90f-4e91-9129-f2abbc4c381a",
   "metadata": {},
   "outputs": [
    {
     "name": "stderr",
     "output_type": "stream",
     "text": [
      "C:\\Users\\admin\\AppData\\Local\\Temp\\ipykernel_12176\\1865049444.py:2: FutureWarning: A value is trying to be set on a copy of a DataFrame or Series through chained assignment using an inplace method.\n",
      "The behavior will change in pandas 3.0. This inplace method will never work because the intermediate object on which we are setting values always behaves as a copy.\n",
      "\n",
      "For example, when doing 'df[col].method(value, inplace=True)', try using 'df.method({col: value}, inplace=True)' or df[col] = df[col].method(value) instead, to perform the operation inplace on the original object.\n",
      "\n",
      "\n",
      "  final_df[\"price\"].fillna(final_df[\"price\"].median(),inplace=True)\n"
     ]
    }
   ],
   "source": [
    "#filling missing value\n",
    "final_df[\"price\"].fillna(final_df[\"price\"].median(),inplace=True)"
   ]
  },
  {
   "cell_type": "code",
   "execution_count": 404,
   "id": "9fbcec94-3b6b-4f20-9ecc-ff331ba14c25",
   "metadata": {},
   "outputs": [
    {
     "data": {
      "text/plain": [
       "0"
      ]
     },
     "execution_count": 404,
     "metadata": {},
     "output_type": "execute_result"
    }
   ],
   "source": [
    "final_df[\"price\"].isnull().sum()"
   ]
  },
  {
   "cell_type": "code",
   "execution_count": 406,
   "id": "b8357e1c-f724-4aed-abab-e238cc7d9b58",
   "metadata": {},
   "outputs": [],
   "source": [
    "#changing km into kms\n",
    "\n",
    "final_df[\"km\"] =final_df[\"km\"].str.replace(\"km\",\"\").str.replace(\",\",\"\").astype(float)"
   ]
  },
  {
   "cell_type": "code",
   "execution_count": 408,
   "id": "df9a7829-746a-41f4-b13e-44f30ec76ea1",
   "metadata": {},
   "outputs": [
    {
     "data": {
      "text/plain": [
       "0"
      ]
     },
     "execution_count": 408,
     "metadata": {},
     "output_type": "execute_result"
    }
   ],
   "source": [
    "final_df[\"km\"].isnull().sum()"
   ]
  },
  {
   "cell_type": "code",
   "execution_count": 410,
   "id": "d7dcd4a6-d5a2-435e-bcdd-f522c012091c",
   "metadata": {},
   "outputs": [],
   "source": [
    "#clean mileage from top_0_value.2\n",
    "def car_mileage(mileage):\n",
    "    try:\n",
    "        mileage_s = str(mileage).replace(\"kmpl\",\"\").replace(\"km/mg\",\"\").strip()\n",
    "        mileage_float= float(mileage_s)\n",
    "        if mileage_float <100:\n",
    "            return mileage_float\n",
    "        else:\n",
    "            return np.nan\n",
    "    except ValueError:\n",
    "        return np.nan"
   ]
  },
  {
   "cell_type": "code",
   "execution_count": 412,
   "id": "87aa4cb7-3216-4d8c-b46b-05a07b44ad4b",
   "metadata": {},
   "outputs": [],
   "source": [
    "final_df[\"mileage\"] =final_df[\"top_0_value.2\"].apply(car_mileage)"
   ]
  },
  {
   "cell_type": "code",
   "execution_count": 414,
   "id": "acd463de-8703-40f6-8e40-0eb5a7cdff25",
   "metadata": {},
   "outputs": [
    {
     "data": {
      "text/plain": [
       "3.847532560640459"
      ]
     },
     "execution_count": 414,
     "metadata": {},
     "output_type": "execute_result"
    }
   ],
   "source": [
    "final_df[\"mileage\"].isnull().mean()*100"
   ]
  },
  {
   "cell_type": "code",
   "execution_count": 416,
   "id": "481138fd-a363-4944-9362-ee216fd90b8b",
   "metadata": {},
   "outputs": [
    {
     "data": {
      "text/plain": [
       "<bound method Series.info of 0       23.10\n",
       "1       17.00\n",
       "2       23.84\n",
       "3       19.10\n",
       "4       23.65\n",
       "        ...  \n",
       "8364    25.24\n",
       "8365    22.74\n",
       "8366    11.74\n",
       "8367    18.50\n",
       "8368    19.72\n",
       "Name: mileage, Length: 8369, dtype: float64>"
      ]
     },
     "execution_count": 416,
     "metadata": {},
     "output_type": "execute_result"
    }
   ],
   "source": [
    "final_df[\"mileage\"].info"
   ]
  },
  {
   "cell_type": "code",
   "execution_count": 418,
   "id": "1fb38d10-dde5-4ac0-a3b1-52114be103e9",
   "metadata": {},
   "outputs": [],
   "source": [
    "#replacing null value with mean value\n",
    "final_df[\"mileage\"].fillna(final_df[\"mileage\"].mean(),inplace=True)"
   ]
  },
  {
   "cell_type": "code",
   "execution_count": 420,
   "id": "36342019-3288-450d-96f1-8f045fadacd7",
   "metadata": {},
   "outputs": [
    {
     "data": {
      "text/plain": [
       "0.0"
      ]
     },
     "execution_count": 420,
     "metadata": {},
     "output_type": "execute_result"
    }
   ],
   "source": [
    "final_df[\"mileage\"].isnull().mean()*100"
   ]
  },
  {
   "cell_type": "code",
   "execution_count": 428,
   "id": "abef4b43-f2bc-4953-be06-652605ca4693",
   "metadata": {},
   "outputs": [],
   "source": [
    "#clean seat from top_3_value\n",
    "\n",
    "# def car_seats(seats):\n",
    "#     try:\n",
    "#         seat_s=str(seats).replace(\"seats\",\"\").strip()\n",
    "#         seats_int = int(seats)\n",
    "#         if seats_int <10:   \n",
    "#             return seats_int\n",
    "#         else:\n",
    "#             return np.nan\n",
    "#     except (ValueError,TypeError):\n",
    "#         return np.nan"
   ]
  },
  {
   "cell_type": "code",
   "execution_count": 468,
   "id": "2f3512d0-6cd8-4aa0-9c59-35c5a99c9b2b",
   "metadata": {},
   "outputs": [],
   "source": [
    "#final_df[\"top_3_value\"]=final_df[\"top_3_value\"].astype(str).str.replace(\"seats\",\"\")"
   ]
  },
  {
   "cell_type": "code",
   "execution_count": 478,
   "id": "79cef11c-3c7d-455f-9117-01bd5f87a520",
   "metadata": {},
   "outputs": [],
   "source": [
    "def car_seats(seats):\n",
    "    try:\n",
    "        seat_s = re.search(r'\\d+', str(seats))\n",
    "        if seat_s:\n",
    "            seats_int = int(seat_s.group())\n",
    "            if seats_int < 10:\n",
    "                return seats_int\n",
    "            else:\n",
    "                return np.nan\n",
    "    except (ValueError, TypeError):\n",
    "        return np.nan\n",
    "        "
   ]
  },
  {
   "cell_type": "code",
   "execution_count": 480,
   "id": "e353b71b-1ce9-4c64-8512-8d1e4fbe983e",
   "metadata": {},
   "outputs": [],
   "source": [
    "final_df[\"seats\"]=final_df[\"top_3_value\"].apply(car_seats)"
   ]
  },
  {
   "cell_type": "code",
   "execution_count": 482,
   "id": "1ac02b03-8d7a-4c8b-97b8-098c28985d06",
   "metadata": {},
   "outputs": [
    {
     "data": {
      "text/plain": [
       "66"
      ]
     },
     "execution_count": 482,
     "metadata": {},
     "output_type": "execute_result"
    }
   ],
   "source": [
    "final_df[\"seats\"].isnull().sum()"
   ]
  },
  {
   "cell_type": "code",
   "execution_count": 484,
   "id": "03f5f4af-0f50-4127-872d-62ee837a62ce",
   "metadata": {},
   "outputs": [
    {
     "data": {
      "text/plain": [
       "seats\n",
       "5.0    7308\n",
       "7.0     727\n",
       "6.0      98\n",
       "4.0      91\n",
       "8.0      61\n",
       "9.0      11\n",
       "2.0       7\n",
       "Name: count, dtype: int64"
      ]
     },
     "execution_count": 484,
     "metadata": {},
     "output_type": "execute_result"
    }
   ],
   "source": [
    "final_df[\"seats\"].value_counts()"
   ]
  },
  {
   "cell_type": "code",
   "execution_count": 486,
   "id": "5d258fc1-5465-4c7b-b510-ca512b4f62f1",
   "metadata": {},
   "outputs": [
    {
     "name": "stderr",
     "output_type": "stream",
     "text": [
      "C:\\Users\\admin\\AppData\\Local\\Temp\\ipykernel_12176\\1965945630.py:2: FutureWarning: A value is trying to be set on a copy of a DataFrame or Series through chained assignment using an inplace method.\n",
      "The behavior will change in pandas 3.0. This inplace method will never work because the intermediate object on which we are setting values always behaves as a copy.\n",
      "\n",
      "For example, when doing 'df[col].method(value, inplace=True)', try using 'df.method({col: value}, inplace=True)' or df[col] = df[col].method(value) instead, to perform the operation inplace on the original object.\n",
      "\n",
      "\n",
      "  final_df[\"seats\"].fillna(final_df[\"seats\"].mode()[0], inplace=True)\n"
     ]
    }
   ],
   "source": [
    "#replacing null value with mode value\n",
    "final_df[\"seats\"].fillna(final_df[\"seats\"].mode()[0], inplace=True)"
   ]
  },
  {
   "cell_type": "code",
   "execution_count": 488,
   "id": "e357d80c-c31a-43d9-adf9-871d97ddfc9b",
   "metadata": {},
   "outputs": [
    {
     "data": {
      "text/plain": [
       "0"
      ]
     },
     "execution_count": 488,
     "metadata": {},
     "output_type": "execute_result"
    }
   ],
   "source": [
    "final_df[\"seats\"].isnull().sum()"
   ]
  },
  {
   "cell_type": "code",
   "execution_count": 500,
   "id": "9eea87cd-5a00-422d-99ef-400001ffd99d",
   "metadata": {},
   "outputs": [],
   "source": [
    "#dropping top_3_value and top_0_value.2\n",
    "final_df.drop([\"top_3_value\",\"top_0_value.2\"],axis=1,inplace=True)"
   ]
  },
  {
   "cell_type": "code",
   "execution_count": 502,
   "id": "af31bfdf-7a8e-4ae3-a60f-c32931fb853c",
   "metadata": {},
   "outputs": [],
   "source": [
    "# dropping the repeated column owner\n",
    "final_df.drop(\"owner\",axis=1,inplace=True)"
   ]
  },
  {
   "cell_type": "code",
   "execution_count": 504,
   "id": "a169d9f0-61ed-473b-bb26-2f5d94bb0991",
   "metadata": {},
   "outputs": [],
   "source": [
    "#changing column name\n",
    "final_df[\"Insurance Validity\"] =final_df[\"top_1_value\"]"
   ]
  },
  {
   "cell_type": "code",
   "execution_count": 506,
   "id": "226376b8-1c81-42dd-a941-8aa8b43cc723",
   "metadata": {},
   "outputs": [
    {
     "data": {
      "text/plain": [
       "0       Third Party insurance\n",
       "1               Comprehensive\n",
       "2               Comprehensive\n",
       "3               Comprehensive\n",
       "4       Third Party insurance\n",
       "                ...          \n",
       "8364    Third Party insurance\n",
       "8365    Third Party insurance\n",
       "8366    Third Party insurance\n",
       "8367    Third Party insurance\n",
       "8368    Third Party insurance\n",
       "Name: Insurance Validity, Length: 8369, dtype: object"
      ]
     },
     "execution_count": 506,
     "metadata": {},
     "output_type": "execute_result"
    }
   ],
   "source": [
    "final_df[\"Insurance Validity\"]"
   ]
  },
  {
   "cell_type": "code",
   "execution_count": 508,
   "id": "82a32ba4-8e9b-4ee6-8217-1cf299110e8d",
   "metadata": {},
   "outputs": [],
   "source": [
    "#dropping column\n",
    "final_df.drop(\"top_1_value\",axis=1,inplace=True)"
   ]
  },
  {
   "cell_type": "code",
   "execution_count": 510,
   "id": "dd09f166-bb5e-4063-a025-d46272998f47",
   "metadata": {},
   "outputs": [
    {
     "data": {
      "text/plain": [
       "0"
      ]
     },
     "execution_count": 510,
     "metadata": {},
     "output_type": "execute_result"
    }
   ],
   "source": [
    "final_df[\"Insurance Validity\"].isnull().sum()"
   ]
  },
  {
   "cell_type": "markdown",
   "id": "d8672b44-ca9f-43d4-8e32-7fb3f890f716",
   "metadata": {},
   "source": [
    "# ENCODING"
   ]
  },
  {
   "cell_type": "code",
   "execution_count": 512,
   "id": "32a8e66b-e0f6-4693-9aac-10df7f31b6b7",
   "metadata": {},
   "outputs": [],
   "source": [
    "#label encoding\n",
    "\n",
    "categorical_columns = [\"ft\",\"bt\",\"transmission\",\"oem\",\"model\",\"variantName\",\"Insurance Validity\",\"City\"]\n",
    "\n",
    "le = LabelEncoder()"
   ]
  },
  {
   "cell_type": "code",
   "execution_count": 514,
   "id": "28970de4-2879-425e-81ac-c06f692fc8aa",
   "metadata": {},
   "outputs": [
    {
     "data": {
      "text/plain": [
       "Index(['ft', 'bt', 'transmission', 'oem', 'model', 'variantName',\n",
       "       'Insurance Validity', 'City'],\n",
       "      dtype='object')"
      ]
     },
     "execution_count": 514,
     "metadata": {},
     "output_type": "execute_result"
    }
   ],
   "source": [
    "final_df[categorical_columns].select_dtypes(include=[\"object\"]).columns"
   ]
  },
  {
   "cell_type": "code",
   "execution_count": 516,
   "id": "d87f6c32-bbe1-4ee0-af1d-69af8127cd58",
   "metadata": {},
   "outputs": [],
   "source": [
    "for i in final_df[categorical_columns].select_dtypes(include=[\"object\"]).columns:\n",
    "    final_df[i]=le.fit_transform(final_df[i])\n",
    "    "
   ]
  },
  {
   "cell_type": "code",
   "execution_count": 522,
   "id": "3d3ce7f2-efc3-452d-b412-ead6eed53ce7",
   "metadata": {},
   "outputs": [
    {
     "data": {
      "text/html": [
       "<div>\n",
       "<style scoped>\n",
       "    .dataframe tbody tr th:only-of-type {\n",
       "        vertical-align: middle;\n",
       "    }\n",
       "\n",
       "    .dataframe tbody tr th {\n",
       "        vertical-align: top;\n",
       "    }\n",
       "\n",
       "    .dataframe thead th {\n",
       "        text-align: right;\n",
       "    }\n",
       "</style>\n",
       "<table border=\"1\" class=\"dataframe\">\n",
       "  <thead>\n",
       "    <tr style=\"text-align: right;\">\n",
       "      <th></th>\n",
       "      <th>ft</th>\n",
       "      <th>bt</th>\n",
       "      <th>transmission</th>\n",
       "      <th>oem</th>\n",
       "      <th>model</th>\n",
       "      <th>variantName</th>\n",
       "      <th>Insurance Validity</th>\n",
       "      <th>City</th>\n",
       "    </tr>\n",
       "  </thead>\n",
       "  <tbody>\n",
       "    <tr>\n",
       "      <th>0</th>\n",
       "      <td>4</td>\n",
       "      <td>2</td>\n",
       "      <td>1</td>\n",
       "      <td>20</td>\n",
       "      <td>160</td>\n",
       "      <td>1806</td>\n",
       "      <td>8</td>\n",
       "      <td>0</td>\n",
       "    </tr>\n",
       "    <tr>\n",
       "      <th>1</th>\n",
       "      <td>4</td>\n",
       "      <td>7</td>\n",
       "      <td>1</td>\n",
       "      <td>6</td>\n",
       "      <td>50</td>\n",
       "      <td>288</td>\n",
       "      <td>2</td>\n",
       "      <td>0</td>\n",
       "    </tr>\n",
       "    <tr>\n",
       "      <th>2</th>\n",
       "      <td>4</td>\n",
       "      <td>2</td>\n",
       "      <td>1</td>\n",
       "      <td>29</td>\n",
       "      <td>273</td>\n",
       "      <td>129</td>\n",
       "      <td>2</td>\n",
       "      <td>0</td>\n",
       "    </tr>\n",
       "    <tr>\n",
       "      <th>3</th>\n",
       "      <td>4</td>\n",
       "      <td>8</td>\n",
       "      <td>1</td>\n",
       "      <td>9</td>\n",
       "      <td>87</td>\n",
       "      <td>101</td>\n",
       "      <td>2</td>\n",
       "      <td>0</td>\n",
       "    </tr>\n",
       "    <tr>\n",
       "      <th>4</th>\n",
       "      <td>1</td>\n",
       "      <td>7</td>\n",
       "      <td>1</td>\n",
       "      <td>20</td>\n",
       "      <td>178</td>\n",
       "      <td>987</td>\n",
       "      <td>8</td>\n",
       "      <td>0</td>\n",
       "    </tr>\n",
       "    <tr>\n",
       "      <th>...</th>\n",
       "      <td>...</td>\n",
       "      <td>...</td>\n",
       "      <td>...</td>\n",
       "      <td>...</td>\n",
       "      <td>...</td>\n",
       "      <td>...</td>\n",
       "      <td>...</td>\n",
       "      <td>...</td>\n",
       "    </tr>\n",
       "    <tr>\n",
       "      <th>8364</th>\n",
       "      <td>4</td>\n",
       "      <td>2</td>\n",
       "      <td>1</td>\n",
       "      <td>20</td>\n",
       "      <td>160</td>\n",
       "      <td>2051</td>\n",
       "      <td>8</td>\n",
       "      <td>4</td>\n",
       "    </tr>\n",
       "    <tr>\n",
       "      <th>8365</th>\n",
       "      <td>4</td>\n",
       "      <td>2</td>\n",
       "      <td>1</td>\n",
       "      <td>20</td>\n",
       "      <td>155</td>\n",
       "      <td>1268</td>\n",
       "      <td>8</td>\n",
       "      <td>4</td>\n",
       "    </tr>\n",
       "    <tr>\n",
       "      <th>8366</th>\n",
       "      <td>4</td>\n",
       "      <td>8</td>\n",
       "      <td>0</td>\n",
       "      <td>21</td>\n",
       "      <td>197</td>\n",
       "      <td>891</td>\n",
       "      <td>8</td>\n",
       "      <td>4</td>\n",
       "    </tr>\n",
       "    <tr>\n",
       "      <th>8367</th>\n",
       "      <td>4</td>\n",
       "      <td>2</td>\n",
       "      <td>1</td>\n",
       "      <td>20</td>\n",
       "      <td>175</td>\n",
       "      <td>2069</td>\n",
       "      <td>8</td>\n",
       "      <td>4</td>\n",
       "    </tr>\n",
       "    <tr>\n",
       "      <th>8368</th>\n",
       "      <td>1</td>\n",
       "      <td>7</td>\n",
       "      <td>1</td>\n",
       "      <td>27</td>\n",
       "      <td>236</td>\n",
       "      <td>460</td>\n",
       "      <td>8</td>\n",
       "      <td>4</td>\n",
       "    </tr>\n",
       "  </tbody>\n",
       "</table>\n",
       "<p>8369 rows × 8 columns</p>\n",
       "</div>"
      ],
      "text/plain": [
       "      ft  bt  transmission  oem  model  variantName  Insurance Validity  City\n",
       "0      4   2             1   20    160         1806                   8     0\n",
       "1      4   7             1    6     50          288                   2     0\n",
       "2      4   2             1   29    273          129                   2     0\n",
       "3      4   8             1    9     87          101                   2     0\n",
       "4      1   7             1   20    178          987                   8     0\n",
       "...   ..  ..           ...  ...    ...          ...                 ...   ...\n",
       "8364   4   2             1   20    160         2051                   8     4\n",
       "8365   4   2             1   20    155         1268                   8     4\n",
       "8366   4   8             0   21    197          891                   8     4\n",
       "8367   4   2             1   20    175         2069                   8     4\n",
       "8368   1   7             1   27    236          460                   8     4\n",
       "\n",
       "[8369 rows x 8 columns]"
      ]
     },
     "execution_count": 522,
     "metadata": {},
     "output_type": "execute_result"
    }
   ],
   "source": [
    "final_df[categorical_columns]"
   ]
  },
  {
   "cell_type": "code",
   "execution_count": 574,
   "id": "80d6240a-d75b-4eef-bffc-e61e9fa90dfc",
   "metadata": {},
   "outputs": [
    {
     "data": {
      "text/html": [
       "<div>\n",
       "<style scoped>\n",
       "    .dataframe tbody tr th:only-of-type {\n",
       "        vertical-align: middle;\n",
       "    }\n",
       "\n",
       "    .dataframe tbody tr th {\n",
       "        vertical-align: top;\n",
       "    }\n",
       "\n",
       "    .dataframe thead th {\n",
       "        text-align: right;\n",
       "    }\n",
       "</style>\n",
       "<table border=\"1\" class=\"dataframe\">\n",
       "  <thead>\n",
       "    <tr style=\"text-align: right;\">\n",
       "      <th></th>\n",
       "      <th>it</th>\n",
       "      <th>ft</th>\n",
       "      <th>bt</th>\n",
       "      <th>km</th>\n",
       "      <th>transmission</th>\n",
       "      <th>ownerNo</th>\n",
       "      <th>oem</th>\n",
       "      <th>model</th>\n",
       "      <th>modelYear</th>\n",
       "      <th>centralVariantId</th>\n",
       "      <th>...</th>\n",
       "      <th>data_2_list_10_value.1</th>\n",
       "      <th>data_2_list_11_key</th>\n",
       "      <th>data_2_list_11_value.1</th>\n",
       "      <th>top_5_key.1</th>\n",
       "      <th>top_5_value.2</th>\n",
       "      <th>car_links</th>\n",
       "      <th>City</th>\n",
       "      <th>mileage</th>\n",
       "      <th>seats</th>\n",
       "      <th>Insurance Validity</th>\n",
       "    </tr>\n",
       "  </thead>\n",
       "  <tbody>\n",
       "    <tr>\n",
       "      <th>0</th>\n",
       "      <td>0</td>\n",
       "      <td>4</td>\n",
       "      <td>2</td>\n",
       "      <td>120000.0</td>\n",
       "      <td>1</td>\n",
       "      <td>3</td>\n",
       "      <td>20</td>\n",
       "      <td>160</td>\n",
       "      <td>2015</td>\n",
       "      <td>3979</td>\n",
       "      <td>...</td>\n",
       "      <td>5</td>\n",
       "      <td>Cargo Volumn</td>\n",
       "      <td>235-litres</td>\n",
       "      <td>NaN</td>\n",
       "      <td>NaN</td>\n",
       "      <td>https://www.cardekho.com/used-car-details/used...</td>\n",
       "      <td>0</td>\n",
       "      <td>23.10</td>\n",
       "      <td>5.0</td>\n",
       "      <td>8</td>\n",
       "    </tr>\n",
       "    <tr>\n",
       "      <th>1</th>\n",
       "      <td>0</td>\n",
       "      <td>4</td>\n",
       "      <td>7</td>\n",
       "      <td>32706.0</td>\n",
       "      <td>1</td>\n",
       "      <td>2</td>\n",
       "      <td>6</td>\n",
       "      <td>50</td>\n",
       "      <td>2018</td>\n",
       "      <td>6087</td>\n",
       "      <td>...</td>\n",
       "      <td>352-litres</td>\n",
       "      <td>NaN</td>\n",
       "      <td>NaN</td>\n",
       "      <td>Seats</td>\n",
       "      <td>5.0</td>\n",
       "      <td>https://www.cardekho.com/buy-used-car-details/...</td>\n",
       "      <td>0</td>\n",
       "      <td>17.00</td>\n",
       "      <td>5.0</td>\n",
       "      <td>2</td>\n",
       "    </tr>\n",
       "    <tr>\n",
       "      <th>2</th>\n",
       "      <td>0</td>\n",
       "      <td>4</td>\n",
       "      <td>2</td>\n",
       "      <td>11949.0</td>\n",
       "      <td>1</td>\n",
       "      <td>1</td>\n",
       "      <td>29</td>\n",
       "      <td>273</td>\n",
       "      <td>2018</td>\n",
       "      <td>2983</td>\n",
       "      <td>...</td>\n",
       "      <td>14</td>\n",
       "      <td>No Door Numbers</td>\n",
       "      <td>5</td>\n",
       "      <td>Seats</td>\n",
       "      <td>5.0</td>\n",
       "      <td>https://www.cardekho.com/used-car-details/used...</td>\n",
       "      <td>0</td>\n",
       "      <td>23.84</td>\n",
       "      <td>5.0</td>\n",
       "      <td>2</td>\n",
       "    </tr>\n",
       "    <tr>\n",
       "      <th>3</th>\n",
       "      <td>0</td>\n",
       "      <td>4</td>\n",
       "      <td>8</td>\n",
       "      <td>17794.0</td>\n",
       "      <td>1</td>\n",
       "      <td>1</td>\n",
       "      <td>9</td>\n",
       "      <td>87</td>\n",
       "      <td>2014</td>\n",
       "      <td>1867</td>\n",
       "      <td>...</td>\n",
       "      <td>14</td>\n",
       "      <td>No Door Numbers</td>\n",
       "      <td>4</td>\n",
       "      <td>Seats</td>\n",
       "      <td>5.0</td>\n",
       "      <td>https://www.cardekho.com/buy-used-car-details/...</td>\n",
       "      <td>0</td>\n",
       "      <td>19.10</td>\n",
       "      <td>5.0</td>\n",
       "      <td>2</td>\n",
       "    </tr>\n",
       "    <tr>\n",
       "      <th>4</th>\n",
       "      <td>0</td>\n",
       "      <td>1</td>\n",
       "      <td>7</td>\n",
       "      <td>60000.0</td>\n",
       "      <td>1</td>\n",
       "      <td>1</td>\n",
       "      <td>20</td>\n",
       "      <td>178</td>\n",
       "      <td>2015</td>\n",
       "      <td>4277</td>\n",
       "      <td>...</td>\n",
       "      <td>16</td>\n",
       "      <td>No Door Numbers</td>\n",
       "      <td>5</td>\n",
       "      <td>Seats</td>\n",
       "      <td>5.0</td>\n",
       "      <td>https://www.cardekho.com/used-car-details/used...</td>\n",
       "      <td>0</td>\n",
       "      <td>23.65</td>\n",
       "      <td>5.0</td>\n",
       "      <td>8</td>\n",
       "    </tr>\n",
       "  </tbody>\n",
       "</table>\n",
       "<p>5 rows × 214 columns</p>\n",
       "</div>"
      ],
      "text/plain": [
       "   it  ft  bt        km  transmission  ownerNo  oem  model  modelYear  \\\n",
       "0   0   4   2  120000.0             1        3   20    160       2015   \n",
       "1   0   4   7   32706.0             1        2    6     50       2018   \n",
       "2   0   4   2   11949.0             1        1   29    273       2018   \n",
       "3   0   4   8   17794.0             1        1    9     87       2014   \n",
       "4   0   1   7   60000.0             1        1   20    178       2015   \n",
       "\n",
       "   centralVariantId  ...  data_2_list_10_value.1  data_2_list_11_key  \\\n",
       "0              3979  ...                       5        Cargo Volumn   \n",
       "1              6087  ...              352-litres                 NaN   \n",
       "2              2983  ...                      14     No Door Numbers   \n",
       "3              1867  ...                      14     No Door Numbers   \n",
       "4              4277  ...                      16     No Door Numbers   \n",
       "\n",
       "  data_2_list_11_value.1 top_5_key.1 top_5_value.2  \\\n",
       "0             235-litres         NaN           NaN   \n",
       "1                    NaN       Seats           5.0   \n",
       "2                      5       Seats           5.0   \n",
       "3                      4       Seats           5.0   \n",
       "4                      5       Seats           5.0   \n",
       "\n",
       "                                           car_links City mileage seats  \\\n",
       "0  https://www.cardekho.com/used-car-details/used...    0   23.10   5.0   \n",
       "1  https://www.cardekho.com/buy-used-car-details/...    0   17.00   5.0   \n",
       "2  https://www.cardekho.com/used-car-details/used...    0   23.84   5.0   \n",
       "3  https://www.cardekho.com/buy-used-car-details/...    0   19.10   5.0   \n",
       "4  https://www.cardekho.com/used-car-details/used...    0   23.65   5.0   \n",
       "\n",
       "  Insurance Validity  \n",
       "0                  8  \n",
       "1                  2  \n",
       "2                  2  \n",
       "3                  2  \n",
       "4                  8  \n",
       "\n",
       "[5 rows x 214 columns]"
      ]
     },
     "execution_count": 574,
     "metadata": {},
     "output_type": "execute_result"
    }
   ],
   "source": [
    "final_df.head()"
   ]
  },
  {
   "cell_type": "code",
   "execution_count": 582,
   "id": "056e9b5a-abda-43ea-b5c5-adfe18b3f01d",
   "metadata": {},
   "outputs": [],
   "source": [
    "#min-max scaler\n",
    "mm =MinMaxScaler()"
   ]
  },
  {
   "cell_type": "code",
   "execution_count": 594,
   "id": "f809cb5a-2d5d-44e3-a281-31d7a631fa29",
   "metadata": {},
   "outputs": [],
   "source": [
    "final_df[[\"km\",\"modelYear\",\"ownerNo\",\"mileage\",\"seats\"]]=mm.fit_transform(final_df[[\"km\",\"modelYear\",\"ownerNo\",\"mileage\",\"seats\"]])"
   ]
  },
  {
   "cell_type": "code",
   "execution_count": 596,
   "id": "4e552d0d-8bec-490d-9e63-93c76d518dc7",
   "metadata": {},
   "outputs": [
    {
     "data": {
      "text/html": [
       "<div>\n",
       "<style scoped>\n",
       "    .dataframe tbody tr th:only-of-type {\n",
       "        vertical-align: middle;\n",
       "    }\n",
       "\n",
       "    .dataframe tbody tr th {\n",
       "        vertical-align: top;\n",
       "    }\n",
       "\n",
       "    .dataframe thead th {\n",
       "        text-align: right;\n",
       "    }\n",
       "</style>\n",
       "<table border=\"1\" class=\"dataframe\">\n",
       "  <thead>\n",
       "    <tr style=\"text-align: right;\">\n",
       "      <th></th>\n",
       "      <th>it</th>\n",
       "      <th>ft</th>\n",
       "      <th>bt</th>\n",
       "      <th>km</th>\n",
       "      <th>transmission</th>\n",
       "      <th>ownerNo</th>\n",
       "      <th>oem</th>\n",
       "      <th>model</th>\n",
       "      <th>modelYear</th>\n",
       "      <th>centralVariantId</th>\n",
       "      <th>...</th>\n",
       "      <th>data_2_list_10_value.1</th>\n",
       "      <th>data_2_list_11_key</th>\n",
       "      <th>data_2_list_11_value.1</th>\n",
       "      <th>top_5_key.1</th>\n",
       "      <th>top_5_value.2</th>\n",
       "      <th>car_links</th>\n",
       "      <th>City</th>\n",
       "      <th>mileage</th>\n",
       "      <th>seats</th>\n",
       "      <th>Insurance Validity</th>\n",
       "    </tr>\n",
       "  </thead>\n",
       "  <tbody>\n",
       "    <tr>\n",
       "      <th>0</th>\n",
       "      <td>0</td>\n",
       "      <td>4</td>\n",
       "      <td>2</td>\n",
       "      <td>0.021818</td>\n",
       "      <td>1</td>\n",
       "      <td>0.6</td>\n",
       "      <td>20</td>\n",
       "      <td>160</td>\n",
       "      <td>0.789474</td>\n",
       "      <td>3979</td>\n",
       "      <td>...</td>\n",
       "      <td>5</td>\n",
       "      <td>Cargo Volumn</td>\n",
       "      <td>235-litres</td>\n",
       "      <td>NaN</td>\n",
       "      <td>NaN</td>\n",
       "      <td>https://www.cardekho.com/used-car-details/used...</td>\n",
       "      <td>0</td>\n",
       "      <td>0.593993</td>\n",
       "      <td>0.428571</td>\n",
       "      <td>8</td>\n",
       "    </tr>\n",
       "    <tr>\n",
       "      <th>1</th>\n",
       "      <td>0</td>\n",
       "      <td>4</td>\n",
       "      <td>7</td>\n",
       "      <td>0.005947</td>\n",
       "      <td>1</td>\n",
       "      <td>0.4</td>\n",
       "      <td>6</td>\n",
       "      <td>50</td>\n",
       "      <td>0.868421</td>\n",
       "      <td>6087</td>\n",
       "      <td>...</td>\n",
       "      <td>352-litres</td>\n",
       "      <td>NaN</td>\n",
       "      <td>NaN</td>\n",
       "      <td>Seats</td>\n",
       "      <td>5.0</td>\n",
       "      <td>https://www.cardekho.com/buy-used-car-details/...</td>\n",
       "      <td>0</td>\n",
       "      <td>0.367816</td>\n",
       "      <td>0.428571</td>\n",
       "      <td>2</td>\n",
       "    </tr>\n",
       "    <tr>\n",
       "      <th>2</th>\n",
       "      <td>0</td>\n",
       "      <td>4</td>\n",
       "      <td>2</td>\n",
       "      <td>0.002173</td>\n",
       "      <td>1</td>\n",
       "      <td>0.2</td>\n",
       "      <td>29</td>\n",
       "      <td>273</td>\n",
       "      <td>0.868421</td>\n",
       "      <td>2983</td>\n",
       "      <td>...</td>\n",
       "      <td>14</td>\n",
       "      <td>No Door Numbers</td>\n",
       "      <td>5</td>\n",
       "      <td>Seats</td>\n",
       "      <td>5.0</td>\n",
       "      <td>https://www.cardekho.com/used-car-details/used...</td>\n",
       "      <td>0</td>\n",
       "      <td>0.621431</td>\n",
       "      <td>0.428571</td>\n",
       "      <td>2</td>\n",
       "    </tr>\n",
       "    <tr>\n",
       "      <th>3</th>\n",
       "      <td>0</td>\n",
       "      <td>4</td>\n",
       "      <td>8</td>\n",
       "      <td>0.003235</td>\n",
       "      <td>1</td>\n",
       "      <td>0.2</td>\n",
       "      <td>9</td>\n",
       "      <td>87</td>\n",
       "      <td>0.763158</td>\n",
       "      <td>1867</td>\n",
       "      <td>...</td>\n",
       "      <td>14</td>\n",
       "      <td>No Door Numbers</td>\n",
       "      <td>4</td>\n",
       "      <td>Seats</td>\n",
       "      <td>5.0</td>\n",
       "      <td>https://www.cardekho.com/buy-used-car-details/...</td>\n",
       "      <td>0</td>\n",
       "      <td>0.445680</td>\n",
       "      <td>0.428571</td>\n",
       "      <td>2</td>\n",
       "    </tr>\n",
       "    <tr>\n",
       "      <th>4</th>\n",
       "      <td>0</td>\n",
       "      <td>1</td>\n",
       "      <td>7</td>\n",
       "      <td>0.010909</td>\n",
       "      <td>1</td>\n",
       "      <td>0.2</td>\n",
       "      <td>20</td>\n",
       "      <td>178</td>\n",
       "      <td>0.789474</td>\n",
       "      <td>4277</td>\n",
       "      <td>...</td>\n",
       "      <td>16</td>\n",
       "      <td>No Door Numbers</td>\n",
       "      <td>5</td>\n",
       "      <td>Seats</td>\n",
       "      <td>5.0</td>\n",
       "      <td>https://www.cardekho.com/used-car-details/used...</td>\n",
       "      <td>0</td>\n",
       "      <td>0.614386</td>\n",
       "      <td>0.428571</td>\n",
       "      <td>8</td>\n",
       "    </tr>\n",
       "  </tbody>\n",
       "</table>\n",
       "<p>5 rows × 214 columns</p>\n",
       "</div>"
      ],
      "text/plain": [
       "   it  ft  bt        km  transmission  ownerNo  oem  model  modelYear  \\\n",
       "0   0   4   2  0.021818             1      0.6   20    160   0.789474   \n",
       "1   0   4   7  0.005947             1      0.4    6     50   0.868421   \n",
       "2   0   4   2  0.002173             1      0.2   29    273   0.868421   \n",
       "3   0   4   8  0.003235             1      0.2    9     87   0.763158   \n",
       "4   0   1   7  0.010909             1      0.2   20    178   0.789474   \n",
       "\n",
       "   centralVariantId  ...  data_2_list_10_value.1  data_2_list_11_key  \\\n",
       "0              3979  ...                       5        Cargo Volumn   \n",
       "1              6087  ...              352-litres                 NaN   \n",
       "2              2983  ...                      14     No Door Numbers   \n",
       "3              1867  ...                      14     No Door Numbers   \n",
       "4              4277  ...                      16     No Door Numbers   \n",
       "\n",
       "  data_2_list_11_value.1 top_5_key.1 top_5_value.2  \\\n",
       "0             235-litres         NaN           NaN   \n",
       "1                    NaN       Seats           5.0   \n",
       "2                      5       Seats           5.0   \n",
       "3                      4       Seats           5.0   \n",
       "4                      5       Seats           5.0   \n",
       "\n",
       "                                           car_links City   mileage     seats  \\\n",
       "0  https://www.cardekho.com/used-car-details/used...    0  0.593993  0.428571   \n",
       "1  https://www.cardekho.com/buy-used-car-details/...    0  0.367816  0.428571   \n",
       "2  https://www.cardekho.com/used-car-details/used...    0  0.621431  0.428571   \n",
       "3  https://www.cardekho.com/buy-used-car-details/...    0  0.445680  0.428571   \n",
       "4  https://www.cardekho.com/used-car-details/used...    0  0.614386  0.428571   \n",
       "\n",
       "  Insurance Validity  \n",
       "0                  8  \n",
       "1                  2  \n",
       "2                  2  \n",
       "3                  2  \n",
       "4                  8  \n",
       "\n",
       "[5 rows x 214 columns]"
      ]
     },
     "execution_count": 596,
     "metadata": {},
     "output_type": "execute_result"
    }
   ],
   "source": [
    "final_df.head()"
   ]
  },
  {
   "cell_type": "code",
   "execution_count": 601,
   "id": "733a3070-953e-4a4c-97bd-2d5695eaee92",
   "metadata": {},
   "outputs": [
    {
     "data": {
      "text/plain": [
       "0.0"
      ]
     },
     "execution_count": 601,
     "metadata": {},
     "output_type": "execute_result"
    }
   ],
   "source": [
    "final_df[\"km\"].min()"
   ]
  },
  {
   "cell_type": "code",
   "execution_count": 603,
   "id": "2eb76ce8-80f7-4dd4-a470-f9e9f1cea6b8",
   "metadata": {},
   "outputs": [
    {
     "data": {
      "text/plain": [
       "1.0"
      ]
     },
     "execution_count": 603,
     "metadata": {},
     "output_type": "execute_result"
    }
   ],
   "source": [
    "final_df[\"km\"].max()"
   ]
  },
  {
   "cell_type": "code",
   "execution_count": 605,
   "id": "2359b82a-47b2-4ae1-bbc1-8925c26bf672",
   "metadata": {},
   "outputs": [
    {
     "data": {
      "text/plain": [
       "0.01072260044102152"
      ]
     },
     "execution_count": 605,
     "metadata": {},
     "output_type": "execute_result"
    }
   ],
   "source": [
    "final_df[\"km\"].mean()"
   ]
  },
  {
   "cell_type": "markdown",
   "id": "69b8e68b-1c67-45f5-ae1b-0f630a78b935",
   "metadata": {},
   "source": [
    "# OUTLIERS"
   ]
  },
  {
   "cell_type": "code",
   "execution_count": null,
   "id": "a7e2cff0-cef0-45cf-a01e-6809d656d435",
   "metadata": {},
   "outputs": [],
   "source": []
  }
 ],
 "metadata": {
  "kernelspec": {
   "display_name": "Python 3 (ipykernel)",
   "language": "python",
   "name": "python3"
  },
  "language_info": {
   "codemirror_mode": {
    "name": "ipython",
    "version": 3
   },
   "file_extension": ".py",
   "mimetype": "text/x-python",
   "name": "python",
   "nbconvert_exporter": "python",
   "pygments_lexer": "ipython3",
   "version": "3.12.4"
  }
 },
 "nbformat": 4,
 "nbformat_minor": 5
}

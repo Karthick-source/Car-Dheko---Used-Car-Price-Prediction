{
 "cells": [
  {
   "cell_type": "code",
   "execution_count": 898,
   "id": "16b6c5b8-6acc-4800-893c-6ba09d579e2d",
   "metadata": {},
   "outputs": [],
   "source": [
    "import pandas as pd\n",
    "import ast\n",
    "import numpy as np\n",
    "from sklearn.preprocessing import LabelEncoder,OneHotEncoder,MinMaxScaler\n",
    "import re\n",
    "import matplotlib.pyplot as plt\n",
    "import seaborn as sns\n",
    "from scipy.stats import boxcox"
   ]
  },
  {
   "cell_type": "markdown",
   "id": "c9906ab0-063a-4dc9-b732-da91fb45b190",
   "metadata": {},
   "source": [
    "# BANGALORE"
   ]
  },
  {
   "cell_type": "code",
   "execution_count": 900,
   "id": "51482892-9875-4b92-910a-76f9c89fd435",
   "metadata": {},
   "outputs": [],
   "source": [
    "#file paths\n",
    "input_path = \"C:\\\\Users\\\\admin\\\\python\\\\Car Dheko - Used Car Price Prediction\\\\bangalore_cars.xlsx\"\n",
    "output_path = \"C:\\\\Users\\\\admin\\\\python\\\\Car Dheko - Used Car Price Prediction\\\\bangalore_structured.csv\"\n"
   ]
  },
  {
   "cell_type": "code",
   "execution_count": 902,
   "id": "4536c83d-646c-437b-aaee-59277bee95f2",
   "metadata": {},
   "outputs": [],
   "source": [
    "df=pd.read_excel(input_path)"
   ]
  },
  {
   "cell_type": "code",
   "execution_count": 903,
   "id": "b8b6cf1b-a6e6-4072-863a-ffcd8b66f8fc",
   "metadata": {},
   "outputs": [
    {
     "data": {
      "text/html": [
       "<div>\n",
       "<style scoped>\n",
       "    .dataframe tbody tr th:only-of-type {\n",
       "        vertical-align: middle;\n",
       "    }\n",
       "\n",
       "    .dataframe tbody tr th {\n",
       "        vertical-align: top;\n",
       "    }\n",
       "\n",
       "    .dataframe thead th {\n",
       "        text-align: right;\n",
       "    }\n",
       "</style>\n",
       "<table border=\"1\" class=\"dataframe\">\n",
       "  <thead>\n",
       "    <tr style=\"text-align: right;\">\n",
       "      <th></th>\n",
       "      <th>new_car_detail</th>\n",
       "      <th>new_car_overview</th>\n",
       "      <th>new_car_feature</th>\n",
       "      <th>new_car_specs</th>\n",
       "      <th>car_links</th>\n",
       "    </tr>\n",
       "  </thead>\n",
       "  <tbody>\n",
       "    <tr>\n",
       "      <th>0</th>\n",
       "      <td>{'it': 0, 'ft': 'Petrol', 'bt': 'Hatchback', '...</td>\n",
       "      <td>{'heading': 'Car overview', 'top': [{'key': 'R...</td>\n",
       "      <td>{'heading': 'Features', 'top': [{'value': 'Pow...</td>\n",
       "      <td>{'heading': 'Specifications', 'top': [{'key': ...</td>\n",
       "      <td>https://www.cardekho.com/used-car-details/used...</td>\n",
       "    </tr>\n",
       "    <tr>\n",
       "      <th>1</th>\n",
       "      <td>{'it': 0, 'ft': 'Petrol', 'bt': 'SUV', 'km': '...</td>\n",
       "      <td>{'heading': 'Car overview', 'top': [{'key': 'R...</td>\n",
       "      <td>{'heading': 'Features', 'top': [{'value': 'Pow...</td>\n",
       "      <td>{'heading': 'Specifications', 'top': [{'key': ...</td>\n",
       "      <td>https://www.cardekho.com/buy-used-car-details/...</td>\n",
       "    </tr>\n",
       "    <tr>\n",
       "      <th>2</th>\n",
       "      <td>{'it': 0, 'ft': 'Petrol', 'bt': 'Hatchback', '...</td>\n",
       "      <td>{'heading': 'Car overview', 'top': [{'key': 'R...</td>\n",
       "      <td>{'heading': 'Features', 'top': [{'value': 'Pow...</td>\n",
       "      <td>{'heading': 'Specifications', 'top': [{'key': ...</td>\n",
       "      <td>https://www.cardekho.com/used-car-details/used...</td>\n",
       "    </tr>\n",
       "    <tr>\n",
       "      <th>3</th>\n",
       "      <td>{'it': 0, 'ft': 'Petrol', 'bt': 'Sedan', 'km':...</td>\n",
       "      <td>{'heading': 'Car overview', 'top': [{'key': 'R...</td>\n",
       "      <td>{'heading': 'Features', 'top': [{'value': 'Pow...</td>\n",
       "      <td>{'heading': 'Specifications', 'top': [{'key': ...</td>\n",
       "      <td>https://www.cardekho.com/buy-used-car-details/...</td>\n",
       "    </tr>\n",
       "    <tr>\n",
       "      <th>4</th>\n",
       "      <td>{'it': 0, 'ft': 'Diesel', 'bt': 'SUV', 'km': '...</td>\n",
       "      <td>{'heading': 'Car overview', 'top': [{'key': 'R...</td>\n",
       "      <td>{'heading': 'Features', 'top': [{'value': 'Pow...</td>\n",
       "      <td>{'heading': 'Specifications', 'top': [{'key': ...</td>\n",
       "      <td>https://www.cardekho.com/used-car-details/used...</td>\n",
       "    </tr>\n",
       "  </tbody>\n",
       "</table>\n",
       "</div>"
      ],
      "text/plain": [
       "                                      new_car_detail  \\\n",
       "0  {'it': 0, 'ft': 'Petrol', 'bt': 'Hatchback', '...   \n",
       "1  {'it': 0, 'ft': 'Petrol', 'bt': 'SUV', 'km': '...   \n",
       "2  {'it': 0, 'ft': 'Petrol', 'bt': 'Hatchback', '...   \n",
       "3  {'it': 0, 'ft': 'Petrol', 'bt': 'Sedan', 'km':...   \n",
       "4  {'it': 0, 'ft': 'Diesel', 'bt': 'SUV', 'km': '...   \n",
       "\n",
       "                                    new_car_overview  \\\n",
       "0  {'heading': 'Car overview', 'top': [{'key': 'R...   \n",
       "1  {'heading': 'Car overview', 'top': [{'key': 'R...   \n",
       "2  {'heading': 'Car overview', 'top': [{'key': 'R...   \n",
       "3  {'heading': 'Car overview', 'top': [{'key': 'R...   \n",
       "4  {'heading': 'Car overview', 'top': [{'key': 'R...   \n",
       "\n",
       "                                     new_car_feature  \\\n",
       "0  {'heading': 'Features', 'top': [{'value': 'Pow...   \n",
       "1  {'heading': 'Features', 'top': [{'value': 'Pow...   \n",
       "2  {'heading': 'Features', 'top': [{'value': 'Pow...   \n",
       "3  {'heading': 'Features', 'top': [{'value': 'Pow...   \n",
       "4  {'heading': 'Features', 'top': [{'value': 'Pow...   \n",
       "\n",
       "                                       new_car_specs  \\\n",
       "0  {'heading': 'Specifications', 'top': [{'key': ...   \n",
       "1  {'heading': 'Specifications', 'top': [{'key': ...   \n",
       "2  {'heading': 'Specifications', 'top': [{'key': ...   \n",
       "3  {'heading': 'Specifications', 'top': [{'key': ...   \n",
       "4  {'heading': 'Specifications', 'top': [{'key': ...   \n",
       "\n",
       "                                           car_links  \n",
       "0  https://www.cardekho.com/used-car-details/used...  \n",
       "1  https://www.cardekho.com/buy-used-car-details/...  \n",
       "2  https://www.cardekho.com/used-car-details/used...  \n",
       "3  https://www.cardekho.com/buy-used-car-details/...  \n",
       "4  https://www.cardekho.com/used-car-details/used...  "
      ]
     },
     "execution_count": 903,
     "metadata": {},
     "output_type": "execute_result"
    }
   ],
   "source": [
    "df.head()"
   ]
  },
  {
   "cell_type": "code",
   "execution_count": 904,
   "id": "c6b6ec3e-a468-4a25-bbe1-e0f31b5cdfe9",
   "metadata": {},
   "outputs": [
    {
     "name": "stdout",
     "output_type": "stream",
     "text": [
      "      it      ft         bt        km transmission  ownerNo      owner  \\\n",
      "0      0  Petrol  Hatchback  1,20,000       Manual        3  3rd Owner   \n",
      "1      0  Petrol        SUV    32,706       Manual        2  2nd Owner   \n",
      "2      0  Petrol  Hatchback    11,949       Manual        1  1st Owner   \n",
      "3      0  Petrol      Sedan    17,794       Manual        1  1st Owner   \n",
      "4      0  Diesel        SUV    60,000       Manual        1  1st Owner   \n",
      "...   ..     ...        ...       ...          ...      ...        ...   \n",
      "1476   0  Diesel        SUV  1,56,039       Manual        2  2nd Owner   \n",
      "1477   0  Petrol      Sedan    56,000       Manual        2  2nd Owner   \n",
      "1478   0  Petrol  Hatchback    42,000       Manual        2  2nd Owner   \n",
      "1479   0  Diesel  Hatchback    93,003       Manual        1  1st Owner   \n",
      "1480   0  Petrol  Hatchback    36,000    Automatic        2  2nd Owner   \n",
      "\n",
      "          oem               model  modelYear  ...  data_2_list_11_value  \\\n",
      "0      Maruti      Maruti Celerio       2015  ...            235-litres   \n",
      "1        Ford       Ford Ecosport       2018  ...                   NaN   \n",
      "2        Tata          Tata Tiago       2018  ...                     5   \n",
      "3     Hyundai       Hyundai Xcent       2014  ...                     4   \n",
      "4      Maruti  Maruti SX4 S Cross       2015  ...                     5   \n",
      "...       ...                 ...        ...  ...                   ...   \n",
      "1476   Toyota     Toyota Fortuner       2012  ...                     5   \n",
      "1477   Maruti          Maruti SX4       2008  ...            505 litres   \n",
      "1478    Honda          Honda Brio       2014  ...            175-litres   \n",
      "1479  Hyundai         Hyundai i20       2018  ...                     5   \n",
      "1480  Hyundai   Hyundai Grand i10       2017  ...                     5   \n",
      "\n",
      "     commonIcon top_5_key top_5_value data_2_list_12_key data_2_list_12_value  \\\n",
      "0                     NaN         NaN                NaN                  NaN   \n",
      "1                   Seats           5                NaN                  NaN   \n",
      "2                   Seats           5       Cargo Volumn           242-litres   \n",
      "3                   Seats           5       Cargo Volumn           407-litres   \n",
      "4                   Seats           5       Cargo Volumn           353-litres   \n",
      "...         ...       ...         ...                ...                  ...   \n",
      "1476                Seats           7       Cargo Volumn           296-litres   \n",
      "1477                Seats           5                NaN                  NaN   \n",
      "1478                  NaN         NaN                NaN                  NaN   \n",
      "1479                Seats           5       Cargo Volumn           295-litres   \n",
      "1480                Seats           5       Cargo Volumn           256-liters   \n",
      "\n",
      "     data_1_list_8_key data_1_list_8_value  \\\n",
      "0                  NaN                 NaN   \n",
      "1                  NaN                 NaN   \n",
      "2                  NaN                 NaN   \n",
      "3                  NaN                 NaN   \n",
      "4                  NaN                 NaN   \n",
      "...                ...                 ...   \n",
      "1476               NaN                 NaN   \n",
      "1477               NaN                 NaN   \n",
      "1478               NaN                 NaN   \n",
      "1479               NaN                 NaN   \n",
      "1480               NaN                 NaN   \n",
      "\n",
      "                                              car_links       City  \n",
      "0     https://www.cardekho.com/used-car-details/used...  Bangalore  \n",
      "1     https://www.cardekho.com/buy-used-car-details/...  Bangalore  \n",
      "2     https://www.cardekho.com/used-car-details/used...  Bangalore  \n",
      "3     https://www.cardekho.com/buy-used-car-details/...  Bangalore  \n",
      "4     https://www.cardekho.com/used-car-details/used...  Bangalore  \n",
      "...                                                 ...        ...  \n",
      "1476  https://www.cardekho.com/used-car-details/used...  Bangalore  \n",
      "1477  https://www.cardekho.com/used-car-details/used...  Bangalore  \n",
      "1478  https://www.cardekho.com/used-car-details/used...  Bangalore  \n",
      "1479  https://www.cardekho.com/used-car-details/used...  Bangalore  \n",
      "1480  https://www.cardekho.com/used-car-details/used...  Bangalore  \n",
      "\n",
      "[1481 rows x 308 columns]\n"
     ]
    }
   ],
   "source": [
    "def flatten_dict(d, parent_key=''):\n",
    "    flat_dict = {}\n",
    "    \n",
    "    for key, value in d.items():\n",
    "        new_key = f\"{parent_key}_{key}\" if parent_key else key\n",
    "        \n",
    "        if isinstance(value, dict):\n",
    "            # Recursively flatten nested dictionaries\n",
    "            flat_dict.update(flatten_dict(value, new_key))\n",
    "        \n",
    "        elif isinstance(value, list):\n",
    "            # Handle lists: flatten dictionaries inside lists\n",
    "            for i, item in enumerate(value):\n",
    "                if isinstance(item, dict):\n",
    "                    flat_dict.update(flatten_dict(item, f'{new_key}_{i}'))\n",
    "                else:\n",
    "                    flat_dict[f'{new_key}_{i}'] = item\n",
    "        else:\n",
    "            # For non-dict, non-list values, add them directly\n",
    "            flat_dict[new_key] = value\n",
    "            \n",
    "    return flat_dict\n",
    "columns_to_process = [\"new_car_detail\",\"new_car_overview\",\"new_car_feature\",\"new_car_specs\"]\n",
    "structured_data = {}\n",
    "\n",
    "for col in columns_to_process:\n",
    "    flattened_rows = []\n",
    "    for row in df[col]:\n",
    "        row_data = ast.literal_eval(row)\n",
    "        flattened_rows.append(flatten_dict(row_data))\n",
    "    structured_data[col] = pd.DataFrame(flattened_rows)\n",
    "\n",
    "# For carlinks, no need to flatten\n",
    "structured_data[\"car_links\"] = df[[\"car_links\"]].copy()\n",
    "\n",
    "# Combine all flattened data into a single DataFrame\n",
    "bangalore_structured = pd.concat([structured_data[\"new_car_detail\"], \n",
    "                      structured_data[\"new_car_overview\"],\n",
    "                      structured_data[\"new_car_feature\"], \n",
    "                      structured_data[\"new_car_specs\"], \n",
    "                      structured_data[\"car_links\"]], axis=1)\n",
    "\n",
    "# Add a city column\n",
    "bangalore_structured[\"City\"] = \"Bangalore\"\n",
    "\n",
    "# Save the dataframe to a csv file\n",
    "bangalore_structured.to_csv(output_path, index=False)\n",
    "\n",
    "print(bangalore_structured)"
   ]
  },
  {
   "cell_type": "code",
   "execution_count": 910,
   "id": "3dae38ff-4457-444d-a243-d7afbe771890",
   "metadata": {},
   "outputs": [
    {
     "data": {
      "text/html": [
       "<div>\n",
       "<style scoped>\n",
       "    .dataframe tbody tr th:only-of-type {\n",
       "        vertical-align: middle;\n",
       "    }\n",
       "\n",
       "    .dataframe tbody tr th {\n",
       "        vertical-align: top;\n",
       "    }\n",
       "\n",
       "    .dataframe thead th {\n",
       "        text-align: right;\n",
       "    }\n",
       "</style>\n",
       "<table border=\"1\" class=\"dataframe\">\n",
       "  <thead>\n",
       "    <tr style=\"text-align: right;\">\n",
       "      <th></th>\n",
       "      <th>it</th>\n",
       "      <th>ft</th>\n",
       "      <th>bt</th>\n",
       "      <th>km</th>\n",
       "      <th>transmission</th>\n",
       "      <th>ownerNo</th>\n",
       "      <th>owner</th>\n",
       "      <th>oem</th>\n",
       "      <th>model</th>\n",
       "      <th>modelYear</th>\n",
       "      <th>...</th>\n",
       "      <th>data_2_list_11_value</th>\n",
       "      <th>commonIcon</th>\n",
       "      <th>top_5_key</th>\n",
       "      <th>top_5_value</th>\n",
       "      <th>data_2_list_12_key</th>\n",
       "      <th>data_2_list_12_value</th>\n",
       "      <th>data_1_list_8_key</th>\n",
       "      <th>data_1_list_8_value</th>\n",
       "      <th>car_links</th>\n",
       "      <th>City</th>\n",
       "    </tr>\n",
       "  </thead>\n",
       "  <tbody>\n",
       "    <tr>\n",
       "      <th>0</th>\n",
       "      <td>0</td>\n",
       "      <td>Petrol</td>\n",
       "      <td>Hatchback</td>\n",
       "      <td>1,20,000</td>\n",
       "      <td>Manual</td>\n",
       "      <td>3</td>\n",
       "      <td>3rd Owner</td>\n",
       "      <td>Maruti</td>\n",
       "      <td>Maruti Celerio</td>\n",
       "      <td>2015</td>\n",
       "      <td>...</td>\n",
       "      <td>235-litres</td>\n",
       "      <td></td>\n",
       "      <td>NaN</td>\n",
       "      <td>NaN</td>\n",
       "      <td>NaN</td>\n",
       "      <td>NaN</td>\n",
       "      <td>NaN</td>\n",
       "      <td>NaN</td>\n",
       "      <td>https://www.cardekho.com/used-car-details/used...</td>\n",
       "      <td>Bangalore</td>\n",
       "    </tr>\n",
       "    <tr>\n",
       "      <th>1</th>\n",
       "      <td>0</td>\n",
       "      <td>Petrol</td>\n",
       "      <td>SUV</td>\n",
       "      <td>32,706</td>\n",
       "      <td>Manual</td>\n",
       "      <td>2</td>\n",
       "      <td>2nd Owner</td>\n",
       "      <td>Ford</td>\n",
       "      <td>Ford Ecosport</td>\n",
       "      <td>2018</td>\n",
       "      <td>...</td>\n",
       "      <td>NaN</td>\n",
       "      <td></td>\n",
       "      <td>Seats</td>\n",
       "      <td>5</td>\n",
       "      <td>NaN</td>\n",
       "      <td>NaN</td>\n",
       "      <td>NaN</td>\n",
       "      <td>NaN</td>\n",
       "      <td>https://www.cardekho.com/buy-used-car-details/...</td>\n",
       "      <td>Bangalore</td>\n",
       "    </tr>\n",
       "    <tr>\n",
       "      <th>2</th>\n",
       "      <td>0</td>\n",
       "      <td>Petrol</td>\n",
       "      <td>Hatchback</td>\n",
       "      <td>11,949</td>\n",
       "      <td>Manual</td>\n",
       "      <td>1</td>\n",
       "      <td>1st Owner</td>\n",
       "      <td>Tata</td>\n",
       "      <td>Tata Tiago</td>\n",
       "      <td>2018</td>\n",
       "      <td>...</td>\n",
       "      <td>5</td>\n",
       "      <td></td>\n",
       "      <td>Seats</td>\n",
       "      <td>5</td>\n",
       "      <td>Cargo Volumn</td>\n",
       "      <td>242-litres</td>\n",
       "      <td>NaN</td>\n",
       "      <td>NaN</td>\n",
       "      <td>https://www.cardekho.com/used-car-details/used...</td>\n",
       "      <td>Bangalore</td>\n",
       "    </tr>\n",
       "    <tr>\n",
       "      <th>3</th>\n",
       "      <td>0</td>\n",
       "      <td>Petrol</td>\n",
       "      <td>Sedan</td>\n",
       "      <td>17,794</td>\n",
       "      <td>Manual</td>\n",
       "      <td>1</td>\n",
       "      <td>1st Owner</td>\n",
       "      <td>Hyundai</td>\n",
       "      <td>Hyundai Xcent</td>\n",
       "      <td>2014</td>\n",
       "      <td>...</td>\n",
       "      <td>4</td>\n",
       "      <td></td>\n",
       "      <td>Seats</td>\n",
       "      <td>5</td>\n",
       "      <td>Cargo Volumn</td>\n",
       "      <td>407-litres</td>\n",
       "      <td>NaN</td>\n",
       "      <td>NaN</td>\n",
       "      <td>https://www.cardekho.com/buy-used-car-details/...</td>\n",
       "      <td>Bangalore</td>\n",
       "    </tr>\n",
       "    <tr>\n",
       "      <th>4</th>\n",
       "      <td>0</td>\n",
       "      <td>Diesel</td>\n",
       "      <td>SUV</td>\n",
       "      <td>60,000</td>\n",
       "      <td>Manual</td>\n",
       "      <td>1</td>\n",
       "      <td>1st Owner</td>\n",
       "      <td>Maruti</td>\n",
       "      <td>Maruti SX4 S Cross</td>\n",
       "      <td>2015</td>\n",
       "      <td>...</td>\n",
       "      <td>5</td>\n",
       "      <td></td>\n",
       "      <td>Seats</td>\n",
       "      <td>5</td>\n",
       "      <td>Cargo Volumn</td>\n",
       "      <td>353-litres</td>\n",
       "      <td>NaN</td>\n",
       "      <td>NaN</td>\n",
       "      <td>https://www.cardekho.com/used-car-details/used...</td>\n",
       "      <td>Bangalore</td>\n",
       "    </tr>\n",
       "  </tbody>\n",
       "</table>\n",
       "<p>5 rows × 308 columns</p>\n",
       "</div>"
      ],
      "text/plain": [
       "   it      ft         bt        km transmission  ownerNo      owner      oem  \\\n",
       "0   0  Petrol  Hatchback  1,20,000       Manual        3  3rd Owner   Maruti   \n",
       "1   0  Petrol        SUV    32,706       Manual        2  2nd Owner     Ford   \n",
       "2   0  Petrol  Hatchback    11,949       Manual        1  1st Owner     Tata   \n",
       "3   0  Petrol      Sedan    17,794       Manual        1  1st Owner  Hyundai   \n",
       "4   0  Diesel        SUV    60,000       Manual        1  1st Owner   Maruti   \n",
       "\n",
       "                model  modelYear  ...  data_2_list_11_value commonIcon  \\\n",
       "0      Maruti Celerio       2015  ...            235-litres              \n",
       "1       Ford Ecosport       2018  ...                   NaN              \n",
       "2          Tata Tiago       2018  ...                     5              \n",
       "3       Hyundai Xcent       2014  ...                     4              \n",
       "4  Maruti SX4 S Cross       2015  ...                     5              \n",
       "\n",
       "  top_5_key top_5_value data_2_list_12_key data_2_list_12_value  \\\n",
       "0       NaN         NaN                NaN                  NaN   \n",
       "1     Seats           5                NaN                  NaN   \n",
       "2     Seats           5       Cargo Volumn           242-litres   \n",
       "3     Seats           5       Cargo Volumn           407-litres   \n",
       "4     Seats           5       Cargo Volumn           353-litres   \n",
       "\n",
       "  data_1_list_8_key data_1_list_8_value  \\\n",
       "0               NaN                 NaN   \n",
       "1               NaN                 NaN   \n",
       "2               NaN                 NaN   \n",
       "3               NaN                 NaN   \n",
       "4               NaN                 NaN   \n",
       "\n",
       "                                           car_links       City  \n",
       "0  https://www.cardekho.com/used-car-details/used...  Bangalore  \n",
       "1  https://www.cardekho.com/buy-used-car-details/...  Bangalore  \n",
       "2  https://www.cardekho.com/used-car-details/used...  Bangalore  \n",
       "3  https://www.cardekho.com/buy-used-car-details/...  Bangalore  \n",
       "4  https://www.cardekho.com/used-car-details/used...  Bangalore  \n",
       "\n",
       "[5 rows x 308 columns]"
      ]
     },
     "execution_count": 910,
     "metadata": {},
     "output_type": "execute_result"
    }
   ],
   "source": [
    "bangalore_structured.head()"
   ]
  },
  {
   "cell_type": "markdown",
   "id": "9d54bb95-ae2b-4d93-8b7c-affa2bfe00a5",
   "metadata": {},
   "source": [
    "# CHENNAI"
   ]
  },
  {
   "cell_type": "code",
   "execution_count": 912,
   "id": "c47ee355-dcd1-40b9-8e99-f1074c248078",
   "metadata": {},
   "outputs": [],
   "source": [
    "#file paths\n",
    "input_path = \"C:\\\\Users\\\\admin\\\\python\\\\Car Dheko - Used Car Price Prediction\\\\chennai_cars.xlsx\"\n",
    "output_path = \"C:\\\\Users\\\\admin\\\\python\\\\Car Dheko - Used Car Price Prediction\\\\chennai_structured.csv\"\n",
    "\n",
    "df=pd.read_excel(input_path)"
   ]
  },
  {
   "cell_type": "code",
   "execution_count": 914,
   "id": "a0f45a8f-d576-4845-a443-0d0e76eda7a6",
   "metadata": {},
   "outputs": [
    {
     "name": "stdout",
     "output_type": "stream",
     "text": [
      "      it      ft         bt      km transmission  ownerNo      owner  \\\n",
      "0      0  Petrol        SUV  20,000    Automatic        1  1st Owner   \n",
      "1      0  Petrol   Minivans  20,687       Manual        1  1st Owner   \n",
      "2      0  Petrol        SUV  30,000       Manual        1  1st Owner   \n",
      "3      0  Petrol  Hatchback  59,247       Manual        1  1st Owner   \n",
      "4      0  Petrol  Hatchback  50,000       Manual        1  1st Owner   \n",
      "...   ..     ...        ...     ...          ...      ...        ...   \n",
      "1414   0  Petrol  Hatchback  42,891    Automatic        1  1st Owner   \n",
      "1415   0  Diesel        SUV  59,100       Manual        1  1st Owner   \n",
      "1416   0  Petrol        SUV  55,913    Automatic        1  1st Owner   \n",
      "1417   0  Diesel        SUV  65,000    Automatic        1  1st Owner   \n",
      "1418   0  Diesel      Sedan  60,000    Automatic        1  1st Owner   \n",
      "\n",
      "             oem              model  modelYear  ...  top_5_key top_5_value  \\\n",
      "0            Kia          Kia Sonet       2022  ...        NaN         NaN   \n",
      "1         Maruti        Maruti Eeco       2015  ...        NaN         NaN   \n",
      "2         Nissan     Nissan Magnite       2021  ...      Seats           5   \n",
      "3        Hyundai        Hyundai i10       2015  ...        NaN         NaN   \n",
      "4          Honda         Honda Jazz       2015  ...      Seats           5   \n",
      "...          ...                ...        ...  ...        ...         ...   \n",
      "1414      Maruti       Maruti Swift       2018  ...        NaN         NaN   \n",
      "1415     Renault     Renault Duster       2018  ...      Seats           5   \n",
      "1416        Tata         Tata Nexon       2018  ...      Seats           5   \n",
      "1417  Volkswagen  Volkswagen Tiguan       2017  ...      Seats           5   \n",
      "1418         BMW    BMW 3 Series GT       2019  ...      Seats           5   \n",
      "\n",
      "     data_2_list_12_key data_2_list_12_value data_0_list_12_key  \\\n",
      "0                   NaN                  NaN                NaN   \n",
      "1                   NaN                  NaN                NaN   \n",
      "2                   NaN                  NaN                NaN   \n",
      "3                   NaN                  NaN                NaN   \n",
      "4          Cargo Volumn           354-litres                NaN   \n",
      "...                 ...                  ...                ...   \n",
      "1414                NaN                  NaN                NaN   \n",
      "1415       Cargo Volumn           475-litres                NaN   \n",
      "1416                NaN                  NaN                NaN   \n",
      "1417                NaN                  NaN                NaN   \n",
      "1418       Cargo Volumn                  520                NaN   \n",
      "\n",
      "     data_0_list_12_value data_1_list_8_key data_1_list_8_value  \\\n",
      "0                     NaN               NaN                 NaN   \n",
      "1                     NaN               NaN                 NaN   \n",
      "2                     NaN               NaN                 NaN   \n",
      "3                     NaN               NaN                 NaN   \n",
      "4                     NaN               NaN                 NaN   \n",
      "...                   ...               ...                 ...   \n",
      "1414                  NaN               NaN                 NaN   \n",
      "1415                  NaN               NaN                 NaN   \n",
      "1416                  NaN               NaN                 NaN   \n",
      "1417                  NaN               NaN                 NaN   \n",
      "1418                  NaN               NaN                 NaN   \n",
      "\n",
      "                                              car_links     City  \n",
      "0     https://www.cardekho.com/used-car-details/used...  Chennai  \n",
      "1     https://www.cardekho.com/buy-used-car-details/...  Chennai  \n",
      "2     https://www.cardekho.com/used-car-details/used...  Chennai  \n",
      "3     https://www.cardekho.com/buy-used-car-details/...  Chennai  \n",
      "4     https://www.cardekho.com/used-car-details/used...  Chennai  \n",
      "...                                                 ...      ...  \n",
      "1414  https://www.cardekho.com/used-car-details/used...  Chennai  \n",
      "1415  https://www.cardekho.com/used-car-details/used...  Chennai  \n",
      "1416  https://www.cardekho.com/used-car-details/used...  Chennai  \n",
      "1417  https://www.cardekho.com/used-car-details/used...  Chennai  \n",
      "1418  https://www.cardekho.com/used-car-details/used...  Chennai  \n",
      "\n",
      "[1419 rows x 313 columns]\n"
     ]
    }
   ],
   "source": [
    "def flatten_dict(d, parent_key=''):\n",
    "    flat_dict = {}\n",
    "    \n",
    "    for key, value in d.items():\n",
    "        new_key = f\"{parent_key}_{key}\" if parent_key else key\n",
    "        \n",
    "        if isinstance(value, dict):\n",
    "            # Recursively flatten nested dictionaries\n",
    "            flat_dict.update(flatten_dict(value, new_key))\n",
    "        \n",
    "        elif isinstance(value, list):\n",
    "            # Handle lists: flatten dictionaries inside lists\n",
    "            for i, item in enumerate(value):\n",
    "                if isinstance(item, dict):\n",
    "                    flat_dict.update(flatten_dict(item, f'{new_key}_{i}'))\n",
    "                else:\n",
    "                    flat_dict[f'{new_key}_{i}'] = item\n",
    "        else:\n",
    "            # For non-dict, non-list values, add them directly\n",
    "            flat_dict[new_key] = value\n",
    "            \n",
    "    return flat_dict\n",
    "columns_to_process = [\"new_car_detail\",\"new_car_overview\",\"new_car_feature\",\"new_car_specs\"]\n",
    "structured_data = {}\n",
    "\n",
    "for col in columns_to_process:\n",
    "    flattened_rows = []\n",
    "    for row in df[col]:\n",
    "        row_data = ast.literal_eval(row)\n",
    "        flattened_rows.append(flatten_dict(row_data))\n",
    "    structured_data[col] = pd.DataFrame(flattened_rows)\n",
    "\n",
    "# For carlinks, no need to flatten\n",
    "structured_data[\"car_links\"] = df[[\"car_links\"]].copy()\n",
    "\n",
    "# Combine all flattened data into a single DataFrame\n",
    "chennai_structured = pd.concat([structured_data[\"new_car_detail\"], \n",
    "                      structured_data[\"new_car_overview\"],\n",
    "                      structured_data[\"new_car_feature\"], \n",
    "                      structured_data[\"new_car_specs\"], \n",
    "                      structured_data[\"car_links\"]], axis=1)\n",
    "\n",
    "# Add a city column\n",
    "chennai_structured[\"City\"] = \"Chennai\"\n",
    "\n",
    "# Save the dataframe to a csv file\n",
    "chennai_structured.to_csv(output_path, index=False)\n",
    "\n",
    "print(chennai_structured)"
   ]
  },
  {
   "cell_type": "markdown",
   "id": "41ea1eb6-7d34-4b01-8d98-29c61f27960a",
   "metadata": {},
   "source": [
    "# DELHI"
   ]
  },
  {
   "cell_type": "code",
   "execution_count": 916,
   "id": "c00ec79c-bd23-4a7c-b678-07a76133c194",
   "metadata": {},
   "outputs": [],
   "source": [
    "#file paths\n",
    "input_path = \"C:\\\\Users\\\\admin\\\\python\\\\Car Dheko - Used Car Price Prediction\\\\delhi_cars.xlsx\"\n",
    "output_path = \"C:\\\\Users\\\\admin\\\\python\\\\Car Dheko - Used Car Price Prediction\\\\delhi_structured.csv\"\n",
    "\n",
    "df=pd.read_excel(input_path)"
   ]
  },
  {
   "cell_type": "code",
   "execution_count": 918,
   "id": "5b09ec93-615e-4fa7-bfea-a2d30a9d53f9",
   "metadata": {},
   "outputs": [
    {
     "name": "stdout",
     "output_type": "stream",
     "text": [
      "      it      ft         bt      km transmission  ownerNo      owner  \\\n",
      "0      0  Diesel        SUV  10,000    Automatic        1  1st Owner   \n",
      "1      0  Petrol        SUV  57,437       Manual        2  2nd Owner   \n",
      "2      0  Petrol        SUV   8,000    Automatic        1  1st Owner   \n",
      "3      0  Petrol  Hatchback  28,151       Manual        2  2nd Owner   \n",
      "4      0  Petrol        SUV  60,000       Manual        1  1st Owner   \n",
      "...   ..     ...        ...     ...          ...      ...        ...   \n",
      "1480   0  Petrol      Sedan  60,000    Automatic        1  1st Owner   \n",
      "1481   0  Petrol        SUV  20,000       Manual        1  1st Owner   \n",
      "1482   0  Petrol      Sedan  60,000       Manual        1  1st Owner   \n",
      "1483   0  Diesel        SUV  38,000       Manual        1  1st Owner   \n",
      "1484   0  Diesel        SUV   7,000    Automatic        0  0th Owner   \n",
      "\n",
      "                oem              model  modelYear  ...  data_1_list_8_key  \\\n",
      "0               Kia         Kia Seltos       2022  ...                NaN   \n",
      "1           Hyundai      Hyundai Creta       2016  ...                NaN   \n",
      "2     Mercedes-Benz  Mercedes-Benz GLC       2020  ...                NaN   \n",
      "3            Maruti       Maruti Swift       2018  ...                NaN   \n",
      "4           Hyundai      Hyundai Creta       2017  ...                NaN   \n",
      "...             ...                ...        ...  ...                ...   \n",
      "1480          Honda         Honda City       2019  ...                NaN   \n",
      "1481            Kia          Kia Sonet       2021  ...                NaN   \n",
      "1482        Hyundai      Hyundai Verna       2011  ...                NaN   \n",
      "1483        Hyundai      Hyundai Creta       2019  ...                NaN   \n",
      "1484             MG         MG Gloster       2023  ...                NaN   \n",
      "\n",
      "     data_1_list_8_value data_1_list_9_key data_1_list_9_value  \\\n",
      "0                    NaN               NaN                 NaN   \n",
      "1                    NaN               NaN                 NaN   \n",
      "2                    NaN               NaN                 NaN   \n",
      "3                    NaN               NaN                 NaN   \n",
      "4                    NaN               NaN                 NaN   \n",
      "...                  ...               ...                 ...   \n",
      "1480                 NaN               NaN                 NaN   \n",
      "1481                 NaN               NaN                 NaN   \n",
      "1482                 NaN               NaN                 NaN   \n",
      "1483                 NaN               NaN                 NaN   \n",
      "1484                 NaN               NaN                 NaN   \n",
      "\n",
      "     data_1_list_10_key data_1_list_10_value data_1_list_11_key  \\\n",
      "0                   NaN                  NaN                NaN   \n",
      "1                   NaN                  NaN                NaN   \n",
      "2                   NaN                  NaN                NaN   \n",
      "3                   NaN                  NaN                NaN   \n",
      "4                   NaN                  NaN                NaN   \n",
      "...                 ...                  ...                ...   \n",
      "1480                NaN                  NaN                NaN   \n",
      "1481                NaN                  NaN                NaN   \n",
      "1482                NaN                  NaN                NaN   \n",
      "1483                NaN                  NaN                NaN   \n",
      "1484                NaN                  NaN                NaN   \n",
      "\n",
      "     data_1_list_11_value                                          car_links  \\\n",
      "0                     NaN  https://www.cardekho.com/used-car-details/used...   \n",
      "1                     NaN  https://www.cardekho.com/buy-used-car-details/...   \n",
      "2                     NaN  https://www.cardekho.com/used-car-details/used...   \n",
      "3                     NaN  https://www.cardekho.com/buy-used-car-details/...   \n",
      "4                     NaN  https://www.cardekho.com/used-car-details/used...   \n",
      "...                   ...                                                ...   \n",
      "1480                  NaN  https://www.cardekho.com/used-car-details/used...   \n",
      "1481                  NaN  https://www.cardekho.com/used-car-details/used...   \n",
      "1482                  NaN  https://www.cardekho.com/used-car-details/used...   \n",
      "1483                  NaN  https://www.cardekho.com/used-car-details/used...   \n",
      "1484                  NaN  https://www.cardekho.com/used-car-details/used...   \n",
      "\n",
      "       City  \n",
      "0     Delhi  \n",
      "1     Delhi  \n",
      "2     Delhi  \n",
      "3     Delhi  \n",
      "4     Delhi  \n",
      "...     ...  \n",
      "1480  Delhi  \n",
      "1481  Delhi  \n",
      "1482  Delhi  \n",
      "1483  Delhi  \n",
      "1484  Delhi  \n",
      "\n",
      "[1485 rows x 320 columns]\n"
     ]
    }
   ],
   "source": [
    "def flatten_dict(d, parent_key=''):\n",
    "    flat_dict = {}\n",
    "    \n",
    "    for key, value in d.items():\n",
    "        new_key = f\"{parent_key}_{key}\" if parent_key else key\n",
    "        \n",
    "        if isinstance(value, dict):\n",
    "            # Recursively flatten nested dictionaries\n",
    "            flat_dict.update(flatten_dict(value, new_key))\n",
    "        \n",
    "        elif isinstance(value, list):\n",
    "            # Handle lists: flatten dictionaries inside lists\n",
    "            for i, item in enumerate(value):\n",
    "                if isinstance(item, dict):\n",
    "                    flat_dict.update(flatten_dict(item, f'{new_key}_{i}'))\n",
    "                else:\n",
    "                    flat_dict[f'{new_key}_{i}'] = item\n",
    "        else:\n",
    "            # For non-dict, non-list values, add them directly\n",
    "            flat_dict[new_key] = value\n",
    "            \n",
    "    return flat_dict\n",
    "columns_to_process = [\"new_car_detail\",\"new_car_overview\",\"new_car_feature\",\"new_car_specs\"]\n",
    "structured_data = {}\n",
    "\n",
    "for col in columns_to_process:\n",
    "    flattened_rows = []\n",
    "    for row in df[col]:\n",
    "        row_data = ast.literal_eval(row)\n",
    "        flattened_rows.append(flatten_dict(row_data))\n",
    "    structured_data[col] = pd.DataFrame(flattened_rows)\n",
    "\n",
    "# For carlinks, no need to flatten\n",
    "structured_data[\"car_links\"] = df[[\"car_links\"]].copy()\n",
    "\n",
    "# Combine all flattened data into a single DataFrame\n",
    "delhi_structured = pd.concat([structured_data[\"new_car_detail\"], \n",
    "                      structured_data[\"new_car_overview\"],\n",
    "                      structured_data[\"new_car_feature\"], \n",
    "                      structured_data[\"new_car_specs\"], \n",
    "                      structured_data[\"car_links\"]], axis=1)\n",
    "\n",
    "# Add a city column\n",
    "delhi_structured[\"City\"] = \"Delhi\"\n",
    "\n",
    "# Save the dataframe to a csv file\n",
    "delhi_structured.to_csv(output_path, index=False)\n",
    "\n",
    "print(delhi_structured)"
   ]
  },
  {
   "cell_type": "markdown",
   "id": "1b489ea6-0964-468c-8a4a-884a570ce749",
   "metadata": {},
   "source": [
    "# HYDERABAD"
   ]
  },
  {
   "cell_type": "code",
   "execution_count": 920,
   "id": "12776fac-efd8-4ce1-89a4-a044bdf26815",
   "metadata": {},
   "outputs": [],
   "source": [
    "#file paths\n",
    "input_path = \"C:\\\\Users\\\\admin\\\\python\\\\Car Dheko - Used Car Price Prediction\\\\hyderabad_cars.xlsx\"\n",
    "output_path = \"C:\\\\Users\\\\admin\\\\python\\\\Car Dheko - Used Car Price Prediction\\\\hyderabad_structured.csv\"\n",
    "\n",
    "df=pd.read_excel(input_path)"
   ]
  },
  {
   "cell_type": "code",
   "execution_count": 922,
   "id": "23b280e5-2115-4e89-82f5-aace9fa64dc8",
   "metadata": {},
   "outputs": [
    {
     "name": "stdout",
     "output_type": "stream",
     "text": [
      "      it      ft         bt        km transmission  ownerNo      owner  \\\n",
      "0      0  Petrol  Hatchback    20,000    Automatic        1  1st Owner   \n",
      "1      0  Petrol  Hatchback    85,582       Manual        2  2nd Owner   \n",
      "2      0  Petrol        SUV    10,000       Manual        1  1st Owner   \n",
      "3      0  Petrol  Hatchback    50,750       Manual        1  1st Owner   \n",
      "4      0  Petrol        SUV    10,000    Automatic        1  1st Owner   \n",
      "...   ..     ...        ...       ...          ...      ...        ...   \n",
      "1478   0  Diesel        SUV    60,000       Manual        1  1st Owner   \n",
      "1479   0  Diesel      Sedan    50,000    Automatic        1  1st Owner   \n",
      "1480   0  Diesel      Sedan  1,20,000    Automatic        3  3rd Owner   \n",
      "1481   0  Diesel        SUV    50,000    Automatic        2  2nd Owner   \n",
      "1482   0  Diesel        MUV  1,00,000       Manual        1  1st Owner   \n",
      "\n",
      "             oem            model  modelYear  ...  data_2_list_10_value  \\\n",
      "0     Volkswagen  Volkswagen Polo       2022  ...                   280   \n",
      "1        Hyundai      Hyundai EON       2014  ...                     5   \n",
      "2        Hyundai    Hyundai Venue       2023  ...                   NaN   \n",
      "3         Maruti    Maruti Baleno       2017  ...                    16   \n",
      "4       Mahindra    Mahindra Thar       2022  ...                   NaN   \n",
      "...          ...              ...        ...  ...                   ...   \n",
      "1478    Mahindra  Mahindra XUV500       2013  ...                    17   \n",
      "1479      Jaguar        Jaguar XF       2014  ...                    20   \n",
      "1480         BMW     BMW 5 Series       2018  ...                   R18   \n",
      "1481        Tata       Tata Nexon       2019  ...                     5   \n",
      "1482      Toyota    Toyota Innova       2015  ...                    15   \n",
      "\n",
      "     commonIcon data_2_list_11_key data_2_list_11_value data_2_list_12_key  \\\n",
      "0                              NaN                  NaN                NaN   \n",
      "1                     Cargo Volumn           215-litres                NaN   \n",
      "2                              NaN                  NaN                NaN   \n",
      "3                  No Door Numbers                    5       Cargo Volumn   \n",
      "4                              NaN                  NaN                NaN   \n",
      "...         ...                ...                  ...                ...   \n",
      "1478               No Door Numbers                    5                NaN   \n",
      "1479               No Door Numbers                    4       Cargo Volumn   \n",
      "1480               No Door Numbers                    4       Cargo Volumn   \n",
      "1481                  Cargo Volumn                  350                NaN   \n",
      "1482               No Door Numbers                    5       Cargo Volumn   \n",
      "\n",
      "     data_2_list_12_value data_1_list_8_key data_1_list_8_value  \\\n",
      "0                     NaN               NaN                 NaN   \n",
      "1                     NaN               NaN                 NaN   \n",
      "2                     NaN               NaN                 NaN   \n",
      "3              339-litres               NaN                 NaN   \n",
      "4                     NaN               NaN                 NaN   \n",
      "...                   ...               ...                 ...   \n",
      "1478                  NaN               NaN                 NaN   \n",
      "1479           540-litres               NaN                 NaN   \n",
      "1480           520-litres               NaN                 NaN   \n",
      "1481                  NaN               NaN                 NaN   \n",
      "1482           300-litres               NaN                 NaN   \n",
      "\n",
      "                                              car_links       City  \n",
      "0     https://www.cardekho.com/used-car-details/used...  Hyberabad  \n",
      "1     https://www.cardekho.com/buy-used-car-details/...  Hyberabad  \n",
      "2     https://www.cardekho.com/used-car-details/used...  Hyberabad  \n",
      "3     https://www.cardekho.com/buy-used-car-details/...  Hyberabad  \n",
      "4     https://www.cardekho.com/used-car-details/used...  Hyberabad  \n",
      "...                                                 ...        ...  \n",
      "1478  https://www.cardekho.com/used-car-details/used...  Hyberabad  \n",
      "1479  https://www.cardekho.com/used-car-details/used...  Hyberabad  \n",
      "1480  https://www.cardekho.com/used-car-details/used...  Hyberabad  \n",
      "1481  https://www.cardekho.com/used-car-details/used...  Hyberabad  \n",
      "1482  https://www.cardekho.com/used-car-details/used...  Hyberabad  \n",
      "\n",
      "[1483 rows x 296 columns]\n"
     ]
    }
   ],
   "source": [
    "def flatten_dict(d, parent_key=''):\n",
    "    flat_dict = {}\n",
    "    \n",
    "    for key, value in d.items():\n",
    "        new_key = f\"{parent_key}_{key}\" if parent_key else key\n",
    "        \n",
    "        if isinstance(value, dict):\n",
    "            # Recursively flatten nested dictionaries\n",
    "            flat_dict.update(flatten_dict(value, new_key))\n",
    "        \n",
    "        elif isinstance(value, list):\n",
    "            # Handle lists: flatten dictionaries inside lists\n",
    "            for i, item in enumerate(value):\n",
    "                if isinstance(item, dict):\n",
    "                    flat_dict.update(flatten_dict(item, f'{new_key}_{i}'))\n",
    "                else:\n",
    "                    flat_dict[f'{new_key}_{i}'] = item\n",
    "        else:\n",
    "            # For non-dict, non-list values, add them directly\n",
    "            flat_dict[new_key] = value\n",
    "            \n",
    "    return flat_dict\n",
    "columns_to_process = [\"new_car_detail\",\"new_car_overview\",\"new_car_feature\",\"new_car_specs\"]\n",
    "structured_data = {}\n",
    "\n",
    "for col in columns_to_process:\n",
    "    flattened_rows = []\n",
    "    for row in df[col]:\n",
    "        row_data = ast.literal_eval(row)\n",
    "        flattened_rows.append(flatten_dict(row_data))\n",
    "    structured_data[col] = pd.DataFrame(flattened_rows)\n",
    "\n",
    "# For carlinks, no need to flatten\n",
    "structured_data[\"car_links\"] = df[[\"car_links\"]].copy()\n",
    "\n",
    "# Combine all flattened data into a single DataFrame\n",
    "hyderabad_structured = pd.concat([structured_data[\"new_car_detail\"], \n",
    "                      structured_data[\"new_car_overview\"],\n",
    "                      structured_data[\"new_car_feature\"], \n",
    "                      structured_data[\"new_car_specs\"], \n",
    "                      structured_data[\"car_links\"]], axis=1)\n",
    "\n",
    "# Add a city column\n",
    "hyderabad_structured[\"City\"] = \"Hyberabad\"\n",
    "\n",
    "# Save the dataframe to a csv file\n",
    "hyderabad_structured.to_csv(output_path, index=False)\n",
    "\n",
    "print(hyderabad_structured)"
   ]
  },
  {
   "cell_type": "markdown",
   "id": "434c381b-22c6-49cc-a87e-69817dc814fb",
   "metadata": {},
   "source": [
    "# JAIPUR"
   ]
  },
  {
   "cell_type": "code",
   "execution_count": 924,
   "id": "0c77eaae-7c33-4997-add2-7559824829ef",
   "metadata": {},
   "outputs": [],
   "source": [
    "#file paths\n",
    "input_path = \"C:\\\\Users\\\\admin\\\\python\\\\Car Dheko - Used Car Price Prediction\\\\jaipur_cars.xlsx\"\n",
    "output_path = \"C:\\\\Users\\\\admin\\\\python\\\\Car Dheko - Used Car Price Prediction\\\\jaipur_structured.csv\"\n",
    "\n",
    "df=pd.read_excel(input_path)"
   ]
  },
  {
   "cell_type": "code",
   "execution_count": 926,
   "id": "3de20650-7225-422c-80f3-8097c6246bab",
   "metadata": {},
   "outputs": [
    {
     "name": "stdout",
     "output_type": "stream",
     "text": [
      "      it      ft         bt        km transmission  ownerNo      owner  \\\n",
      "0      0  Diesel  Hatchback  1,20,000       Manual        2  2nd Owner   \n",
      "1      0  Petrol  Hatchback    66,951       Manual        1  1st Owner   \n",
      "2      0  Petrol  Hatchback    80,000    Automatic        2  2nd Owner   \n",
      "3      0  Petrol  Hatchback    44,392       Manual        1  1st Owner   \n",
      "4      0  Petrol  Hatchback    40,000    Automatic        1  1st Owner   \n",
      "...   ..     ...        ...       ...          ...      ...        ...   \n",
      "1115   0  Petrol  Hatchback  1,20,000       Manual        1  1st Owner   \n",
      "1116   0  Petrol  Hatchback    70,000       Manual        1  1st Owner   \n",
      "1117   0  Petrol        SUV    20,000       Manual        1  1st Owner   \n",
      "1118   0  Petrol  Hatchback    40,000       Manual        1  1st Owner   \n",
      "1119   0  Petrol  Hatchback    80,000       Manual        1  1st Owner   \n",
      "\n",
      "            oem              model  modelYear  ...  data_1_list_8_key  \\\n",
      "0       Hyundai        Hyundai i20       2015  ...                NaN   \n",
      "1        Maruti       Maruti Swift       2012  ...                NaN   \n",
      "2        Maruti     Maruti Celerio       2016  ...                NaN   \n",
      "3       Hyundai  Hyundai Grand i10       2017  ...                NaN   \n",
      "4        Maruti     Maruti Wagon R       2016  ...                NaN   \n",
      "...         ...                ...        ...  ...                ...   \n",
      "1115  Chevrolet     Chevrolet Beat       2011  ...                NaN   \n",
      "1116     Maruti        Maruti Alto       2007  ...                NaN   \n",
      "1117    Renault      Renault Kiger       2022  ...                NaN   \n",
      "1118     Maruti        Maruti Alto       2009  ...                NaN   \n",
      "1119     Maruti      Maruti Baleno       2018  ...                NaN   \n",
      "\n",
      "     data_1_list_8_value data_1_list_9_key data_1_list_9_value  \\\n",
      "0                    NaN               NaN                 NaN   \n",
      "1                    NaN               NaN                 NaN   \n",
      "2                    NaN               NaN                 NaN   \n",
      "3                    NaN               NaN                 NaN   \n",
      "4                    NaN               NaN                 NaN   \n",
      "...                  ...               ...                 ...   \n",
      "1115                 NaN               NaN                 NaN   \n",
      "1116                 NaN               NaN                 NaN   \n",
      "1117                 NaN               NaN                 NaN   \n",
      "1118                 NaN               NaN                 NaN   \n",
      "1119                 NaN               NaN                 NaN   \n",
      "\n",
      "     data_1_list_10_key data_1_list_10_value data_1_list_11_key  \\\n",
      "0                   NaN                  NaN                NaN   \n",
      "1                   NaN                  NaN                NaN   \n",
      "2                   NaN                  NaN                NaN   \n",
      "3                   NaN                  NaN                NaN   \n",
      "4                   NaN                  NaN                NaN   \n",
      "...                 ...                  ...                ...   \n",
      "1115                NaN                  NaN                NaN   \n",
      "1116                NaN                  NaN                NaN   \n",
      "1117                NaN                  NaN                NaN   \n",
      "1118                NaN                  NaN                NaN   \n",
      "1119                NaN                  NaN                NaN   \n",
      "\n",
      "     data_1_list_11_value                                          car_links  \\\n",
      "0                     NaN  https://www.cardekho.com/used-car-details/used...   \n",
      "1                     NaN  https://www.cardekho.com/buy-used-car-details/...   \n",
      "2                     NaN  https://www.cardekho.com/used-car-details/used...   \n",
      "3                     NaN  https://www.cardekho.com/buy-used-car-details/...   \n",
      "4                     NaN  https://www.cardekho.com/used-car-details/used...   \n",
      "...                   ...                                                ...   \n",
      "1115                  NaN  https://www.cardekho.com/used-car-details/used...   \n",
      "1116                  NaN  https://www.cardekho.com/used-car-details/used...   \n",
      "1117                  NaN  https://www.cardekho.com/used-car-details/used...   \n",
      "1118                  NaN  https://www.cardekho.com/used-car-details/used...   \n",
      "1119                  NaN  https://www.cardekho.com/used-car-details/used...   \n",
      "\n",
      "        City  \n",
      "0     Jaipur  \n",
      "1     Jaipur  \n",
      "2     Jaipur  \n",
      "3     Jaipur  \n",
      "4     Jaipur  \n",
      "...      ...  \n",
      "1115  Jaipur  \n",
      "1116  Jaipur  \n",
      "1117  Jaipur  \n",
      "1118  Jaipur  \n",
      "1119  Jaipur  \n",
      "\n",
      "[1120 rows x 302 columns]\n"
     ]
    }
   ],
   "source": [
    "def flatten_dict(d, parent_key=''):\n",
    "    flat_dict = {}\n",
    "    \n",
    "    for key, value in d.items():\n",
    "        new_key = f\"{parent_key}_{key}\" if parent_key else key\n",
    "        \n",
    "        if isinstance(value, dict):\n",
    "            # Recursively flatten nested dictionaries\n",
    "            flat_dict.update(flatten_dict(value, new_key))\n",
    "        \n",
    "        elif isinstance(value, list):\n",
    "            # Handle lists: flatten dictionaries inside lists\n",
    "            for i, item in enumerate(value):\n",
    "                if isinstance(item, dict):\n",
    "                    flat_dict.update(flatten_dict(item, f'{new_key}_{i}'))\n",
    "                else:\n",
    "                    flat_dict[f'{new_key}_{i}'] = item\n",
    "        else:\n",
    "            # For non-dict, non-list values, add them directly\n",
    "            flat_dict[new_key] = value\n",
    "            \n",
    "    return flat_dict\n",
    "columns_to_process = [\"new_car_detail\",\"new_car_overview\",\"new_car_feature\",\"new_car_specs\"]\n",
    "structured_data = {}\n",
    "\n",
    "for col in columns_to_process:\n",
    "    flattened_rows = []\n",
    "    for row in df[col]:\n",
    "        row_data = ast.literal_eval(row)\n",
    "        flattened_rows.append(flatten_dict(row_data))\n",
    "    structured_data[col] = pd.DataFrame(flattened_rows)\n",
    "\n",
    "# For carlinks, no need to flatten\n",
    "structured_data[\"car_links\"] = df[[\"car_links\"]].copy()\n",
    "\n",
    "# Combine all flattened data into a single DataFrame\n",
    "jaipur_structured = pd.concat([structured_data[\"new_car_detail\"], \n",
    "                      structured_data[\"new_car_overview\"],\n",
    "                      structured_data[\"new_car_feature\"], \n",
    "                      structured_data[\"new_car_specs\"], \n",
    "                      structured_data[\"car_links\"]], axis=1)\n",
    "\n",
    "# Add a city column\n",
    "jaipur_structured[\"City\"] = \"Jaipur\"\n",
    "\n",
    "# Save the dataframe to a csv file\n",
    "jaipur_structured.to_csv(output_path, index=False)\n",
    "\n",
    "print(jaipur_structured)"
   ]
  },
  {
   "cell_type": "markdown",
   "id": "6f219dd2-b871-4605-9964-01f9e02075b9",
   "metadata": {},
   "source": [
    "# KOLKATA"
   ]
  },
  {
   "cell_type": "code",
   "execution_count": 928,
   "id": "7c21b96d-e3df-473e-984d-fd7cf5bcc263",
   "metadata": {},
   "outputs": [],
   "source": [
    "#file paths\n",
    "input_path = \"C:\\\\Users\\\\admin\\\\python\\\\Car Dheko - Used Car Price Prediction\\\\kolkata_cars.xlsx\"\n",
    "output_path = \"C:\\\\Users\\\\admin\\\\python\\\\Car Dheko - Used Car Price Prediction\\\\kolkata_structured.csv\"\n",
    "\n",
    "df=pd.read_excel(input_path)"
   ]
  },
  {
   "cell_type": "code",
   "execution_count": 930,
   "id": "f3e3f855-b5ba-41e1-8419-164eab92450a",
   "metadata": {},
   "outputs": [
    {
     "name": "stdout",
     "output_type": "stream",
     "text": [
      "      it      ft         bt        km transmission  ownerNo      owner  \\\n",
      "0      0  Petrol      Sedan    70,000    Automatic        3  3rd Owner   \n",
      "1      0  Petrol  Hatchback    23,981       Manual        1  1st Owner   \n",
      "2      0  Petrol        SUV     7,100    Automatic        1  1st Owner   \n",
      "3      0  Petrol  Hatchback    71,574       Manual        2  2nd Owner   \n",
      "4      0  Diesel        SUV    50,000    Automatic        2  2nd Owner   \n",
      "...   ..     ...        ...       ...          ...      ...        ...   \n",
      "1376   0  Petrol  Hatchback    10,000       Manual        1  1st Owner   \n",
      "1377   0  Petrol  Hatchback  1,20,000       Manual        1  1st Owner   \n",
      "1378   0  Petrol      Sedan    50,000    Automatic        3  3rd Owner   \n",
      "1379   0  Petrol  Hatchback    40,000       Manual        1  1st Owner   \n",
      "1380   0  Diesel        SUV  1,20,000       Manual        2  2nd Owner   \n",
      "\n",
      "                oem                  model  modelYear  ...  \\\n",
      "0            Toyota           Toyota Camry       2014  ...   \n",
      "1            Datsun          Datsun RediGO       2017  ...   \n",
      "2           Renault          Renault Kiger       2021  ...   \n",
      "3           Hyundai            Hyundai i20       2011  ...   \n",
      "4              Audi                Audi Q3       2014  ...   \n",
      "...             ...                    ...        ...  ...   \n",
      "1376         Maruti         Maruti Celerio       2022  ...   \n",
      "1377         Maruti        Maruti Alto 800       2014  ...   \n",
      "1378  Mercedes-Benz  Mercedes-Benz C-Class       2011  ...   \n",
      "1379         Maruti            Maruti Ritz       2012  ...   \n",
      "1380        Renault         Renault Duster       2017  ...   \n",
      "\n",
      "      data_2_list_11_key data_2_list_11_value data_2_list_12_key  \\\n",
      "0                    NaN                  NaN                NaN   \n",
      "1                    NaN                  NaN                NaN   \n",
      "2                    NaN                  NaN                NaN   \n",
      "3           Cargo Volumn              295 Lit                NaN   \n",
      "4        No Door Numbers                    5       Cargo Volumn   \n",
      "...                  ...                  ...                ...   \n",
      "1376                 NaN                  NaN                NaN   \n",
      "1377        Cargo Volumn           177-litres                NaN   \n",
      "1378     No Door Numbers                    4       Cargo Volumn   \n",
      "1379     No Door Numbers                    5       Cargo Volumn   \n",
      "1380     No Door Numbers                    5       Cargo Volumn   \n",
      "\n",
      "     data_2_list_12_value data_0_list_12_key data_0_list_12_value  \\\n",
      "0                     NaN                NaN                  NaN   \n",
      "1                     NaN                NaN                  NaN   \n",
      "2                     NaN                NaN                  NaN   \n",
      "3                     NaN                NaN                  NaN   \n",
      "4              460-litres                NaN                  NaN   \n",
      "...                   ...                ...                  ...   \n",
      "1376                  NaN                NaN                  NaN   \n",
      "1377                  NaN                NaN                  NaN   \n",
      "1378           475-litres                NaN                  NaN   \n",
      "1379           236-liters                NaN                  NaN   \n",
      "1380           410-litres                NaN                  NaN   \n",
      "\n",
      "     data_1_list_8_key data_1_list_8_value  \\\n",
      "0                  NaN                 NaN   \n",
      "1                  NaN                 NaN   \n",
      "2                  NaN                 NaN   \n",
      "3                  NaN                 NaN   \n",
      "4                  NaN                 NaN   \n",
      "...                ...                 ...   \n",
      "1376               NaN                 NaN   \n",
      "1377               NaN                 NaN   \n",
      "1378               NaN                 NaN   \n",
      "1379               NaN                 NaN   \n",
      "1380               NaN                 NaN   \n",
      "\n",
      "                                              car_links     City  \n",
      "0     https://www.cardekho.com/used-car-details/used...  Kolkata  \n",
      "1     https://www.cardekho.com/buy-used-car-details/...  Kolkata  \n",
      "2     https://www.cardekho.com/used-car-details/used...  Kolkata  \n",
      "3     https://www.cardekho.com/buy-used-car-details/...  Kolkata  \n",
      "4     https://www.cardekho.com/used-car-details/used...  Kolkata  \n",
      "...                                                 ...      ...  \n",
      "1376  https://www.cardekho.com/used-car-details/used...  Kolkata  \n",
      "1377  https://www.cardekho.com/used-car-details/used...  Kolkata  \n",
      "1378  https://www.cardekho.com/used-car-details/used...  Kolkata  \n",
      "1379  https://www.cardekho.com/used-car-details/used...  Kolkata  \n",
      "1380  https://www.cardekho.com/used-car-details/used...  Kolkata  \n",
      "\n",
      "[1381 rows x 304 columns]\n"
     ]
    }
   ],
   "source": [
    "def flatten_dict(d, parent_key=''):\n",
    "    flat_dict = {}\n",
    "    \n",
    "    for key, value in d.items():\n",
    "        new_key = f\"{parent_key}_{key}\" if parent_key else key\n",
    "        \n",
    "        if isinstance(value, dict):\n",
    "            # Recursively flatten nested dictionaries\n",
    "            flat_dict.update(flatten_dict(value, new_key))\n",
    "        \n",
    "        elif isinstance(value, list):\n",
    "            # Handle lists: flatten dictionaries inside lists\n",
    "            for i, item in enumerate(value):\n",
    "                if isinstance(item, dict):\n",
    "                    flat_dict.update(flatten_dict(item, f'{new_key}_{i}'))\n",
    "                else:\n",
    "                    flat_dict[f'{new_key}_{i}'] = item\n",
    "        else:\n",
    "            # For non-dict, non-list values, add them directly\n",
    "            flat_dict[new_key] = value\n",
    "            \n",
    "    return flat_dict\n",
    "columns_to_process = [\"new_car_detail\",\"new_car_overview\",\"new_car_feature\",\"new_car_specs\"]\n",
    "structured_data = {}\n",
    "\n",
    "for col in columns_to_process:\n",
    "    flattened_rows = []\n",
    "    for row in df[col]:\n",
    "        row_data = ast.literal_eval(row)\n",
    "        flattened_rows.append(flatten_dict(row_data))\n",
    "    structured_data[col] = pd.DataFrame(flattened_rows)\n",
    "\n",
    "# For carlinks, no need to flatten\n",
    "structured_data[\"car_links\"] = df[[\"car_links\"]].copy()\n",
    "\n",
    "# Combine all flattened data into a single DataFrame\n",
    "kolkata_structured = pd.concat([structured_data[\"new_car_detail\"], \n",
    "                      structured_data[\"new_car_overview\"],\n",
    "                      structured_data[\"new_car_feature\"], \n",
    "                      structured_data[\"new_car_specs\"], \n",
    "                      structured_data[\"car_links\"]], axis=1)\n",
    "\n",
    "# Add a city column\n",
    "kolkata_structured[\"City\"] = \"Kolkata\"\n",
    "\n",
    "# Save the dataframe to a csv file\n",
    "kolkata_structured.to_csv(output_path, index=False)\n",
    "\n",
    "print(kolkata_structured)"
   ]
  },
  {
   "cell_type": "code",
   "execution_count": null,
   "id": "bc39cb96-64c4-414b-a6e0-7030be9eae47",
   "metadata": {},
   "outputs": [],
   "source": [
    "#Combining all structured data"
   ]
  },
  {
   "cell_type": "code",
   "execution_count": 932,
   "id": "d8158a9e-9a4a-49bb-b73e-69ffa2db5a42",
   "metadata": {},
   "outputs": [
    {
     "name": "stdout",
     "output_type": "stream",
     "text": [
      "sucessfully\n"
     ]
    }
   ],
   "source": [
    "file_paths=[\"C:\\\\Users\\\\admin\\\\python\\\\Car Dheko - Used Car Price Prediction\\\\bangalore_structured.csv\",\n",
    "           \"C:\\\\Users\\\\admin\\\\python\\\\Car Dheko - Used Car Price Prediction\\\\chennai_structured.csv\",\n",
    "           \"C:\\\\Users\\\\admin\\\\python\\\\Car Dheko - Used Car Price Prediction\\\\delhi_structured.csv\",\n",
    "           \"C:\\\\Users\\\\admin\\\\python\\\\Car Dheko - Used Car Price Prediction\\\\hyderabad_structured.csv\",\n",
    "           \"C:\\\\Users\\\\admin\\\\python\\\\Car Dheko - Used Car Price Prediction\\\\jaipur_structured.csv\",\n",
    "           \"C:\\\\Users\\\\admin\\\\python\\\\Car Dheko - Used Car Price Prediction\\\\kolkata_structured.csv\"]\n",
    "\n",
    "final_df=[]\n",
    "\n",
    "for file_path in file_paths:\n",
    "    df=pd.read_csv(file_path)\n",
    "    final_df.append(df)\n",
    "    \n",
    "final_df = pd.concat(final_df, ignore_index=True)\n",
    "\n",
    "output_path = \"C:\\\\Users\\\\admin\\\\python\\\\Car Dheko - Used Car Price Prediction\\\\final_df.csv\"\n",
    "final_df.to_csv(output_path, index=False)\n",
    "\n",
    "print(\"sucessfully\")\n"
   ]
  },
  {
   "cell_type": "markdown",
   "id": "b9085983-8b07-426b-b4ad-0a22b7a62492",
   "metadata": {},
   "source": [
    "# PRE-PROCESSING"
   ]
  },
  {
   "cell_type": "code",
   "execution_count": 934,
   "id": "24eea6df-18cb-4ecc-91a4-edb68d8c8131",
   "metadata": {},
   "outputs": [
    {
     "name": "stderr",
     "output_type": "stream",
     "text": [
      "C:\\Users\\admin\\AppData\\Local\\Temp\\ipykernel_12176\\338441427.py:1: DtypeWarning: Columns (13,190,191,192,193,194,195,196,197,198,199,200,201,202,203,204,205,206,207,208,210,211,212,213,214,215,234,240,242,308,309,310,311,312,313,314,315,316,317,318,319,320,321,323) have mixed types. Specify dtype option on import or set low_memory=False.\n",
      "  final_df=pd.read_csv(\"C:\\\\Users\\\\admin\\\\python\\\\Car Dheko - Used Car Price Prediction\\\\final_df.csv\")\n"
     ]
    }
   ],
   "source": [
    "final_df=pd.read_csv(\"C:\\\\Users\\\\admin\\\\python\\\\Car Dheko - Used Car Price Prediction\\\\final_df.csv\")"
   ]
  },
  {
   "cell_type": "code",
   "execution_count": 936,
   "id": "638d3c0d-17a6-47b1-aa19-785db0c06740",
   "metadata": {},
   "outputs": [
    {
     "data": {
      "text/html": [
       "<div>\n",
       "<style scoped>\n",
       "    .dataframe tbody tr th:only-of-type {\n",
       "        vertical-align: middle;\n",
       "    }\n",
       "\n",
       "    .dataframe tbody tr th {\n",
       "        vertical-align: top;\n",
       "    }\n",
       "\n",
       "    .dataframe thead th {\n",
       "        text-align: right;\n",
       "    }\n",
       "</style>\n",
       "<table border=\"1\" class=\"dataframe\">\n",
       "  <thead>\n",
       "    <tr style=\"text-align: right;\">\n",
       "      <th></th>\n",
       "      <th>it</th>\n",
       "      <th>ft</th>\n",
       "      <th>bt</th>\n",
       "      <th>km</th>\n",
       "      <th>transmission</th>\n",
       "      <th>ownerNo</th>\n",
       "      <th>owner</th>\n",
       "      <th>oem</th>\n",
       "      <th>model</th>\n",
       "      <th>modelYear</th>\n",
       "      <th>...</th>\n",
       "      <th>data_0_list_36_value</th>\n",
       "      <th>data_3_list_45_value</th>\n",
       "      <th>data_3_list_46_value</th>\n",
       "      <th>data_3_list_47_value</th>\n",
       "      <th>data_1_list_9_key</th>\n",
       "      <th>data_1_list_9_value.1</th>\n",
       "      <th>data_1_list_10_key</th>\n",
       "      <th>data_1_list_10_value.1</th>\n",
       "      <th>data_1_list_11_key</th>\n",
       "      <th>data_1_list_11_value.1</th>\n",
       "    </tr>\n",
       "  </thead>\n",
       "  <tbody>\n",
       "    <tr>\n",
       "      <th>0</th>\n",
       "      <td>0</td>\n",
       "      <td>Petrol</td>\n",
       "      <td>Hatchback</td>\n",
       "      <td>1,20,000</td>\n",
       "      <td>Manual</td>\n",
       "      <td>3</td>\n",
       "      <td>3rd Owner</td>\n",
       "      <td>Maruti</td>\n",
       "      <td>Maruti Celerio</td>\n",
       "      <td>2015</td>\n",
       "      <td>...</td>\n",
       "      <td>NaN</td>\n",
       "      <td>NaN</td>\n",
       "      <td>NaN</td>\n",
       "      <td>NaN</td>\n",
       "      <td>NaN</td>\n",
       "      <td>NaN</td>\n",
       "      <td>NaN</td>\n",
       "      <td>NaN</td>\n",
       "      <td>NaN</td>\n",
       "      <td>NaN</td>\n",
       "    </tr>\n",
       "    <tr>\n",
       "      <th>1</th>\n",
       "      <td>0</td>\n",
       "      <td>Petrol</td>\n",
       "      <td>SUV</td>\n",
       "      <td>32,706</td>\n",
       "      <td>Manual</td>\n",
       "      <td>2</td>\n",
       "      <td>2nd Owner</td>\n",
       "      <td>Ford</td>\n",
       "      <td>Ford Ecosport</td>\n",
       "      <td>2018</td>\n",
       "      <td>...</td>\n",
       "      <td>NaN</td>\n",
       "      <td>NaN</td>\n",
       "      <td>NaN</td>\n",
       "      <td>NaN</td>\n",
       "      <td>NaN</td>\n",
       "      <td>NaN</td>\n",
       "      <td>NaN</td>\n",
       "      <td>NaN</td>\n",
       "      <td>NaN</td>\n",
       "      <td>NaN</td>\n",
       "    </tr>\n",
       "    <tr>\n",
       "      <th>2</th>\n",
       "      <td>0</td>\n",
       "      <td>Petrol</td>\n",
       "      <td>Hatchback</td>\n",
       "      <td>11,949</td>\n",
       "      <td>Manual</td>\n",
       "      <td>1</td>\n",
       "      <td>1st Owner</td>\n",
       "      <td>Tata</td>\n",
       "      <td>Tata Tiago</td>\n",
       "      <td>2018</td>\n",
       "      <td>...</td>\n",
       "      <td>NaN</td>\n",
       "      <td>NaN</td>\n",
       "      <td>NaN</td>\n",
       "      <td>NaN</td>\n",
       "      <td>NaN</td>\n",
       "      <td>NaN</td>\n",
       "      <td>NaN</td>\n",
       "      <td>NaN</td>\n",
       "      <td>NaN</td>\n",
       "      <td>NaN</td>\n",
       "    </tr>\n",
       "    <tr>\n",
       "      <th>3</th>\n",
       "      <td>0</td>\n",
       "      <td>Petrol</td>\n",
       "      <td>Sedan</td>\n",
       "      <td>17,794</td>\n",
       "      <td>Manual</td>\n",
       "      <td>1</td>\n",
       "      <td>1st Owner</td>\n",
       "      <td>Hyundai</td>\n",
       "      <td>Hyundai Xcent</td>\n",
       "      <td>2014</td>\n",
       "      <td>...</td>\n",
       "      <td>NaN</td>\n",
       "      <td>NaN</td>\n",
       "      <td>NaN</td>\n",
       "      <td>NaN</td>\n",
       "      <td>NaN</td>\n",
       "      <td>NaN</td>\n",
       "      <td>NaN</td>\n",
       "      <td>NaN</td>\n",
       "      <td>NaN</td>\n",
       "      <td>NaN</td>\n",
       "    </tr>\n",
       "    <tr>\n",
       "      <th>4</th>\n",
       "      <td>0</td>\n",
       "      <td>Diesel</td>\n",
       "      <td>SUV</td>\n",
       "      <td>60,000</td>\n",
       "      <td>Manual</td>\n",
       "      <td>1</td>\n",
       "      <td>1st Owner</td>\n",
       "      <td>Maruti</td>\n",
       "      <td>Maruti SX4 S Cross</td>\n",
       "      <td>2015</td>\n",
       "      <td>...</td>\n",
       "      <td>NaN</td>\n",
       "      <td>NaN</td>\n",
       "      <td>NaN</td>\n",
       "      <td>NaN</td>\n",
       "      <td>NaN</td>\n",
       "      <td>NaN</td>\n",
       "      <td>NaN</td>\n",
       "      <td>NaN</td>\n",
       "      <td>NaN</td>\n",
       "      <td>NaN</td>\n",
       "    </tr>\n",
       "  </tbody>\n",
       "</table>\n",
       "<p>5 rows × 325 columns</p>\n",
       "</div>"
      ],
      "text/plain": [
       "   it      ft         bt        km transmission  ownerNo      owner      oem  \\\n",
       "0   0  Petrol  Hatchback  1,20,000       Manual        3  3rd Owner   Maruti   \n",
       "1   0  Petrol        SUV    32,706       Manual        2  2nd Owner     Ford   \n",
       "2   0  Petrol  Hatchback    11,949       Manual        1  1st Owner     Tata   \n",
       "3   0  Petrol      Sedan    17,794       Manual        1  1st Owner  Hyundai   \n",
       "4   0  Diesel        SUV    60,000       Manual        1  1st Owner   Maruti   \n",
       "\n",
       "                model  modelYear  ...  data_0_list_36_value  \\\n",
       "0      Maruti Celerio       2015  ...                   NaN   \n",
       "1       Ford Ecosport       2018  ...                   NaN   \n",
       "2          Tata Tiago       2018  ...                   NaN   \n",
       "3       Hyundai Xcent       2014  ...                   NaN   \n",
       "4  Maruti SX4 S Cross       2015  ...                   NaN   \n",
       "\n",
       "  data_3_list_45_value data_3_list_46_value data_3_list_47_value  \\\n",
       "0                  NaN                  NaN                  NaN   \n",
       "1                  NaN                  NaN                  NaN   \n",
       "2                  NaN                  NaN                  NaN   \n",
       "3                  NaN                  NaN                  NaN   \n",
       "4                  NaN                  NaN                  NaN   \n",
       "\n",
       "   data_1_list_9_key  data_1_list_9_value.1 data_1_list_10_key  \\\n",
       "0                NaN                    NaN                NaN   \n",
       "1                NaN                    NaN                NaN   \n",
       "2                NaN                    NaN                NaN   \n",
       "3                NaN                    NaN                NaN   \n",
       "4                NaN                    NaN                NaN   \n",
       "\n",
       "  data_1_list_10_value.1 data_1_list_11_key data_1_list_11_value.1  \n",
       "0                    NaN                NaN                    NaN  \n",
       "1                    NaN                NaN                    NaN  \n",
       "2                    NaN                NaN                    NaN  \n",
       "3                    NaN                NaN                    NaN  \n",
       "4                    NaN                NaN                    NaN  \n",
       "\n",
       "[5 rows x 325 columns]"
      ]
     },
     "execution_count": 936,
     "metadata": {},
     "output_type": "execute_result"
    }
   ],
   "source": [
    "final_df.head()"
   ]
  },
  {
   "cell_type": "code",
   "execution_count": 940,
   "id": "2f5f2b6f-a78e-4913-a2e1-1c7df6a3bd52",
   "metadata": {},
   "outputs": [
    {
     "data": {
      "text/plain": [
       "(8369, 325)"
      ]
     },
     "execution_count": 940,
     "metadata": {},
     "output_type": "execute_result"
    }
   ],
   "source": [
    "final_df.shape"
   ]
  },
  {
   "cell_type": "code",
   "execution_count": 942,
   "id": "f9e99f5a-ebb9-405e-89b9-2214c1aac557",
   "metadata": {},
   "outputs": [
    {
     "data": {
      "text/plain": [
       "Index(['it', 'ft', 'bt', 'km', 'transmission', 'ownerNo', 'owner', 'oem',\n",
       "       'model', 'modelYear',\n",
       "       ...\n",
       "       'data_0_list_36_value', 'data_3_list_45_value', 'data_3_list_46_value',\n",
       "       'data_3_list_47_value', 'data_1_list_9_key', 'data_1_list_9_value.1',\n",
       "       'data_1_list_10_key', 'data_1_list_10_value.1', 'data_1_list_11_key',\n",
       "       'data_1_list_11_value.1'],\n",
       "      dtype='object', length=325)"
      ]
     },
     "execution_count": 942,
     "metadata": {},
     "output_type": "execute_result"
    }
   ],
   "source": [
    "final_df.columns"
   ]
  },
  {
   "cell_type": "code",
   "execution_count": 944,
   "id": "edc0733e-39ce-42ff-a15c-a5d0d42eb6fe",
   "metadata": {},
   "outputs": [
    {
     "data": {
      "text/plain": [
       "it                         0.000000\n",
       "ft                         0.000000\n",
       "bt                         0.047795\n",
       "km                         0.000000\n",
       "transmission               0.000000\n",
       "                            ...    \n",
       "data_1_list_9_value.1     99.952205\n",
       "data_1_list_10_key        99.952205\n",
       "data_1_list_10_value.1    99.952205\n",
       "data_1_list_11_key        99.952205\n",
       "data_1_list_11_value.1    99.952205\n",
       "Length: 325, dtype: float64"
      ]
     },
     "execution_count": 944,
     "metadata": {},
     "output_type": "execute_result"
    }
   ],
   "source": [
    "final_df.isnull().mean()*100"
   ]
  },
  {
   "cell_type": "code",
   "execution_count": 946,
   "id": "ba9a7c09-3e55-4de2-94eb-2ea64c20cd5c",
   "metadata": {},
   "outputs": [],
   "source": [
    "#drop columns with more than 50% nan values\n",
    "threshold=len(final_df) * 0.5\n",
    "final_df=final_df.dropna(thresh=threshold, axis=1)"
   ]
  },
  {
   "cell_type": "code",
   "execution_count": 948,
   "id": "d2379d47-b70d-4762-8657-716db4ce47a0",
   "metadata": {},
   "outputs": [
    {
     "data": {
      "text/plain": [
       "(8369, 215)"
      ]
     },
     "execution_count": 948,
     "metadata": {},
     "output_type": "execute_result"
    }
   ],
   "source": [
    "final_df.shape"
   ]
  },
  {
   "cell_type": "code",
   "execution_count": null,
   "id": "4a0bd223-d442-4a84-b7e3-cc5bcd33aeab",
   "metadata": {},
   "outputs": [],
   "source": [
    "# checking and treating missing values"
   ]
  },
  {
   "cell_type": "code",
   "execution_count": 950,
   "id": "18b68100-9068-449d-8ba0-1127db15440e",
   "metadata": {},
   "outputs": [
    {
     "data": {
      "text/plain": [
       "0"
      ]
     },
     "execution_count": 950,
     "metadata": {},
     "output_type": "execute_result"
    }
   ],
   "source": [
    "final_df[\"price\"].isnull().sum()"
   ]
  },
  {
   "cell_type": "code",
   "execution_count": 952,
   "id": "e7852e44-ac1d-46a4-acea-f6718563846b",
   "metadata": {},
   "outputs": [
    {
     "data": {
      "text/plain": [
       "it                           0\n",
       "ft                           0\n",
       "bt                           4\n",
       "km                           0\n",
       "transmission                 0\n",
       "                          ... \n",
       "data_2_list_11_value.1    3918\n",
       "top_5_key.1               3243\n",
       "top_5_value.2             3243\n",
       "car_links                    0\n",
       "City                         0\n",
       "Length: 215, dtype: int64"
      ]
     },
     "execution_count": 952,
     "metadata": {},
     "output_type": "execute_result"
    }
   ],
   "source": [
    "final_df.isnull().sum()"
   ]
  },
  {
   "cell_type": "code",
   "execution_count": 954,
   "id": "cff43a54-e3d4-4b48-89b2-ba6daab8e884",
   "metadata": {},
   "outputs": [
    {
     "data": {
      "text/plain": [
       "bt\n",
       "Hatchback        3567\n",
       "SUV              2225\n",
       "Sedan            2174\n",
       "MUV               352\n",
       "Minivans           23\n",
       "Coupe              10\n",
       "Pickup Trucks       6\n",
       "Convertibles        6\n",
       "Hybrids             1\n",
       "Wagon               1\n",
       "Name: count, dtype: int64"
      ]
     },
     "execution_count": 954,
     "metadata": {},
     "output_type": "execute_result"
    }
   ],
   "source": [
    "final_df[\"bt\"].value_counts()"
   ]
  },
  {
   "cell_type": "code",
   "execution_count": 956,
   "id": "49797fcc-2967-46fb-9371-e98d714a280f",
   "metadata": {},
   "outputs": [
    {
     "name": "stderr",
     "output_type": "stream",
     "text": [
      "C:\\Users\\admin\\AppData\\Local\\Temp\\ipykernel_12176\\3221153751.py:1: FutureWarning: A value is trying to be set on a copy of a DataFrame or Series through chained assignment using an inplace method.\n",
      "The behavior will change in pandas 3.0. This inplace method will never work because the intermediate object on which we are setting values always behaves as a copy.\n",
      "\n",
      "For example, when doing 'df[col].method(value, inplace=True)', try using 'df.method({col: value}, inplace=True)' or df[col] = df[col].method(value) instead, to perform the operation inplace on the original object.\n",
      "\n",
      "\n",
      "  final_df[\"bt\"].fillna(final_df[\"bt\"].mode()[0],inplace=True)\n"
     ]
    }
   ],
   "source": [
    "final_df[\"bt\"].fillna(final_df[\"bt\"].mode()[0],inplace=True)"
   ]
  },
  {
   "cell_type": "code",
   "execution_count": 958,
   "id": "28902e35-627a-4013-8c5b-1036eb06790c",
   "metadata": {},
   "outputs": [
    {
     "data": {
      "text/plain": [
       "0"
      ]
     },
     "execution_count": 958,
     "metadata": {},
     "output_type": "execute_result"
    }
   ],
   "source": [
    "final_df[\"ownerNo\"].isnull().sum()"
   ]
  },
  {
   "cell_type": "code",
   "execution_count": 960,
   "id": "319ee56f-2f07-4225-8307-c9bada20d9df",
   "metadata": {},
   "outputs": [
    {
     "data": {
      "text/plain": [
       "0"
      ]
     },
     "execution_count": 960,
     "metadata": {},
     "output_type": "execute_result"
    }
   ],
   "source": [
    "final_df[\"oem\"].isnull().sum()"
   ]
  },
  {
   "cell_type": "code",
   "execution_count": 962,
   "id": "4a9ab5ab-4df8-4d0e-b772-ed8cbf7d02c6",
   "metadata": {},
   "outputs": [
    {
     "data": {
      "text/plain": [
       "0"
      ]
     },
     "execution_count": 962,
     "metadata": {},
     "output_type": "execute_result"
    }
   ],
   "source": [
    "final_df[\"model\"].isnull().sum()"
   ]
  },
  {
   "cell_type": "code",
   "execution_count": 964,
   "id": "560c2691-67fb-477c-b9ca-f0cb9702295f",
   "metadata": {},
   "outputs": [
    {
     "data": {
      "text/plain": [
       "0"
      ]
     },
     "execution_count": 964,
     "metadata": {},
     "output_type": "execute_result"
    }
   ],
   "source": [
    "final_df[\"modelYear\"].isnull().sum()"
   ]
  },
  {
   "cell_type": "code",
   "execution_count": 966,
   "id": "c71bd0b1-17db-44c7-bfcd-4af624b21f5a",
   "metadata": {},
   "outputs": [
    {
     "data": {
      "text/plain": [
       "0"
      ]
     },
     "execution_count": 966,
     "metadata": {},
     "output_type": "execute_result"
    }
   ],
   "source": [
    "final_df[\"variantName\"].isnull().sum()"
   ]
  },
  {
   "cell_type": "code",
   "execution_count": 968,
   "id": "ad098c9e-0ccb-4bf8-90a5-5e1a2b512766",
   "metadata": {},
   "outputs": [
    {
     "data": {
      "text/plain": [
       "0"
      ]
     },
     "execution_count": 968,
     "metadata": {},
     "output_type": "execute_result"
    }
   ],
   "source": [
    "final_df[\"top_1_value\"].isnull().sum()"
   ]
  },
  {
   "cell_type": "code",
   "execution_count": 65,
   "id": "c14346ba-6b56-46e0-9696-ada63347dbb9",
   "metadata": {},
   "outputs": [],
   "source": [
    "#coversion type for price"
   ]
  },
  {
   "cell_type": "code",
   "execution_count": 970,
   "id": "6102d971-4d39-4aa2-adfd-c87be9462195",
   "metadata": {},
   "outputs": [],
   "source": [
    "def cov_price(price):\n",
    "    try:\n",
    "        price_s = str(price).replace(\"₹\",\"\").replace(\",\",\"\").strip()\n",
    "        if \"Lakh\" in price_s:\n",
    "            return float(price_s.replace(\"Lakh\",\"\").strip())*100000\n",
    "        return float(price_s)\n",
    "    except ValueError:\n",
    "        return np.nan\n",
    "            \n",
    "        "
   ]
  },
  {
   "cell_type": "code",
   "execution_count": 972,
   "id": "fbd05daf-3001-44b5-ab19-e499d079b05d",
   "metadata": {},
   "outputs": [],
   "source": [
    "final_df[\"price\"] =final_df[\"price\"].apply(cov_price)"
   ]
  },
  {
   "cell_type": "code",
   "execution_count": 974,
   "id": "8ac5570a-a42c-4326-afc3-f25c9fc9be6a",
   "metadata": {},
   "outputs": [
    {
     "data": {
      "text/plain": [
       "20"
      ]
     },
     "execution_count": 974,
     "metadata": {},
     "output_type": "execute_result"
    }
   ],
   "source": [
    "final_df[\"price\"].isnull().sum()"
   ]
  },
  {
   "cell_type": "code",
   "execution_count": 976,
   "id": "9586a85d-d90f-4e91-9129-f2abbc4c381a",
   "metadata": {},
   "outputs": [
    {
     "name": "stderr",
     "output_type": "stream",
     "text": [
      "C:\\Users\\admin\\AppData\\Local\\Temp\\ipykernel_12176\\1865049444.py:2: FutureWarning: A value is trying to be set on a copy of a DataFrame or Series through chained assignment using an inplace method.\n",
      "The behavior will change in pandas 3.0. This inplace method will never work because the intermediate object on which we are setting values always behaves as a copy.\n",
      "\n",
      "For example, when doing 'df[col].method(value, inplace=True)', try using 'df.method({col: value}, inplace=True)' or df[col] = df[col].method(value) instead, to perform the operation inplace on the original object.\n",
      "\n",
      "\n",
      "  final_df[\"price\"].fillna(final_df[\"price\"].median(),inplace=True)\n"
     ]
    }
   ],
   "source": [
    "#filling missing value\n",
    "final_df[\"price\"].fillna(final_df[\"price\"].median(),inplace=True)"
   ]
  },
  {
   "cell_type": "code",
   "execution_count": 978,
   "id": "9fbcec94-3b6b-4f20-9ecc-ff331ba14c25",
   "metadata": {},
   "outputs": [
    {
     "data": {
      "text/plain": [
       "0"
      ]
     },
     "execution_count": 978,
     "metadata": {},
     "output_type": "execute_result"
    }
   ],
   "source": [
    "final_df[\"price\"].isnull().sum()"
   ]
  },
  {
   "cell_type": "code",
   "execution_count": 980,
   "id": "b8357e1c-f724-4aed-abab-e238cc7d9b58",
   "metadata": {},
   "outputs": [],
   "source": [
    "#changing km into kms\n",
    "final_df[\"km\"] =final_df[\"km\"].str.replace(\"kms\",\"\").str.replace(\",\",\"\").astype(float)"
   ]
  },
  {
   "cell_type": "code",
   "execution_count": 982,
   "id": "df9a7829-746a-41f4-b13e-44f30ec76ea1",
   "metadata": {},
   "outputs": [
    {
     "data": {
      "text/plain": [
       "0"
      ]
     },
     "execution_count": 982,
     "metadata": {},
     "output_type": "execute_result"
    }
   ],
   "source": [
    "final_df[\"km\"].isnull().sum()"
   ]
  },
  {
   "cell_type": "code",
   "execution_count": 984,
   "id": "d7dcd4a6-d5a2-435e-bcdd-f522c012091c",
   "metadata": {},
   "outputs": [],
   "source": [
    "#clean mileage from top_0_value.2\n",
    "def car_mileage(mileage):\n",
    "    try:\n",
    "        mileage_s = str(mileage).replace(\"kmpl\",\"\").replace(\"km/mg\",\"\").strip()\n",
    "        mileage_float= float(mileage_s)\n",
    "        if mileage_float <100:\n",
    "            return mileage_float\n",
    "        else:\n",
    "            return np.nan\n",
    "    except ValueError:\n",
    "        return np.nan"
   ]
  },
  {
   "cell_type": "code",
   "execution_count": 986,
   "id": "87aa4cb7-3216-4d8c-b46b-05a07b44ad4b",
   "metadata": {},
   "outputs": [],
   "source": [
    "final_df[\"mileage\"] =final_df[\"top_0_value.2\"].apply(car_mileage)"
   ]
  },
  {
   "cell_type": "code",
   "execution_count": 988,
   "id": "acd463de-8703-40f6-8e40-0eb5a7cdff25",
   "metadata": {},
   "outputs": [
    {
     "data": {
      "text/plain": [
       "3.847532560640459"
      ]
     },
     "execution_count": 988,
     "metadata": {},
     "output_type": "execute_result"
    }
   ],
   "source": [
    "final_df[\"mileage\"].isnull().mean()*100"
   ]
  },
  {
   "cell_type": "code",
   "execution_count": 990,
   "id": "481138fd-a363-4944-9362-ee216fd90b8b",
   "metadata": {},
   "outputs": [
    {
     "data": {
      "text/plain": [
       "<bound method Series.info of 0       23.10\n",
       "1       17.00\n",
       "2       23.84\n",
       "3       19.10\n",
       "4       23.65\n",
       "        ...  \n",
       "8364    25.24\n",
       "8365    22.74\n",
       "8366    11.74\n",
       "8367    18.50\n",
       "8368    19.72\n",
       "Name: mileage, Length: 8369, dtype: float64>"
      ]
     },
     "execution_count": 990,
     "metadata": {},
     "output_type": "execute_result"
    }
   ],
   "source": [
    "final_df[\"mileage\"].info"
   ]
  },
  {
   "cell_type": "code",
   "execution_count": 992,
   "id": "1fb38d10-dde5-4ac0-a3b1-52114be103e9",
   "metadata": {},
   "outputs": [],
   "source": [
    "#replacing null value with mean value\n",
    "final_df[\"mileage\"].fillna(final_df[\"mileage\"].mean(),inplace=True)"
   ]
  },
  {
   "cell_type": "code",
   "execution_count": 994,
   "id": "36342019-3288-450d-96f1-8f045fadacd7",
   "metadata": {},
   "outputs": [
    {
     "data": {
      "text/plain": [
       "0.0"
      ]
     },
     "execution_count": 994,
     "metadata": {},
     "output_type": "execute_result"
    }
   ],
   "source": [
    "final_df[\"mileage\"].isnull().mean()*100"
   ]
  },
  {
   "cell_type": "code",
   "execution_count": 428,
   "id": "abef4b43-f2bc-4953-be06-652605ca4693",
   "metadata": {},
   "outputs": [],
   "source": [
    "#clean seat from top_3_value\n",
    "\n",
    "# def car_seats(seats):\n",
    "#     try:\n",
    "#         seat_s=str(seats).replace(\"seats\",\"\").strip()\n",
    "#         seats_int = int(seats)\n",
    "#         if seats_int <10:   \n",
    "#             return seats_int\n",
    "#         else:\n",
    "#             return np.nan\n",
    "#     except (ValueError,TypeError):\n",
    "#         return np.nan"
   ]
  },
  {
   "cell_type": "code",
   "execution_count": 468,
   "id": "2f3512d0-6cd8-4aa0-9c59-35c5a99c9b2b",
   "metadata": {},
   "outputs": [],
   "source": [
    "#final_df[\"top_3_value\"]=final_df[\"top_3_value\"].astype(str).str.replace(\"seats\",\"\")"
   ]
  },
  {
   "cell_type": "code",
   "execution_count": 996,
   "id": "79cef11c-3c7d-455f-9117-01bd5f87a520",
   "metadata": {},
   "outputs": [],
   "source": [
    "def car_seats(seats):\n",
    "    try:\n",
    "        seat_s = re.search(r'\\d+', str(seats))\n",
    "        if seat_s:\n",
    "            seats_int = int(seat_s.group())\n",
    "            if seats_int < 10:\n",
    "                return seats_int\n",
    "            else:\n",
    "                return np.nan\n",
    "    except (ValueError, TypeError):\n",
    "        return np.nan\n",
    "        "
   ]
  },
  {
   "cell_type": "code",
   "execution_count": 1000,
   "id": "e353b71b-1ce9-4c64-8512-8d1e4fbe983e",
   "metadata": {},
   "outputs": [],
   "source": [
    "final_df[\"seats\"]=final_df[\"top_3_value\"].apply(car_seats)"
   ]
  },
  {
   "cell_type": "code",
   "execution_count": 1002,
   "id": "1ac02b03-8d7a-4c8b-97b8-098c28985d06",
   "metadata": {},
   "outputs": [
    {
     "data": {
      "text/plain": [
       "50"
      ]
     },
     "execution_count": 1002,
     "metadata": {},
     "output_type": "execute_result"
    }
   ],
   "source": [
    "final_df[\"seats\"].isnull().sum()"
   ]
  },
  {
   "cell_type": "code",
   "execution_count": 1004,
   "id": "03f5f4af-0f50-4127-872d-62ee837a62ce",
   "metadata": {},
   "outputs": [
    {
     "data": {
      "text/plain": [
       "seats\n",
       "5.0    7309\n",
       "7.0     731\n",
       "6.0      99\n",
       "4.0      92\n",
       "8.0      61\n",
       "9.0      11\n",
       "1.0       9\n",
       "2.0       7\n",
       "Name: count, dtype: int64"
      ]
     },
     "execution_count": 1004,
     "metadata": {},
     "output_type": "execute_result"
    }
   ],
   "source": [
    "final_df[\"seats\"].value_counts()"
   ]
  },
  {
   "cell_type": "code",
   "execution_count": 1006,
   "id": "5d258fc1-5465-4c7b-b510-ca512b4f62f1",
   "metadata": {},
   "outputs": [
    {
     "name": "stderr",
     "output_type": "stream",
     "text": [
      "C:\\Users\\admin\\AppData\\Local\\Temp\\ipykernel_12176\\1965945630.py:2: FutureWarning: A value is trying to be set on a copy of a DataFrame or Series through chained assignment using an inplace method.\n",
      "The behavior will change in pandas 3.0. This inplace method will never work because the intermediate object on which we are setting values always behaves as a copy.\n",
      "\n",
      "For example, when doing 'df[col].method(value, inplace=True)', try using 'df.method({col: value}, inplace=True)' or df[col] = df[col].method(value) instead, to perform the operation inplace on the original object.\n",
      "\n",
      "\n",
      "  final_df[\"seats\"].fillna(final_df[\"seats\"].mode()[0], inplace=True)\n"
     ]
    }
   ],
   "source": [
    "#replacing null value with mode value\n",
    "final_df[\"seats\"].fillna(final_df[\"seats\"].mode()[0], inplace=True)"
   ]
  },
  {
   "cell_type": "code",
   "execution_count": 1008,
   "id": "e357d80c-c31a-43d9-adf9-871d97ddfc9b",
   "metadata": {},
   "outputs": [
    {
     "data": {
      "text/plain": [
       "0"
      ]
     },
     "execution_count": 1008,
     "metadata": {},
     "output_type": "execute_result"
    }
   ],
   "source": [
    "final_df[\"seats\"].isnull().sum()"
   ]
  },
  {
   "cell_type": "code",
   "execution_count": 1010,
   "id": "9eea87cd-5a00-422d-99ef-400001ffd99d",
   "metadata": {},
   "outputs": [],
   "source": [
    "#dropping top_3_value and top_0_value.2\n",
    "final_df.drop([\"top_3_value\",\"top_0_value.2\"],axis=1,inplace=True)"
   ]
  },
  {
   "cell_type": "code",
   "execution_count": 1012,
   "id": "af31bfdf-7a8e-4ae3-a60f-c32931fb853c",
   "metadata": {},
   "outputs": [],
   "source": [
    "# dropping the repeated column owner\n",
    "final_df.drop(\"owner\",axis=1,inplace=True)"
   ]
  },
  {
   "cell_type": "code",
   "execution_count": 1014,
   "id": "a169d9f0-61ed-473b-bb26-2f5d94bb0991",
   "metadata": {},
   "outputs": [],
   "source": [
    "#changing column name\n",
    "final_df[\"Insurance Validity\"] =final_df[\"top_1_value\"]"
   ]
  },
  {
   "cell_type": "code",
   "execution_count": 1016,
   "id": "226376b8-1c81-42dd-a941-8aa8b43cc723",
   "metadata": {},
   "outputs": [
    {
     "data": {
      "text/plain": [
       "0       Third Party insurance\n",
       "1               Comprehensive\n",
       "2               Comprehensive\n",
       "3               Comprehensive\n",
       "4       Third Party insurance\n",
       "                ...          \n",
       "8364    Third Party insurance\n",
       "8365    Third Party insurance\n",
       "8366    Third Party insurance\n",
       "8367    Third Party insurance\n",
       "8368    Third Party insurance\n",
       "Name: Insurance Validity, Length: 8369, dtype: object"
      ]
     },
     "execution_count": 1016,
     "metadata": {},
     "output_type": "execute_result"
    }
   ],
   "source": [
    "final_df[\"Insurance Validity\"]"
   ]
  },
  {
   "cell_type": "code",
   "execution_count": 1018,
   "id": "82a32ba4-8e9b-4ee6-8217-1cf299110e8d",
   "metadata": {},
   "outputs": [],
   "source": [
    "#dropping column\n",
    "final_df.drop(\"top_1_value\",axis=1,inplace=True)"
   ]
  },
  {
   "cell_type": "code",
   "execution_count": 1020,
   "id": "dd09f166-bb5e-4063-a025-d46272998f47",
   "metadata": {},
   "outputs": [
    {
     "data": {
      "text/plain": [
       "0"
      ]
     },
     "execution_count": 1020,
     "metadata": {},
     "output_type": "execute_result"
    }
   ],
   "source": [
    "final_df[\"Insurance Validity\"].isnull().sum()"
   ]
  },
  {
   "cell_type": "markdown",
   "id": "d8672b44-ca9f-43d4-8e32-7fb3f890f716",
   "metadata": {},
   "source": [
    "# ENCODING"
   ]
  },
  {
   "cell_type": "code",
   "execution_count": 1022,
   "id": "32a8e66b-e0f6-4693-9aac-10df7f31b6b7",
   "metadata": {},
   "outputs": [],
   "source": [
    "#label encoding\n",
    "\n",
    "categorical_columns = [\"ft\",\"bt\",\"transmission\",\"oem\",\"model\",\"variantName\",\"Insurance Validity\",\"City\"]\n",
    "\n",
    "le = LabelEncoder()"
   ]
  },
  {
   "cell_type": "code",
   "execution_count": 1024,
   "id": "28970de4-2879-425e-81ac-c06f692fc8aa",
   "metadata": {},
   "outputs": [
    {
     "data": {
      "text/plain": [
       "Index(['ft', 'bt', 'transmission', 'oem', 'model', 'variantName',\n",
       "       'Insurance Validity', 'City'],\n",
       "      dtype='object')"
      ]
     },
     "execution_count": 1024,
     "metadata": {},
     "output_type": "execute_result"
    }
   ],
   "source": [
    "final_df[categorical_columns].select_dtypes(include=[\"object\"]).columns"
   ]
  },
  {
   "cell_type": "code",
   "execution_count": 1026,
   "id": "d87f6c32-bbe1-4ee0-af1d-69af8127cd58",
   "metadata": {},
   "outputs": [],
   "source": [
    "for i in final_df[categorical_columns].select_dtypes(include=[\"object\"]).columns:\n",
    "    final_df[i]=le.fit_transform(final_df[i])\n",
    "    "
   ]
  },
  {
   "cell_type": "code",
   "execution_count": 1028,
   "id": "3d3ce7f2-efc3-452d-b412-ead6eed53ce7",
   "metadata": {},
   "outputs": [
    {
     "data": {
      "text/html": [
       "<div>\n",
       "<style scoped>\n",
       "    .dataframe tbody tr th:only-of-type {\n",
       "        vertical-align: middle;\n",
       "    }\n",
       "\n",
       "    .dataframe tbody tr th {\n",
       "        vertical-align: top;\n",
       "    }\n",
       "\n",
       "    .dataframe thead th {\n",
       "        text-align: right;\n",
       "    }\n",
       "</style>\n",
       "<table border=\"1\" class=\"dataframe\">\n",
       "  <thead>\n",
       "    <tr style=\"text-align: right;\">\n",
       "      <th></th>\n",
       "      <th>ft</th>\n",
       "      <th>bt</th>\n",
       "      <th>transmission</th>\n",
       "      <th>oem</th>\n",
       "      <th>model</th>\n",
       "      <th>variantName</th>\n",
       "      <th>Insurance Validity</th>\n",
       "      <th>City</th>\n",
       "    </tr>\n",
       "  </thead>\n",
       "  <tbody>\n",
       "    <tr>\n",
       "      <th>0</th>\n",
       "      <td>4</td>\n",
       "      <td>2</td>\n",
       "      <td>1</td>\n",
       "      <td>20</td>\n",
       "      <td>160</td>\n",
       "      <td>1806</td>\n",
       "      <td>8</td>\n",
       "      <td>0</td>\n",
       "    </tr>\n",
       "    <tr>\n",
       "      <th>1</th>\n",
       "      <td>4</td>\n",
       "      <td>7</td>\n",
       "      <td>1</td>\n",
       "      <td>6</td>\n",
       "      <td>50</td>\n",
       "      <td>288</td>\n",
       "      <td>2</td>\n",
       "      <td>0</td>\n",
       "    </tr>\n",
       "    <tr>\n",
       "      <th>2</th>\n",
       "      <td>4</td>\n",
       "      <td>2</td>\n",
       "      <td>1</td>\n",
       "      <td>29</td>\n",
       "      <td>273</td>\n",
       "      <td>129</td>\n",
       "      <td>2</td>\n",
       "      <td>0</td>\n",
       "    </tr>\n",
       "    <tr>\n",
       "      <th>3</th>\n",
       "      <td>4</td>\n",
       "      <td>8</td>\n",
       "      <td>1</td>\n",
       "      <td>9</td>\n",
       "      <td>87</td>\n",
       "      <td>101</td>\n",
       "      <td>2</td>\n",
       "      <td>0</td>\n",
       "    </tr>\n",
       "    <tr>\n",
       "      <th>4</th>\n",
       "      <td>1</td>\n",
       "      <td>7</td>\n",
       "      <td>1</td>\n",
       "      <td>20</td>\n",
       "      <td>178</td>\n",
       "      <td>987</td>\n",
       "      <td>8</td>\n",
       "      <td>0</td>\n",
       "    </tr>\n",
       "    <tr>\n",
       "      <th>...</th>\n",
       "      <td>...</td>\n",
       "      <td>...</td>\n",
       "      <td>...</td>\n",
       "      <td>...</td>\n",
       "      <td>...</td>\n",
       "      <td>...</td>\n",
       "      <td>...</td>\n",
       "      <td>...</td>\n",
       "    </tr>\n",
       "    <tr>\n",
       "      <th>8364</th>\n",
       "      <td>4</td>\n",
       "      <td>2</td>\n",
       "      <td>1</td>\n",
       "      <td>20</td>\n",
       "      <td>160</td>\n",
       "      <td>2051</td>\n",
       "      <td>8</td>\n",
       "      <td>5</td>\n",
       "    </tr>\n",
       "    <tr>\n",
       "      <th>8365</th>\n",
       "      <td>4</td>\n",
       "      <td>2</td>\n",
       "      <td>1</td>\n",
       "      <td>20</td>\n",
       "      <td>155</td>\n",
       "      <td>1268</td>\n",
       "      <td>8</td>\n",
       "      <td>5</td>\n",
       "    </tr>\n",
       "    <tr>\n",
       "      <th>8366</th>\n",
       "      <td>4</td>\n",
       "      <td>8</td>\n",
       "      <td>0</td>\n",
       "      <td>21</td>\n",
       "      <td>197</td>\n",
       "      <td>891</td>\n",
       "      <td>8</td>\n",
       "      <td>5</td>\n",
       "    </tr>\n",
       "    <tr>\n",
       "      <th>8367</th>\n",
       "      <td>4</td>\n",
       "      <td>2</td>\n",
       "      <td>1</td>\n",
       "      <td>20</td>\n",
       "      <td>175</td>\n",
       "      <td>2069</td>\n",
       "      <td>8</td>\n",
       "      <td>5</td>\n",
       "    </tr>\n",
       "    <tr>\n",
       "      <th>8368</th>\n",
       "      <td>1</td>\n",
       "      <td>7</td>\n",
       "      <td>1</td>\n",
       "      <td>27</td>\n",
       "      <td>236</td>\n",
       "      <td>460</td>\n",
       "      <td>8</td>\n",
       "      <td>5</td>\n",
       "    </tr>\n",
       "  </tbody>\n",
       "</table>\n",
       "<p>8369 rows × 8 columns</p>\n",
       "</div>"
      ],
      "text/plain": [
       "      ft  bt  transmission  oem  model  variantName  Insurance Validity  City\n",
       "0      4   2             1   20    160         1806                   8     0\n",
       "1      4   7             1    6     50          288                   2     0\n",
       "2      4   2             1   29    273          129                   2     0\n",
       "3      4   8             1    9     87          101                   2     0\n",
       "4      1   7             1   20    178          987                   8     0\n",
       "...   ..  ..           ...  ...    ...          ...                 ...   ...\n",
       "8364   4   2             1   20    160         2051                   8     5\n",
       "8365   4   2             1   20    155         1268                   8     5\n",
       "8366   4   8             0   21    197          891                   8     5\n",
       "8367   4   2             1   20    175         2069                   8     5\n",
       "8368   1   7             1   27    236          460                   8     5\n",
       "\n",
       "[8369 rows x 8 columns]"
      ]
     },
     "execution_count": 1028,
     "metadata": {},
     "output_type": "execute_result"
    }
   ],
   "source": [
    "final_df[categorical_columns]\n"
   ]
  },
  {
   "cell_type": "code",
   "execution_count": 1030,
   "id": "80d6240a-d75b-4eef-bffc-e61e9fa90dfc",
   "metadata": {},
   "outputs": [
    {
     "data": {
      "text/html": [
       "<div>\n",
       "<style scoped>\n",
       "    .dataframe tbody tr th:only-of-type {\n",
       "        vertical-align: middle;\n",
       "    }\n",
       "\n",
       "    .dataframe tbody tr th {\n",
       "        vertical-align: top;\n",
       "    }\n",
       "\n",
       "    .dataframe thead th {\n",
       "        text-align: right;\n",
       "    }\n",
       "</style>\n",
       "<table border=\"1\" class=\"dataframe\">\n",
       "  <thead>\n",
       "    <tr style=\"text-align: right;\">\n",
       "      <th></th>\n",
       "      <th>it</th>\n",
       "      <th>ft</th>\n",
       "      <th>bt</th>\n",
       "      <th>km</th>\n",
       "      <th>transmission</th>\n",
       "      <th>ownerNo</th>\n",
       "      <th>oem</th>\n",
       "      <th>model</th>\n",
       "      <th>modelYear</th>\n",
       "      <th>centralVariantId</th>\n",
       "      <th>...</th>\n",
       "      <th>data_2_list_10_value.1</th>\n",
       "      <th>data_2_list_11_key</th>\n",
       "      <th>data_2_list_11_value.1</th>\n",
       "      <th>top_5_key.1</th>\n",
       "      <th>top_5_value.2</th>\n",
       "      <th>car_links</th>\n",
       "      <th>City</th>\n",
       "      <th>mileage</th>\n",
       "      <th>seats</th>\n",
       "      <th>Insurance Validity</th>\n",
       "    </tr>\n",
       "  </thead>\n",
       "  <tbody>\n",
       "    <tr>\n",
       "      <th>0</th>\n",
       "      <td>0</td>\n",
       "      <td>4</td>\n",
       "      <td>2</td>\n",
       "      <td>120000.0</td>\n",
       "      <td>1</td>\n",
       "      <td>3</td>\n",
       "      <td>20</td>\n",
       "      <td>160</td>\n",
       "      <td>2015</td>\n",
       "      <td>3979</td>\n",
       "      <td>...</td>\n",
       "      <td>5</td>\n",
       "      <td>Cargo Volumn</td>\n",
       "      <td>235-litres</td>\n",
       "      <td>NaN</td>\n",
       "      <td>NaN</td>\n",
       "      <td>https://www.cardekho.com/used-car-details/used...</td>\n",
       "      <td>0</td>\n",
       "      <td>23.10</td>\n",
       "      <td>5.0</td>\n",
       "      <td>8</td>\n",
       "    </tr>\n",
       "    <tr>\n",
       "      <th>1</th>\n",
       "      <td>0</td>\n",
       "      <td>4</td>\n",
       "      <td>7</td>\n",
       "      <td>32706.0</td>\n",
       "      <td>1</td>\n",
       "      <td>2</td>\n",
       "      <td>6</td>\n",
       "      <td>50</td>\n",
       "      <td>2018</td>\n",
       "      <td>6087</td>\n",
       "      <td>...</td>\n",
       "      <td>352-litres</td>\n",
       "      <td>NaN</td>\n",
       "      <td>NaN</td>\n",
       "      <td>Seats</td>\n",
       "      <td>5.0</td>\n",
       "      <td>https://www.cardekho.com/buy-used-car-details/...</td>\n",
       "      <td>0</td>\n",
       "      <td>17.00</td>\n",
       "      <td>5.0</td>\n",
       "      <td>2</td>\n",
       "    </tr>\n",
       "    <tr>\n",
       "      <th>2</th>\n",
       "      <td>0</td>\n",
       "      <td>4</td>\n",
       "      <td>2</td>\n",
       "      <td>11949.0</td>\n",
       "      <td>1</td>\n",
       "      <td>1</td>\n",
       "      <td>29</td>\n",
       "      <td>273</td>\n",
       "      <td>2018</td>\n",
       "      <td>2983</td>\n",
       "      <td>...</td>\n",
       "      <td>14</td>\n",
       "      <td>No Door Numbers</td>\n",
       "      <td>5</td>\n",
       "      <td>Seats</td>\n",
       "      <td>5.0</td>\n",
       "      <td>https://www.cardekho.com/used-car-details/used...</td>\n",
       "      <td>0</td>\n",
       "      <td>23.84</td>\n",
       "      <td>5.0</td>\n",
       "      <td>2</td>\n",
       "    </tr>\n",
       "    <tr>\n",
       "      <th>3</th>\n",
       "      <td>0</td>\n",
       "      <td>4</td>\n",
       "      <td>8</td>\n",
       "      <td>17794.0</td>\n",
       "      <td>1</td>\n",
       "      <td>1</td>\n",
       "      <td>9</td>\n",
       "      <td>87</td>\n",
       "      <td>2014</td>\n",
       "      <td>1867</td>\n",
       "      <td>...</td>\n",
       "      <td>14</td>\n",
       "      <td>No Door Numbers</td>\n",
       "      <td>4</td>\n",
       "      <td>Seats</td>\n",
       "      <td>5.0</td>\n",
       "      <td>https://www.cardekho.com/buy-used-car-details/...</td>\n",
       "      <td>0</td>\n",
       "      <td>19.10</td>\n",
       "      <td>5.0</td>\n",
       "      <td>2</td>\n",
       "    </tr>\n",
       "    <tr>\n",
       "      <th>4</th>\n",
       "      <td>0</td>\n",
       "      <td>1</td>\n",
       "      <td>7</td>\n",
       "      <td>60000.0</td>\n",
       "      <td>1</td>\n",
       "      <td>1</td>\n",
       "      <td>20</td>\n",
       "      <td>178</td>\n",
       "      <td>2015</td>\n",
       "      <td>4277</td>\n",
       "      <td>...</td>\n",
       "      <td>16</td>\n",
       "      <td>No Door Numbers</td>\n",
       "      <td>5</td>\n",
       "      <td>Seats</td>\n",
       "      <td>5.0</td>\n",
       "      <td>https://www.cardekho.com/used-car-details/used...</td>\n",
       "      <td>0</td>\n",
       "      <td>23.65</td>\n",
       "      <td>5.0</td>\n",
       "      <td>8</td>\n",
       "    </tr>\n",
       "  </tbody>\n",
       "</table>\n",
       "<p>5 rows × 214 columns</p>\n",
       "</div>"
      ],
      "text/plain": [
       "   it  ft  bt        km  transmission  ownerNo  oem  model  modelYear  \\\n",
       "0   0   4   2  120000.0             1        3   20    160       2015   \n",
       "1   0   4   7   32706.0             1        2    6     50       2018   \n",
       "2   0   4   2   11949.0             1        1   29    273       2018   \n",
       "3   0   4   8   17794.0             1        1    9     87       2014   \n",
       "4   0   1   7   60000.0             1        1   20    178       2015   \n",
       "\n",
       "   centralVariantId  ...  data_2_list_10_value.1  data_2_list_11_key  \\\n",
       "0              3979  ...                       5        Cargo Volumn   \n",
       "1              6087  ...              352-litres                 NaN   \n",
       "2              2983  ...                      14     No Door Numbers   \n",
       "3              1867  ...                      14     No Door Numbers   \n",
       "4              4277  ...                      16     No Door Numbers   \n",
       "\n",
       "  data_2_list_11_value.1 top_5_key.1 top_5_value.2  \\\n",
       "0             235-litres         NaN           NaN   \n",
       "1                    NaN       Seats           5.0   \n",
       "2                      5       Seats           5.0   \n",
       "3                      4       Seats           5.0   \n",
       "4                      5       Seats           5.0   \n",
       "\n",
       "                                           car_links City mileage seats  \\\n",
       "0  https://www.cardekho.com/used-car-details/used...    0   23.10   5.0   \n",
       "1  https://www.cardekho.com/buy-used-car-details/...    0   17.00   5.0   \n",
       "2  https://www.cardekho.com/used-car-details/used...    0   23.84   5.0   \n",
       "3  https://www.cardekho.com/buy-used-car-details/...    0   19.10   5.0   \n",
       "4  https://www.cardekho.com/used-car-details/used...    0   23.65   5.0   \n",
       "\n",
       "  Insurance Validity  \n",
       "0                  8  \n",
       "1                  2  \n",
       "2                  2  \n",
       "3                  2  \n",
       "4                  8  \n",
       "\n",
       "[5 rows x 214 columns]"
      ]
     },
     "execution_count": 1030,
     "metadata": {},
     "output_type": "execute_result"
    }
   ],
   "source": [
    "final_df.head()"
   ]
  },
  {
   "cell_type": "code",
   "execution_count": 1032,
   "id": "056e9b5a-abda-43ea-b5c5-adfe18b3f01d",
   "metadata": {},
   "outputs": [],
   "source": [
    "#min-max scaler\n",
    "mm =MinMaxScaler()"
   ]
  },
  {
   "cell_type": "code",
   "execution_count": 1034,
   "id": "f809cb5a-2d5d-44e3-a281-31d7a631fa29",
   "metadata": {},
   "outputs": [],
   "source": [
    "final_df[[\"km\",\"modelYear\",\"ownerNo\",\"mileage\",\"seats\",\"price\"]]=mm.fit_transform(final_df[[\"km\",\"modelYear\",\"ownerNo\",\"mileage\",\"seats\",\"price\"]])"
   ]
  },
  {
   "cell_type": "code",
   "execution_count": 1036,
   "id": "4e552d0d-8bec-490d-9e63-93c76d518dc7",
   "metadata": {},
   "outputs": [
    {
     "data": {
      "text/html": [
       "<div>\n",
       "<style scoped>\n",
       "    .dataframe tbody tr th:only-of-type {\n",
       "        vertical-align: middle;\n",
       "    }\n",
       "\n",
       "    .dataframe tbody tr th {\n",
       "        vertical-align: top;\n",
       "    }\n",
       "\n",
       "    .dataframe thead th {\n",
       "        text-align: right;\n",
       "    }\n",
       "</style>\n",
       "<table border=\"1\" class=\"dataframe\">\n",
       "  <thead>\n",
       "    <tr style=\"text-align: right;\">\n",
       "      <th></th>\n",
       "      <th>it</th>\n",
       "      <th>ft</th>\n",
       "      <th>bt</th>\n",
       "      <th>km</th>\n",
       "      <th>transmission</th>\n",
       "      <th>ownerNo</th>\n",
       "      <th>oem</th>\n",
       "      <th>model</th>\n",
       "      <th>modelYear</th>\n",
       "      <th>centralVariantId</th>\n",
       "      <th>...</th>\n",
       "      <th>data_2_list_10_value.1</th>\n",
       "      <th>data_2_list_11_key</th>\n",
       "      <th>data_2_list_11_value.1</th>\n",
       "      <th>top_5_key.1</th>\n",
       "      <th>top_5_value.2</th>\n",
       "      <th>car_links</th>\n",
       "      <th>City</th>\n",
       "      <th>mileage</th>\n",
       "      <th>seats</th>\n",
       "      <th>Insurance Validity</th>\n",
       "    </tr>\n",
       "  </thead>\n",
       "  <tbody>\n",
       "    <tr>\n",
       "      <th>0</th>\n",
       "      <td>0</td>\n",
       "      <td>4</td>\n",
       "      <td>2</td>\n",
       "      <td>0.021818</td>\n",
       "      <td>1</td>\n",
       "      <td>0.6</td>\n",
       "      <td>20</td>\n",
       "      <td>160</td>\n",
       "      <td>0.789474</td>\n",
       "      <td>3979</td>\n",
       "      <td>...</td>\n",
       "      <td>5</td>\n",
       "      <td>Cargo Volumn</td>\n",
       "      <td>235-litres</td>\n",
       "      <td>NaN</td>\n",
       "      <td>NaN</td>\n",
       "      <td>https://www.cardekho.com/used-car-details/used...</td>\n",
       "      <td>0</td>\n",
       "      <td>0.593993</td>\n",
       "      <td>0.5</td>\n",
       "      <td>8</td>\n",
       "    </tr>\n",
       "    <tr>\n",
       "      <th>1</th>\n",
       "      <td>0</td>\n",
       "      <td>4</td>\n",
       "      <td>7</td>\n",
       "      <td>0.005947</td>\n",
       "      <td>1</td>\n",
       "      <td>0.4</td>\n",
       "      <td>6</td>\n",
       "      <td>50</td>\n",
       "      <td>0.868421</td>\n",
       "      <td>6087</td>\n",
       "      <td>...</td>\n",
       "      <td>352-litres</td>\n",
       "      <td>NaN</td>\n",
       "      <td>NaN</td>\n",
       "      <td>Seats</td>\n",
       "      <td>5.0</td>\n",
       "      <td>https://www.cardekho.com/buy-used-car-details/...</td>\n",
       "      <td>0</td>\n",
       "      <td>0.367816</td>\n",
       "      <td>0.5</td>\n",
       "      <td>2</td>\n",
       "    </tr>\n",
       "    <tr>\n",
       "      <th>2</th>\n",
       "      <td>0</td>\n",
       "      <td>4</td>\n",
       "      <td>2</td>\n",
       "      <td>0.002173</td>\n",
       "      <td>1</td>\n",
       "      <td>0.2</td>\n",
       "      <td>29</td>\n",
       "      <td>273</td>\n",
       "      <td>0.868421</td>\n",
       "      <td>2983</td>\n",
       "      <td>...</td>\n",
       "      <td>14</td>\n",
       "      <td>No Door Numbers</td>\n",
       "      <td>5</td>\n",
       "      <td>Seats</td>\n",
       "      <td>5.0</td>\n",
       "      <td>https://www.cardekho.com/used-car-details/used...</td>\n",
       "      <td>0</td>\n",
       "      <td>0.621431</td>\n",
       "      <td>0.5</td>\n",
       "      <td>2</td>\n",
       "    </tr>\n",
       "    <tr>\n",
       "      <th>3</th>\n",
       "      <td>0</td>\n",
       "      <td>4</td>\n",
       "      <td>8</td>\n",
       "      <td>0.003235</td>\n",
       "      <td>1</td>\n",
       "      <td>0.2</td>\n",
       "      <td>9</td>\n",
       "      <td>87</td>\n",
       "      <td>0.763158</td>\n",
       "      <td>1867</td>\n",
       "      <td>...</td>\n",
       "      <td>14</td>\n",
       "      <td>No Door Numbers</td>\n",
       "      <td>4</td>\n",
       "      <td>Seats</td>\n",
       "      <td>5.0</td>\n",
       "      <td>https://www.cardekho.com/buy-used-car-details/...</td>\n",
       "      <td>0</td>\n",
       "      <td>0.445680</td>\n",
       "      <td>0.5</td>\n",
       "      <td>2</td>\n",
       "    </tr>\n",
       "    <tr>\n",
       "      <th>4</th>\n",
       "      <td>0</td>\n",
       "      <td>1</td>\n",
       "      <td>7</td>\n",
       "      <td>0.010909</td>\n",
       "      <td>1</td>\n",
       "      <td>0.2</td>\n",
       "      <td>20</td>\n",
       "      <td>178</td>\n",
       "      <td>0.789474</td>\n",
       "      <td>4277</td>\n",
       "      <td>...</td>\n",
       "      <td>16</td>\n",
       "      <td>No Door Numbers</td>\n",
       "      <td>5</td>\n",
       "      <td>Seats</td>\n",
       "      <td>5.0</td>\n",
       "      <td>https://www.cardekho.com/used-car-details/used...</td>\n",
       "      <td>0</td>\n",
       "      <td>0.614386</td>\n",
       "      <td>0.5</td>\n",
       "      <td>8</td>\n",
       "    </tr>\n",
       "  </tbody>\n",
       "</table>\n",
       "<p>5 rows × 214 columns</p>\n",
       "</div>"
      ],
      "text/plain": [
       "   it  ft  bt        km  transmission  ownerNo  oem  model  modelYear  \\\n",
       "0   0   4   2  0.021818             1      0.6   20    160   0.789474   \n",
       "1   0   4   7  0.005947             1      0.4    6     50   0.868421   \n",
       "2   0   4   2  0.002173             1      0.2   29    273   0.868421   \n",
       "3   0   4   8  0.003235             1      0.2    9     87   0.763158   \n",
       "4   0   1   7  0.010909             1      0.2   20    178   0.789474   \n",
       "\n",
       "   centralVariantId  ...  data_2_list_10_value.1  data_2_list_11_key  \\\n",
       "0              3979  ...                       5        Cargo Volumn   \n",
       "1              6087  ...              352-litres                 NaN   \n",
       "2              2983  ...                      14     No Door Numbers   \n",
       "3              1867  ...                      14     No Door Numbers   \n",
       "4              4277  ...                      16     No Door Numbers   \n",
       "\n",
       "  data_2_list_11_value.1 top_5_key.1 top_5_value.2  \\\n",
       "0             235-litres         NaN           NaN   \n",
       "1                    NaN       Seats           5.0   \n",
       "2                      5       Seats           5.0   \n",
       "3                      4       Seats           5.0   \n",
       "4                      5       Seats           5.0   \n",
       "\n",
       "                                           car_links City   mileage seats  \\\n",
       "0  https://www.cardekho.com/used-car-details/used...    0  0.593993   0.5   \n",
       "1  https://www.cardekho.com/buy-used-car-details/...    0  0.367816   0.5   \n",
       "2  https://www.cardekho.com/used-car-details/used...    0  0.621431   0.5   \n",
       "3  https://www.cardekho.com/buy-used-car-details/...    0  0.445680   0.5   \n",
       "4  https://www.cardekho.com/used-car-details/used...    0  0.614386   0.5   \n",
       "\n",
       "  Insurance Validity  \n",
       "0                  8  \n",
       "1                  2  \n",
       "2                  2  \n",
       "3                  2  \n",
       "4                  8  \n",
       "\n",
       "[5 rows x 214 columns]"
      ]
     },
     "execution_count": 1036,
     "metadata": {},
     "output_type": "execute_result"
    }
   ],
   "source": [
    "final_df.head()"
   ]
  },
  {
   "cell_type": "code",
   "execution_count": 1038,
   "id": "733a3070-953e-4a4c-97bd-2d5695eaee92",
   "metadata": {},
   "outputs": [
    {
     "data": {
      "text/plain": [
       "0.0"
      ]
     },
     "execution_count": 1038,
     "metadata": {},
     "output_type": "execute_result"
    }
   ],
   "source": [
    "final_df[\"km\"].min()"
   ]
  },
  {
   "cell_type": "code",
   "execution_count": 1040,
   "id": "2eb76ce8-80f7-4dd4-a470-f9e9f1cea6b8",
   "metadata": {},
   "outputs": [
    {
     "data": {
      "text/plain": [
       "1.0"
      ]
     },
     "execution_count": 1040,
     "metadata": {},
     "output_type": "execute_result"
    }
   ],
   "source": [
    "final_df[\"km\"].max()"
   ]
  },
  {
   "cell_type": "code",
   "execution_count": 1042,
   "id": "2359b82a-47b2-4ae1-bbc1-8925c26bf672",
   "metadata": {},
   "outputs": [
    {
     "data": {
      "text/plain": [
       "0.01072260044102152"
      ]
     },
     "execution_count": 1042,
     "metadata": {},
     "output_type": "execute_result"
    }
   ],
   "source": [
    "final_df[\"km\"].mean()"
   ]
  },
  {
   "cell_type": "markdown",
   "id": "69b8e68b-1c67-45f5-ae1b-0f630a78b935",
   "metadata": {},
   "source": [
    "# OUTLIERS"
   ]
  },
  {
   "cell_type": "code",
   "execution_count": 1044,
   "id": "a7e2cff0-cef0-45cf-a01e-6809d656d435",
   "metadata": {},
   "outputs": [
    {
     "data": {
      "image/png": "[encoded data removed]",
      "text/plain": [
       "<Figure size 2000x700 with 1 Axes>"
      ]
     },
     "metadata": {},
     "output_type": "display_data"
    }
   ],
   "source": [
    "plt.figure(figsize=(20,7))\n",
    "sns.boxplot(data=final_df[[\"km\",\"price\"]])\n",
    "plt.show()"
   ]
  },
  {
   "cell_type": "code",
   "execution_count": 1046,
   "id": "0691b26a-1b99-4961-b818-737240393422",
   "metadata": {},
   "outputs": [],
   "source": [
    "def outliers(df,column):\n",
    "    q1=df[column].quantile(0.25)\n",
    "    q3=df[column].quantile(0.75)\n",
    "    IQR = q3-q1\n",
    "    lower=q1-1.5*IQR\n",
    "    upper=q3+1.5*IQR\n",
    "    return df[(df[column]>=lower)&(df[column]<=upper)]\n",
    "kilo =outliers(final_df,\"km\")\n",
    "price=outliers(kilo,\"price\")\n",
    "final_df=price"
   ]
  },
  {
   "cell_type": "code",
   "execution_count": 1048,
   "id": "6b249897-7d20-4188-879b-61240ec6a598",
   "metadata": {},
   "outputs": [
    {
     "data": {
      "image/png": "[encoded data removed]",
      "text/plain": [
       "<Figure size 2000x700 with 1 Axes>"
      ]
     },
     "metadata": {},
     "output_type": "display_data"
    }
   ],
   "source": [
    "plt.figure(figsize=(20,7))\n",
    "sns.boxplot(data=final_df[[\"km\",\"price\"]])\n",
    "plt.show()"
   ]
  },
  {
   "cell_type": "code",
   "execution_count": 1050,
   "id": "05dcc28b-431d-46ad-99dc-30eeb0e78543",
   "metadata": {},
   "outputs": [
    {
     "data": {
      "text/html": [
       "<div>\n",
       "<style scoped>\n",
       "    .dataframe tbody tr th:only-of-type {\n",
       "        vertical-align: middle;\n",
       "    }\n",
       "\n",
       "    .dataframe tbody tr th {\n",
       "        vertical-align: top;\n",
       "    }\n",
       "\n",
       "    .dataframe thead th {\n",
       "        text-align: right;\n",
       "    }\n",
       "</style>\n",
       "<table border=\"1\" class=\"dataframe\">\n",
       "  <thead>\n",
       "    <tr style=\"text-align: right;\">\n",
       "      <th></th>\n",
       "      <th>km</th>\n",
       "      <th>price</th>\n",
       "    </tr>\n",
       "  </thead>\n",
       "  <tbody>\n",
       "    <tr>\n",
       "      <th>count</th>\n",
       "      <td>7467.000000</td>\n",
       "      <td>7467.000000</td>\n",
       "    </tr>\n",
       "    <tr>\n",
       "      <th>mean</th>\n",
       "      <td>0.010719</td>\n",
       "      <td>0.063461</td>\n",
       "    </tr>\n",
       "    <tr>\n",
       "      <th>std</th>\n",
       "      <td>0.005992</td>\n",
       "      <td>0.037384</td>\n",
       "    </tr>\n",
       "    <tr>\n",
       "      <th>min</th>\n",
       "      <td>0.000000</td>\n",
       "      <td>0.000000</td>\n",
       "    </tr>\n",
       "    <tr>\n",
       "      <th>25%</th>\n",
       "      <td>0.005937</td>\n",
       "      <td>0.037040</td>\n",
       "    </tr>\n",
       "    <tr>\n",
       "      <th>50%</th>\n",
       "      <td>0.010167</td>\n",
       "      <td>0.055830</td>\n",
       "    </tr>\n",
       "    <tr>\n",
       "      <th>75%</th>\n",
       "      <td>0.014545</td>\n",
       "      <td>0.081404</td>\n",
       "    </tr>\n",
       "    <tr>\n",
       "      <th>max</th>\n",
       "      <td>0.028169</td>\n",
       "      <td>0.183180</td>\n",
       "    </tr>\n",
       "  </tbody>\n",
       "</table>\n",
       "</div>"
      ],
      "text/plain": [
       "                km        price\n",
       "count  7467.000000  7467.000000\n",
       "mean      0.010719     0.063461\n",
       "std       0.005992     0.037384\n",
       "min       0.000000     0.000000\n",
       "25%       0.005937     0.037040\n",
       "50%       0.010167     0.055830\n",
       "75%       0.014545     0.081404\n",
       "max       0.028169     0.183180"
      ]
     },
     "execution_count": 1050,
     "metadata": {},
     "output_type": "execute_result"
    }
   ],
   "source": [
    "final_df[[\"km\",\"price\"]].describe()"
   ]
  },
  {
   "cell_type": "code",
   "execution_count": 786,
   "id": "44272e5d-2db5-47f0-9280-10c5181d0bb3",
   "metadata": {},
   "outputs": [],
   "source": [
    "#saving the pre-processed file"
   ]
  },
  {
   "cell_type": "code",
   "execution_count": 1052,
   "id": "affcbe8e-9e2f-464f-aa8e-24e7f68c182e",
   "metadata": {},
   "outputs": [],
   "source": [
    "output_file= \"C:\\\\Users\\\\admin\\\\python\\\\Car Dheko - Used Car Price Prediction\\\\pre-processed.csv\"\n",
    "final_df.to_csv(output_file,index=False)"
   ]
  },
  {
   "cell_type": "markdown",
   "id": "4f3847eb-9295-4b7b-b9d2-6137e0270e88",
   "metadata": {},
   "source": [
    "# ONLY DATA CLEANING"
   ]
  },
  {
   "cell_type": "code",
   "execution_count": 1054,
   "id": "d052a7a9-72a1-40d9-8719-99aa0ce0ed93",
   "metadata": {},
   "outputs": [
    {
     "name": "stderr",
     "output_type": "stream",
     "text": [
      "C:\\Users\\admin\\AppData\\Local\\Temp\\ipykernel_12176\\338441427.py:1: DtypeWarning: Columns (13,190,191,192,193,194,195,196,197,198,199,200,201,202,203,204,205,206,207,208,210,211,212,213,214,215,234,240,242,308,309,310,311,312,313,314,315,316,317,318,319,320,321,323) have mixed types. Specify dtype option on import or set low_memory=False.\n",
      "  final_df=pd.read_csv(\"C:\\\\Users\\\\admin\\\\python\\\\Car Dheko - Used Car Price Prediction\\\\final_df.csv\")\n"
     ]
    }
   ],
   "source": [
    "final_df=pd.read_csv(\"C:\\\\Users\\\\admin\\\\python\\\\Car Dheko - Used Car Price Prediction\\\\final_df.csv\")"
   ]
  },
  {
   "cell_type": "code",
   "execution_count": 1056,
   "id": "4594a116-2c85-4491-98cd-1e791610e6d4",
   "metadata": {},
   "outputs": [
    {
     "data": {
      "text/html": [
       "<div>\n",
       "<style scoped>\n",
       "    .dataframe tbody tr th:only-of-type {\n",
       "        vertical-align: middle;\n",
       "    }\n",
       "\n",
       "    .dataframe tbody tr th {\n",
       "        vertical-align: top;\n",
       "    }\n",
       "\n",
       "    .dataframe thead th {\n",
       "        text-align: right;\n",
       "    }\n",
       "</style>\n",
       "<table border=\"1\" class=\"dataframe\">\n",
       "  <thead>\n",
       "    <tr style=\"text-align: right;\">\n",
       "      <th></th>\n",
       "      <th>it</th>\n",
       "      <th>ft</th>\n",
       "      <th>bt</th>\n",
       "      <th>km</th>\n",
       "      <th>transmission</th>\n",
       "      <th>ownerNo</th>\n",
       "      <th>owner</th>\n",
       "      <th>oem</th>\n",
       "      <th>model</th>\n",
       "      <th>modelYear</th>\n",
       "      <th>...</th>\n",
       "      <th>data_0_list_36_value</th>\n",
       "      <th>data_3_list_45_value</th>\n",
       "      <th>data_3_list_46_value</th>\n",
       "      <th>data_3_list_47_value</th>\n",
       "      <th>data_1_list_9_key</th>\n",
       "      <th>data_1_list_9_value.1</th>\n",
       "      <th>data_1_list_10_key</th>\n",
       "      <th>data_1_list_10_value.1</th>\n",
       "      <th>data_1_list_11_key</th>\n",
       "      <th>data_1_list_11_value.1</th>\n",
       "    </tr>\n",
       "  </thead>\n",
       "  <tbody>\n",
       "    <tr>\n",
       "      <th>0</th>\n",
       "      <td>0</td>\n",
       "      <td>Petrol</td>\n",
       "      <td>Hatchback</td>\n",
       "      <td>1,20,000</td>\n",
       "      <td>Manual</td>\n",
       "      <td>3</td>\n",
       "      <td>3rd Owner</td>\n",
       "      <td>Maruti</td>\n",
       "      <td>Maruti Celerio</td>\n",
       "      <td>2015</td>\n",
       "      <td>...</td>\n",
       "      <td>NaN</td>\n",
       "      <td>NaN</td>\n",
       "      <td>NaN</td>\n",
       "      <td>NaN</td>\n",
       "      <td>NaN</td>\n",
       "      <td>NaN</td>\n",
       "      <td>NaN</td>\n",
       "      <td>NaN</td>\n",
       "      <td>NaN</td>\n",
       "      <td>NaN</td>\n",
       "    </tr>\n",
       "    <tr>\n",
       "      <th>1</th>\n",
       "      <td>0</td>\n",
       "      <td>Petrol</td>\n",
       "      <td>SUV</td>\n",
       "      <td>32,706</td>\n",
       "      <td>Manual</td>\n",
       "      <td>2</td>\n",
       "      <td>2nd Owner</td>\n",
       "      <td>Ford</td>\n",
       "      <td>Ford Ecosport</td>\n",
       "      <td>2018</td>\n",
       "      <td>...</td>\n",
       "      <td>NaN</td>\n",
       "      <td>NaN</td>\n",
       "      <td>NaN</td>\n",
       "      <td>NaN</td>\n",
       "      <td>NaN</td>\n",
       "      <td>NaN</td>\n",
       "      <td>NaN</td>\n",
       "      <td>NaN</td>\n",
       "      <td>NaN</td>\n",
       "      <td>NaN</td>\n",
       "    </tr>\n",
       "    <tr>\n",
       "      <th>2</th>\n",
       "      <td>0</td>\n",
       "      <td>Petrol</td>\n",
       "      <td>Hatchback</td>\n",
       "      <td>11,949</td>\n",
       "      <td>Manual</td>\n",
       "      <td>1</td>\n",
       "      <td>1st Owner</td>\n",
       "      <td>Tata</td>\n",
       "      <td>Tata Tiago</td>\n",
       "      <td>2018</td>\n",
       "      <td>...</td>\n",
       "      <td>NaN</td>\n",
       "      <td>NaN</td>\n",
       "      <td>NaN</td>\n",
       "      <td>NaN</td>\n",
       "      <td>NaN</td>\n",
       "      <td>NaN</td>\n",
       "      <td>NaN</td>\n",
       "      <td>NaN</td>\n",
       "      <td>NaN</td>\n",
       "      <td>NaN</td>\n",
       "    </tr>\n",
       "    <tr>\n",
       "      <th>3</th>\n",
       "      <td>0</td>\n",
       "      <td>Petrol</td>\n",
       "      <td>Sedan</td>\n",
       "      <td>17,794</td>\n",
       "      <td>Manual</td>\n",
       "      <td>1</td>\n",
       "      <td>1st Owner</td>\n",
       "      <td>Hyundai</td>\n",
       "      <td>Hyundai Xcent</td>\n",
       "      <td>2014</td>\n",
       "      <td>...</td>\n",
       "      <td>NaN</td>\n",
       "      <td>NaN</td>\n",
       "      <td>NaN</td>\n",
       "      <td>NaN</td>\n",
       "      <td>NaN</td>\n",
       "      <td>NaN</td>\n",
       "      <td>NaN</td>\n",
       "      <td>NaN</td>\n",
       "      <td>NaN</td>\n",
       "      <td>NaN</td>\n",
       "    </tr>\n",
       "    <tr>\n",
       "      <th>4</th>\n",
       "      <td>0</td>\n",
       "      <td>Diesel</td>\n",
       "      <td>SUV</td>\n",
       "      <td>60,000</td>\n",
       "      <td>Manual</td>\n",
       "      <td>1</td>\n",
       "      <td>1st Owner</td>\n",
       "      <td>Maruti</td>\n",
       "      <td>Maruti SX4 S Cross</td>\n",
       "      <td>2015</td>\n",
       "      <td>...</td>\n",
       "      <td>NaN</td>\n",
       "      <td>NaN</td>\n",
       "      <td>NaN</td>\n",
       "      <td>NaN</td>\n",
       "      <td>NaN</td>\n",
       "      <td>NaN</td>\n",
       "      <td>NaN</td>\n",
       "      <td>NaN</td>\n",
       "      <td>NaN</td>\n",
       "      <td>NaN</td>\n",
       "    </tr>\n",
       "  </tbody>\n",
       "</table>\n",
       "<p>5 rows × 325 columns</p>\n",
       "</div>"
      ],
      "text/plain": [
       "   it      ft         bt        km transmission  ownerNo      owner      oem  \\\n",
       "0   0  Petrol  Hatchback  1,20,000       Manual        3  3rd Owner   Maruti   \n",
       "1   0  Petrol        SUV    32,706       Manual        2  2nd Owner     Ford   \n",
       "2   0  Petrol  Hatchback    11,949       Manual        1  1st Owner     Tata   \n",
       "3   0  Petrol      Sedan    17,794       Manual        1  1st Owner  Hyundai   \n",
       "4   0  Diesel        SUV    60,000       Manual        1  1st Owner   Maruti   \n",
       "\n",
       "                model  modelYear  ...  data_0_list_36_value  \\\n",
       "0      Maruti Celerio       2015  ...                   NaN   \n",
       "1       Ford Ecosport       2018  ...                   NaN   \n",
       "2          Tata Tiago       2018  ...                   NaN   \n",
       "3       Hyundai Xcent       2014  ...                   NaN   \n",
       "4  Maruti SX4 S Cross       2015  ...                   NaN   \n",
       "\n",
       "  data_3_list_45_value data_3_list_46_value data_3_list_47_value  \\\n",
       "0                  NaN                  NaN                  NaN   \n",
       "1                  NaN                  NaN                  NaN   \n",
       "2                  NaN                  NaN                  NaN   \n",
       "3                  NaN                  NaN                  NaN   \n",
       "4                  NaN                  NaN                  NaN   \n",
       "\n",
       "   data_1_list_9_key  data_1_list_9_value.1 data_1_list_10_key  \\\n",
       "0                NaN                    NaN                NaN   \n",
       "1                NaN                    NaN                NaN   \n",
       "2                NaN                    NaN                NaN   \n",
       "3                NaN                    NaN                NaN   \n",
       "4                NaN                    NaN                NaN   \n",
       "\n",
       "  data_1_list_10_value.1 data_1_list_11_key data_1_list_11_value.1  \n",
       "0                    NaN                NaN                    NaN  \n",
       "1                    NaN                NaN                    NaN  \n",
       "2                    NaN                NaN                    NaN  \n",
       "3                    NaN                NaN                    NaN  \n",
       "4                    NaN                NaN                    NaN  \n",
       "\n",
       "[5 rows x 325 columns]"
      ]
     },
     "execution_count": 1056,
     "metadata": {},
     "output_type": "execute_result"
    }
   ],
   "source": [
    "final_df.head()"
   ]
  },
  {
   "cell_type": "code",
   "execution_count": 1058,
   "id": "9b9ce834-9f6e-4f4a-b1b1-8283a0c7b3fa",
   "metadata": {},
   "outputs": [
    {
     "data": {
      "text/plain": [
       "(8369, 325)"
      ]
     },
     "execution_count": 1058,
     "metadata": {},
     "output_type": "execute_result"
    }
   ],
   "source": [
    "final_df.shape"
   ]
  },
  {
   "cell_type": "code",
   "execution_count": 1060,
   "id": "f07ba94e-7b1d-44a6-8eb2-945ec3fab009",
   "metadata": {},
   "outputs": [
    {
     "data": {
      "text/plain": [
       "it                         0.000000\n",
       "ft                         0.000000\n",
       "bt                         0.047795\n",
       "km                         0.000000\n",
       "transmission               0.000000\n",
       "                            ...    \n",
       "data_1_list_9_value.1     99.952205\n",
       "data_1_list_10_key        99.952205\n",
       "data_1_list_10_value.1    99.952205\n",
       "data_1_list_11_key        99.952205\n",
       "data_1_list_11_value.1    99.952205\n",
       "Length: 325, dtype: float64"
      ]
     },
     "execution_count": 1060,
     "metadata": {},
     "output_type": "execute_result"
    }
   ],
   "source": [
    "final_df.isnull().mean()*100"
   ]
  },
  {
   "cell_type": "code",
   "execution_count": 1062,
   "id": "0704e945-b912-4ad1-abed-deba21b8b074",
   "metadata": {},
   "outputs": [],
   "source": [
    "#drop columns with more than 50% nan values\n",
    "threshold=len(final_df) * 0.5\n",
    "final_df=final_df.dropna(thresh=threshold, axis=1)"
   ]
  },
  {
   "cell_type": "code",
   "execution_count": 1064,
   "id": "b2c11c09-3e53-4c37-a1f4-abe146626151",
   "metadata": {},
   "outputs": [
    {
     "data": {
      "text/plain": [
       "(8369, 215)"
      ]
     },
     "execution_count": 1064,
     "metadata": {},
     "output_type": "execute_result"
    }
   ],
   "source": [
    "final_df.shape"
   ]
  },
  {
   "cell_type": "code",
   "execution_count": 1066,
   "id": "e9f2d58b-bfad-4d51-b8db-9b46c6fff0a5",
   "metadata": {},
   "outputs": [
    {
     "data": {
      "text/plain": [
       "it                           0\n",
       "ft                           0\n",
       "bt                           4\n",
       "km                           0\n",
       "transmission                 0\n",
       "                          ... \n",
       "data_2_list_11_value.1    3918\n",
       "top_5_key.1               3243\n",
       "top_5_value.2             3243\n",
       "car_links                    0\n",
       "City                         0\n",
       "Length: 215, dtype: int64"
      ]
     },
     "execution_count": 1066,
     "metadata": {},
     "output_type": "execute_result"
    }
   ],
   "source": [
    "# checking and treating missing values\n",
    "final_df.isnull().sum()\n"
   ]
  },
  {
   "cell_type": "code",
   "execution_count": 1068,
   "id": "d8e6761a-9740-4896-aa69-c739006e7f14",
   "metadata": {},
   "outputs": [
    {
     "data": {
      "text/plain": [
       "bt\n",
       "Hatchback        3567\n",
       "SUV              2225\n",
       "Sedan            2174\n",
       "MUV               352\n",
       "Minivans           23\n",
       "Coupe              10\n",
       "Pickup Trucks       6\n",
       "Convertibles        6\n",
       "Hybrids             1\n",
       "Wagon               1\n",
       "Name: count, dtype: int64"
      ]
     },
     "execution_count": 1068,
     "metadata": {},
     "output_type": "execute_result"
    }
   ],
   "source": [
    "final_df[\"bt\"].value_counts()"
   ]
  },
  {
   "cell_type": "code",
   "execution_count": 1070,
   "id": "e8d05a70-05f7-4440-8207-832f661c2651",
   "metadata": {},
   "outputs": [
    {
     "name": "stderr",
     "output_type": "stream",
     "text": [
      "C:\\Users\\admin\\AppData\\Local\\Temp\\ipykernel_12176\\3221153751.py:1: FutureWarning: A value is trying to be set on a copy of a DataFrame or Series through chained assignment using an inplace method.\n",
      "The behavior will change in pandas 3.0. This inplace method will never work because the intermediate object on which we are setting values always behaves as a copy.\n",
      "\n",
      "For example, when doing 'df[col].method(value, inplace=True)', try using 'df.method({col: value}, inplace=True)' or df[col] = df[col].method(value) instead, to perform the operation inplace on the original object.\n",
      "\n",
      "\n",
      "  final_df[\"bt\"].fillna(final_df[\"bt\"].mode()[0],inplace=True)\n"
     ]
    }
   ],
   "source": [
    "final_df[\"bt\"].fillna(final_df[\"bt\"].mode()[0],inplace=True)"
   ]
  },
  {
   "cell_type": "code",
   "execution_count": 1072,
   "id": "d5a1c6c5-a640-42d7-8c69-132bbd8360cb",
   "metadata": {},
   "outputs": [
    {
     "data": {
      "text/plain": [
       "0"
      ]
     },
     "execution_count": 1072,
     "metadata": {},
     "output_type": "execute_result"
    }
   ],
   "source": [
    "final_df[\"ownerNo\"].isnull().sum()"
   ]
  },
  {
   "cell_type": "code",
   "execution_count": 1074,
   "id": "d1d883e2-42df-468a-8d18-6d4238b1e7a8",
   "metadata": {},
   "outputs": [
    {
     "data": {
      "text/plain": [
       "0"
      ]
     },
     "execution_count": 1074,
     "metadata": {},
     "output_type": "execute_result"
    }
   ],
   "source": [
    "final_df[\"oem\"].isnull().sum()"
   ]
  },
  {
   "cell_type": "code",
   "execution_count": 1076,
   "id": "ced2aa71-1bab-4a8a-a12e-76ad4d3c95e1",
   "metadata": {},
   "outputs": [
    {
     "data": {
      "text/plain": [
       "0"
      ]
     },
     "execution_count": 1076,
     "metadata": {},
     "output_type": "execute_result"
    }
   ],
   "source": [
    "final_df[\"model\"].isnull().sum()"
   ]
  },
  {
   "cell_type": "code",
   "execution_count": 1078,
   "id": "f4a6937b-c292-4b99-bc87-6058bca5d6da",
   "metadata": {},
   "outputs": [
    {
     "data": {
      "text/plain": [
       "0"
      ]
     },
     "execution_count": 1078,
     "metadata": {},
     "output_type": "execute_result"
    }
   ],
   "source": [
    "final_df[\"modelYear\"].isnull().sum()"
   ]
  },
  {
   "cell_type": "code",
   "execution_count": 822,
   "id": "0177b1a8-d4ac-4194-b3f9-272264d7f112",
   "metadata": {},
   "outputs": [
    {
     "data": {
      "text/plain": [
       "0"
      ]
     },
     "execution_count": 822,
     "metadata": {},
     "output_type": "execute_result"
    }
   ],
   "source": [
    "final_df[\"variantName\"].isnull().sum()"
   ]
  },
  {
   "cell_type": "code",
   "execution_count": 1080,
   "id": "0ef579e8-4a36-41a3-b67a-449d110c4b89",
   "metadata": {},
   "outputs": [
    {
     "data": {
      "text/plain": [
       "0"
      ]
     },
     "execution_count": 1080,
     "metadata": {},
     "output_type": "execute_result"
    }
   ],
   "source": [
    "final_df[\"top_1_value\"].isnull().sum()"
   ]
  },
  {
   "cell_type": "code",
   "execution_count": 826,
   "id": "9e012539-ca68-4798-a262-3debfee97339",
   "metadata": {},
   "outputs": [],
   "source": [
    "#coversion type for price"
   ]
  },
  {
   "cell_type": "code",
   "execution_count": 1082,
   "id": "75f3165f-a0f4-4ee9-ac91-44cee2a82228",
   "metadata": {},
   "outputs": [],
   "source": [
    "def cov_price(price):\n",
    "    try:\n",
    "        price_s = str(price).replace(\"₹\",\"\").replace(\",\",\"\").strip()\n",
    "        if \"Lakh\" in price_s:\n",
    "            return float(price_s.replace(\"Lakh\",\"\").strip())*100000\n",
    "        return float(price_s)\n",
    "    except ValueError:\n",
    "        return np.nan"
   ]
  },
  {
   "cell_type": "code",
   "execution_count": 1084,
   "id": "cc22e045-0457-4ffb-aef5-83979b2c2100",
   "metadata": {},
   "outputs": [],
   "source": [
    "final_df[\"price\"] =final_df[\"price\"].apply(cov_price)"
   ]
  },
  {
   "cell_type": "code",
   "execution_count": 1086,
   "id": "4cd621a7-6fe8-4af9-b436-a973ec7ea05b",
   "metadata": {},
   "outputs": [
    {
     "data": {
      "text/plain": [
       "20"
      ]
     },
     "execution_count": 1086,
     "metadata": {},
     "output_type": "execute_result"
    }
   ],
   "source": [
    "final_df[\"price\"].isnull().sum()"
   ]
  },
  {
   "cell_type": "code",
   "execution_count": 1088,
   "id": "703e3c04-486b-4969-834d-860703db7b05",
   "metadata": {},
   "outputs": [
    {
     "name": "stderr",
     "output_type": "stream",
     "text": [
      "C:\\Users\\admin\\AppData\\Local\\Temp\\ipykernel_12176\\1865049444.py:2: FutureWarning: A value is trying to be set on a copy of a DataFrame or Series through chained assignment using an inplace method.\n",
      "The behavior will change in pandas 3.0. This inplace method will never work because the intermediate object on which we are setting values always behaves as a copy.\n",
      "\n",
      "For example, when doing 'df[col].method(value, inplace=True)', try using 'df.method({col: value}, inplace=True)' or df[col] = df[col].method(value) instead, to perform the operation inplace on the original object.\n",
      "\n",
      "\n",
      "  final_df[\"price\"].fillna(final_df[\"price\"].median(),inplace=True)\n"
     ]
    }
   ],
   "source": [
    "#filling missing value\n",
    "final_df[\"price\"].fillna(final_df[\"price\"].median(),inplace=True)"
   ]
  },
  {
   "cell_type": "code",
   "execution_count": 1090,
   "id": "b97fbad3-0a33-4712-b2d2-048aca344a73",
   "metadata": {},
   "outputs": [
    {
     "data": {
      "text/plain": [
       "0"
      ]
     },
     "execution_count": 1090,
     "metadata": {},
     "output_type": "execute_result"
    }
   ],
   "source": [
    "final_df[\"price\"].isnull().sum()"
   ]
  },
  {
   "cell_type": "code",
   "execution_count": 1092,
   "id": "845eeb12-d89c-4462-82d5-9ee6f9bc750a",
   "metadata": {},
   "outputs": [],
   "source": [
    "#changing km into kms\n",
    "final_df[\"km\"] =final_df[\"km\"].str.replace(\"kms\",\"\").str.replace(\",\",\"\").astype(float)"
   ]
  },
  {
   "cell_type": "code",
   "execution_count": 1094,
   "id": "e18bcd86-704e-4660-b2b7-2b926cb68620",
   "metadata": {},
   "outputs": [
    {
     "data": {
      "text/plain": [
       "0"
      ]
     },
     "execution_count": 1094,
     "metadata": {},
     "output_type": "execute_result"
    }
   ],
   "source": [
    "final_df[\"km\"].isnull().sum()"
   ]
  },
  {
   "cell_type": "code",
   "execution_count": 1096,
   "id": "6cdc7d99-7510-41a2-94f6-a571cca0cf66",
   "metadata": {},
   "outputs": [],
   "source": [
    "#clean mileage from top_0_value.2\n",
    "def car_mileage(mileage):\n",
    "    try:\n",
    "        mileage_s = str(mileage).replace(\"kmpl\",\"\").replace(\"km/mg\",\"\").strip()\n",
    "        mileage_float= float(mileage_s)\n",
    "        if mileage_float <100:\n",
    "            return mileage_float\n",
    "        else:\n",
    "            return np.nan\n",
    "    except ValueError:\n",
    "        return np.nan"
   ]
  },
  {
   "cell_type": "code",
   "execution_count": 1098,
   "id": "64241c6a-d644-49af-897a-d69ec5575e79",
   "metadata": {},
   "outputs": [],
   "source": [
    "final_df[\"mileage\"] =final_df[\"top_0_value.2\"].apply(car_mileage)"
   ]
  },
  {
   "cell_type": "code",
   "execution_count": 1100,
   "id": "d7ce4cca-f974-4355-b537-e2e6f98a67fc",
   "metadata": {},
   "outputs": [
    {
     "data": {
      "text/plain": [
       "3.847532560640459"
      ]
     },
     "execution_count": 1100,
     "metadata": {},
     "output_type": "execute_result"
    }
   ],
   "source": [
    "final_df[\"mileage\"].isnull().mean()*100"
   ]
  },
  {
   "cell_type": "code",
   "execution_count": 1102,
   "id": "90f53a27-145b-4121-932f-287a944ad81e",
   "metadata": {},
   "outputs": [
    {
     "name": "stderr",
     "output_type": "stream",
     "text": [
      "C:\\Users\\admin\\AppData\\Local\\Temp\\ipykernel_12176\\676305924.py:2: FutureWarning: A value is trying to be set on a copy of a DataFrame or Series through chained assignment using an inplace method.\n",
      "The behavior will change in pandas 3.0. This inplace method will never work because the intermediate object on which we are setting values always behaves as a copy.\n",
      "\n",
      "For example, when doing 'df[col].method(value, inplace=True)', try using 'df.method({col: value}, inplace=True)' or df[col] = df[col].method(value) instead, to perform the operation inplace on the original object.\n",
      "\n",
      "\n",
      "  final_df[\"mileage\"].fillna(final_df[\"mileage\"].mean(),inplace=True)\n"
     ]
    }
   ],
   "source": [
    "#replacing null value with mean value\n",
    "final_df[\"mileage\"].fillna(final_df[\"mileage\"].mean(),inplace=True)"
   ]
  },
  {
   "cell_type": "code",
   "execution_count": 1104,
   "id": "db97c4b2-b633-419e-bdec-b836c39c5e14",
   "metadata": {},
   "outputs": [
    {
     "data": {
      "text/plain": [
       "0.0"
      ]
     },
     "execution_count": 1104,
     "metadata": {},
     "output_type": "execute_result"
    }
   ],
   "source": [
    "final_df[\"mileage\"].isnull().mean()*100"
   ]
  },
  {
   "cell_type": "code",
   "execution_count": 1106,
   "id": "110223be-2300-4e7c-88e8-83cb8f31d4ad",
   "metadata": {},
   "outputs": [],
   "source": [
    "#changing seat into int\n",
    "def car_seats(seats):\n",
    "    try:\n",
    "        seat_s = re.search(r'\\d+', str(seats))\n",
    "        if seat_s:\n",
    "            seats_int = int(seat_s.group())\n",
    "            if seats_int < 10:\n",
    "                return seats_int\n",
    "            else:\n",
    "                return np.nan\n",
    "    except (ValueError, TypeError):\n",
    "        return np.nan\n",
    "        "
   ]
  },
  {
   "cell_type": "code",
   "execution_count": 1108,
   "id": "0aa2fd0b-7109-4aed-9640-b791dba47d67",
   "metadata": {},
   "outputs": [],
   "source": [
    "final_df[\"seats\"]=final_df[\"top_3_value\"].apply(car_seats)"
   ]
  },
  {
   "cell_type": "code",
   "execution_count": 1110,
   "id": "297a9e2b-15df-4163-b817-1a304c9df499",
   "metadata": {},
   "outputs": [
    {
     "data": {
      "text/plain": [
       "seats\n",
       "5.0    7309\n",
       "7.0     731\n",
       "6.0      99\n",
       "4.0      92\n",
       "8.0      61\n",
       "9.0      11\n",
       "1.0       9\n",
       "2.0       7\n",
       "Name: count, dtype: int64"
      ]
     },
     "execution_count": 1110,
     "metadata": {},
     "output_type": "execute_result"
    }
   ],
   "source": [
    "final_df[\"seats\"].value_counts()"
   ]
  },
  {
   "cell_type": "code",
   "execution_count": 1112,
   "id": "94a57c68-9107-4366-b56c-58466b83fe47",
   "metadata": {},
   "outputs": [
    {
     "name": "stderr",
     "output_type": "stream",
     "text": [
      "C:\\Users\\admin\\AppData\\Local\\Temp\\ipykernel_12176\\1965945630.py:2: FutureWarning: A value is trying to be set on a copy of a DataFrame or Series through chained assignment using an inplace method.\n",
      "The behavior will change in pandas 3.0. This inplace method will never work because the intermediate object on which we are setting values always behaves as a copy.\n",
      "\n",
      "For example, when doing 'df[col].method(value, inplace=True)', try using 'df.method({col: value}, inplace=True)' or df[col] = df[col].method(value) instead, to perform the operation inplace on the original object.\n",
      "\n",
      "\n",
      "  final_df[\"seats\"].fillna(final_df[\"seats\"].mode()[0], inplace=True)\n"
     ]
    }
   ],
   "source": [
    "#replacing null value with mode value\n",
    "final_df[\"seats\"].fillna(final_df[\"seats\"].mode()[0], inplace=True)"
   ]
  },
  {
   "cell_type": "code",
   "execution_count": 1114,
   "id": "2816933e-cfd7-4d06-aec2-135441507856",
   "metadata": {},
   "outputs": [
    {
     "data": {
      "text/plain": [
       "0"
      ]
     },
     "execution_count": 1114,
     "metadata": {},
     "output_type": "execute_result"
    }
   ],
   "source": [
    "final_df[\"seats\"].isnull().sum()"
   ]
  },
  {
   "cell_type": "code",
   "execution_count": 1116,
   "id": "f4a2f662-4efa-4927-9e8b-468323f69354",
   "metadata": {},
   "outputs": [],
   "source": [
    "#dropping top_3_value and top_0_value.2\n",
    "final_df.drop([\"top_3_value\",\"top_0_value.2\"],axis=1,inplace=True)"
   ]
  },
  {
   "cell_type": "code",
   "execution_count": 1118,
   "id": "f15fdedd-de3f-4a54-8489-2acf10b96e60",
   "metadata": {},
   "outputs": [],
   "source": [
    "# dropping the repeated column owner\n",
    "final_df.drop(\"owner\",axis=1,inplace=True)"
   ]
  },
  {
   "cell_type": "code",
   "execution_count": 1124,
   "id": "3f7ebfd8-f276-4b34-b7b8-2c00a3225daa",
   "metadata": {},
   "outputs": [],
   "source": [
    "#changing column name\n",
    "final_df[\"Insurance Validity\"] =final_df[\"top_1_value\"]"
   ]
  },
  {
   "cell_type": "code",
   "execution_count": 1126,
   "id": "612a0dff-4068-43c0-a035-04cd52450f1a",
   "metadata": {},
   "outputs": [
    {
     "data": {
      "text/plain": [
       "0       Third Party insurance\n",
       "1               Comprehensive\n",
       "2               Comprehensive\n",
       "3               Comprehensive\n",
       "4       Third Party insurance\n",
       "                ...          \n",
       "8364    Third Party insurance\n",
       "8365    Third Party insurance\n",
       "8366    Third Party insurance\n",
       "8367    Third Party insurance\n",
       "8368    Third Party insurance\n",
       "Name: Insurance Validity, Length: 8369, dtype: object"
      ]
     },
     "execution_count": 1126,
     "metadata": {},
     "output_type": "execute_result"
    }
   ],
   "source": [
    "final_df[\"Insurance Validity\"]"
   ]
  },
  {
   "cell_type": "code",
   "execution_count": 1128,
   "id": "66cce470-d338-43ba-afcb-faa9605dce14",
   "metadata": {},
   "outputs": [],
   "source": [
    "#dropping column\n",
    "final_df.drop(\"top_1_value\",axis=1,inplace=True)"
   ]
  },
  {
   "cell_type": "code",
   "execution_count": 1130,
   "id": "3ddbfe12-d9c1-4608-beaf-2ed9be5a4cad",
   "metadata": {},
   "outputs": [
    {
     "data": {
      "text/plain": [
       "0"
      ]
     },
     "execution_count": 1130,
     "metadata": {},
     "output_type": "execute_result"
    }
   ],
   "source": [
    "final_df[\"Insurance Validity\"].isnull().sum()"
   ]
  },
  {
   "cell_type": "code",
   "execution_count": 1132,
   "id": "30d8b643-f69e-4911-866a-489d6a6f2877",
   "metadata": {},
   "outputs": [],
   "source": [
    "output_file= \"C:\\\\Users\\\\admin\\\\python\\\\Car Dheko - Used Car Price Prediction\\\\data_cleaning.csv\"\n",
    "final_df.to_csv(output_file,index=False)"
   ]
  },
  {
   "cell_type": "markdown",
   "id": "5b486f91-3ab4-4fac-917c-5ac28c03b445",
   "metadata": {},
   "source": [
    "# DATA VISUALIZATION"
   ]
  },
  {
   "cell_type": "code",
   "execution_count": 1179,
   "id": "02a2de5f-c821-45c9-ba83-8eba24e9c3ed",
   "metadata": {},
   "outputs": [
    {
     "name": "stderr",
     "output_type": "stream",
     "text": [
      "C:\\Users\\admin\\AppData\\Local\\Temp\\ipykernel_12176\\2230406348.py:1: DtypeWarning: Columns (148,154,156) have mixed types. Specify dtype option on import or set low_memory=False.\n",
      "  processed_df=pd.read_csv(\"C:\\\\Users\\\\admin\\\\python\\\\Car Dheko - Used Car Price Prediction\\\\data_cleaning.csv\")\n"
     ]
    }
   ],
   "source": [
    "processed_df=pd.read_csv(\"C:\\\\Users\\\\admin\\\\python\\\\Car Dheko - Used Car Price Prediction\\\\data_cleaning.csv\")"
   ]
  },
  {
   "cell_type": "code",
   "execution_count": null,
   "id": "3fc2648e-47b1-4b43-be60-65dcb763b871",
   "metadata": {},
   "outputs": [],
   "source": []
  }
 ],
 "metadata": {
  "kernelspec": {
   "display_name": "Python 3 (ipykernel)",
   "language": "python",
   "name": "python3"
  },
  "language_info": {
   "codemirror_mode": {
    "name": "ipython",
    "version": 3
   },
   "file_extension": ".py",
   "mimetype": "text/x-python",
   "name": "python",
   "nbconvert_exporter": "python",
   "pygments_lexer": "ipython3",
   "version": "3.12.4"
  }
 },
 "nbformat": 4,
 "nbformat_minor": 5
}

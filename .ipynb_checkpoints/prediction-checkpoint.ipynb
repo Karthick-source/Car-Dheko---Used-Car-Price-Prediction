{
 "cells": [
  {
   "cell_type": "code",
   "execution_count": 11,
   "id": "9b863a18-09a9-4482-a14f-c1524dda9190",
   "metadata": {},
   "outputs": [],
   "source": [
    "import streamlit as st\n",
    "import pandas as pd\n",
    "import joblib\n",
    "import numpy as np\n",
    "\n",
    "# Set page config at the top of the script\n",
    "st.set_page_config(page_title=\"Car Price Predictor\", layout=\"wide\", initial_sidebar_state=\"expanded\")\n",
    "\n",
    "# Load model and feature data\n",
    "model_path = 'C:\\\\Users\\\\admin\\\\python\\\\Car Dheko - Used Car Price Prediction\\\\random_forest.joblib'\n",
    "label_encoder_path = 'C:\\\\Users\\\\admin\\\\python\\\\Car Dheko - Used Car Price Prediction\\\\label_encoder.pkl'\n",
    "scaler_path = 'C:\\\\Users\\\\admin\\\\python\\\\Car Dheko - Used Car Price Prediction\\\\scaler.pkl'\n",
    "features_path = 'C:\\\\Users\\\\admin\\\\python\\\\Car Dheko - Used Car Price Prediction\\\\data_cleaning.csv'\n",
    "\n",
    "model = joblib.load(model_path)\n",
    "label_encoder = joblib.load(label_encoder_path)\n",
    "scaler = joblib.load(scaler_path)\n",
    "df_features = pd.read_csv(features_path)\n",
    "\n",
    "# Features used for training\n",
    "features = ['modelYear', 'bt', 'mileage', 'transmission', 'model', 'variantName', 'ft', 'km']\n",
    "\n",
    "# Main page navigation\n",
    "def main():\n",
    "    st.sidebar.title(\"Navigation\")\n",
    "    page = st.sidebar.radio(\"Go to\", [\"Home\", \"Car Price Prediction\", \"About\"])\n",
    "\n",
    "    if page == \"Home\":\n",
    "        st.title(\"Welcome to the Car Dheko - Car Price Prediction App\")\n",
    "        st.write(\"This app allows you to predict car prices based on various features.\")\n",
    "\n",
    "    elif page == \"Car Price Prediction\":\n",
    "        st.sidebar.header('Input Car Features')\n",
    "        \n",
    "        # Sidebar inputs\n",
    "        selected_model = visual_selectbox('1. Car Model', df_features['model'].unique())\n",
    "        body_type = visual_selectbox('2. Body Type', df_features['bt'].unique())\n",
    "        fuel_type = visual_selectbox('3. Fuel Type', df_features['ft'].unique())\n",
    "        transmission = visual_selectbox('4. Transmission Type', df_features['transmission'].unique())\n",
    "        \n",
    "        modelYear = st.sidebar.number_input('5. Year of Manufacture', min_value=1980, max_value=2024, value=2015)\n",
    "        km = st.sidebar.number_input('6. Kilometers Driven', min_value=0, max_value=500000, value=10000)\n",
    "\n",
    "        # Adjust mileage slider\n",
    "        min_mileage = np.floor(df_features['mileage'].min())\n",
    "        max_mileage = np.ceil(df_features['mileage'].max())\n",
    "        mileage = st.sidebar.slider('7. Mileage (kmpl)', min_value=float(min_mileage), max_value=float(max_mileage), value=float(min_mileage), step=0.5)\n",
    "\n",
    "        # Button to trigger prediction\n",
    "        if st.sidebar.button('Predict'):\n",
    "            user_input_data = {\n",
    "                'modelYear': modelYear,\n",
    "                'bt': body_type,\n",
    "                'km': km,\n",
    "                'transmission': transmission,\n",
    "                'model': selected_model,\n",
    "                'variantName': '',  # Placeholder if needed\n",
    "                'ft': fuel_type,\n",
    "                'mileage': mileage,\n",
    "            }\n",
    "\n",
    "            user_df = pd.DataFrame([user_input_data])\n",
    "            user_df = user_df[features]\n",
    "\n",
    "            # Optional: Add any preprocessing steps if needed\n",
    "            # user_df = preprocess_input(user_df)  # Uncomment if you have a preprocessing function\n",
    "\n",
    "            # Prediction\n",
    "            try:\n",
    "                prediction = model.predict(user_df)\n",
    "                st.success(f\"The predicted car price is: ₹{prediction[0]:,.2f}\")\n",
    "            except Exception as e:\n",
    "                st.error(f\"Error making prediction: {e}\")\n",
    "\n",
    "    elif page == \"About\":\n",
    "        st.title(\"About\")\n",
    "        st.write(\"This application uses a Random Forest model to predict car prices based on various features.\")\n",
    "\n",
    "# Function for visual selectbox\n",
    "def visual_selectbox(label, options, index=0):\n",
    "    selected_option = st.sidebar.selectbox(label, options, index=index)\n",
    "    return selected_option\n",
    "\n",
    "if __name__ == '__main__':\n",
    "    main()\n"
   ]
  },
  {
   "cell_type": "code",
   "execution_count": 19,
   "id": "2339287d-5b1b-4bbb-895e-c24dfb64021a",
   "metadata": {},
   "outputs": [
    {
     "data": {
      "text/plain": [
       "'1.37.1'"
      ]
     },
     "execution_count": 19,
     "metadata": {},
     "output_type": "execute_result"
    }
   ],
   "source": [
    "st. __version__"
   ]
  },
  {
   "cell_type": "code",
   "execution_count": null,
   "id": "5349e079-e76b-4ce4-9fd9-a808cabf9026",
   "metadata": {},
   "outputs": [],
   "source": []
  }
 ],
 "metadata": {
  "kernelspec": {
   "display_name": "Python 3 (ipykernel)",
   "language": "python",
   "name": "python3"
  },
  "language_info": {
   "codemirror_mode": {
    "name": "ipython",
    "version": 3
   },
   "file_extension": ".py",
   "mimetype": "text/x-python",
   "name": "python",
   "nbconvert_exporter": "python",
   "pygments_lexer": "ipython3",
   "version": "3.12.4"
  }
 },
 "nbformat": 4,
 "nbformat_minor": 5
}
